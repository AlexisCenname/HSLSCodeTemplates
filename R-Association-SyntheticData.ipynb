{
 "cells": [
  {
   "cell_type": "markdown",
   "id": "85df85b8",
   "metadata": {
    "editable": false,
    "slideshow": {
     "slide_type": ""
    },
    "tags": []
   },
   "source": [
    "---\n",
    "<div style=\"text-align: center; margin-bottom: 25px; font-size: 35px;font-weight: bold; padding: 20px; border-radius: 10px;\">\n",
    "🅡 Example Condition Association Template\n",
    "</div>\n"
   ]
  },
  {
   "cell_type": "markdown",
   "id": "a2d58176-e73b-4e54-ab01-8477e724ee25",
   "metadata": {
    "editable": false,
    "slideshow": {
     "slide_type": ""
    },
    "tags": []
   },
   "source": [
    "<div style=\"text-align: center; font-weight: bold; font-size: 25px\">\n",
    "Table of Contents<a class='anchor' id='top'></a>\n",
    "\n",
    "<table style=\"margin: auto;\">\n",
    "    <tr>\n",
    "        <td style=\"text-align: left;\"><a href=\"#section_1\">1. Introduction</a></td>\n",
    "    </tr>\n",
    "    <tr>\n",
    "        <td style=\"text-align: left;\"><a href=\"#section_2\">2. Import Libraries</a></td>\n",
    "    </tr>\n",
    "    <tr>\n",
    "        <td style=\"text-align: left;\"><a href=\"#section_3\">3. Import Data</a></td>\n",
    "    </tr>\n",
    "    <tr>\n",
    "        <td style=\"text-align: left;\"><a href=\"#section_4\">4. Relabel Data Frames</a></td>\n",
    "    </tr>\n",
    "    <tr>\n",
    "        <td style=\"text-align: left;\"><a href=\"#section_5\">5. Creating a Column for the Outcome</a></td>\n",
    "    </tr>\n",
    "    <tr>\n",
    "        <td style=\"text-align: left;\"><a href=\"#section_6\">6. Creating a Column for the Predictor</a></td>\n",
    "    </tr>\n",
    "    <tr>\n",
    "        <td style=\"text-align: left;\"><a href=\"#section_7\">7. Join the Data Frames</a></td>\n",
    "    </tr>\n",
    "    <tr>\n",
    "        <td style=\"text-align: left;\"><a href=\"#section_8\">8. Replace NAs</a></td>\n",
    "    </tr>\n",
    "    <tr>\n",
    "        <td style=\"text-align: left;\"><a href=\"#section_9\">9. Factor the Categorical Variables</a></td>\n",
    "    </tr>\n",
    "    <tr>\n",
    "        <td style=\"text-align: left;\"><a href=\"#section_10\">10. Calculate Age</a></td>\n",
    "    </tr>\n",
    "    <tr>\n",
    "        <td style=\"text-align: left;\"><a href=\"#section_11\">11. Explore Cleaned Data</a></td>\n",
    "    </tr>\n",
    "    <tr>\n",
    "        <td style=\"text-align: left; padding-left: 20px;\"><a href=\"#section_11_1\">11.1 Numerical Summary</a></td>\n",
    "    </tr>\n",
    "    <tr>\n",
    "        <td style=\"text-align: left; padding-left: 40px;\"><a href=\"#section_11_1_1\">11.1.1 Equality of Variance Test</a></td>\n",
    "    </tr>\n",
    "    <tr>\n",
    "        <td style=\"text-align: left; padding-left: 20px;\"><a href=\"#section_11_2\">11.2 Graphical Summaries</a></td>\n",
    "    </tr>\n",
    "    <tr>\n",
    "        <td style=\"text-align: left; padding-left: 40px;\"><a href=\"#section_11_2_1\">11.2.1 Density/Histogram Plot</a></td>\n",
    "    </tr>\n",
    "    <tr>\n",
    "        <td style=\"text-align: left; padding-left: 40px;\"><a href=\"#section_11_2_2\">11.2.2 Bar Plot</a></td>\n",
    "    </tr>\n",
    "    <tr>\n",
    "        <td style=\"text-align: left;\"><a href=\"#section_12\">12. Statistical Analysis</a></td>\n",
    "    </tr>\n",
    "    <tr>\n",
    "        <td style=\"text-align: left; padding-left: 20px;\"><a href=\"#section_12_1\">12.1 Unadjusted Logistic Regression</a></td>\n",
    "    </tr>\n",
    "    <tr>\n",
    "        <td style=\"text-align: left; padding-left: 40px;\"><a href=\"#section_12_1_1\">12.1.1 Odds Ratio and Confidence Interval</a></td>\n",
    "    </tr>\n",
    "    <tr>\n",
    "        <td style=\"text-align: left; padding-left: 20px;\"><a href=\"#section_12_2\">12.2 Adjusted Logistic Regression</a></td>\n",
    "    </tr>\n",
    "    <tr>\n",
    "        <td style=\"text-align: left; padding-left: 40px;\"><a href=\"#section_12_2_1\">12.2.1 Likelihood Ratio Test</a></td>\n",
    "    </tr>\n",
    "    <tr>\n",
    "        <td style=\"text-align: left; padding-left: 40px;\"><a href=\"#section_12_2_2\">12.2.2 Odds Ratio and Confidence Interval</a></td>\n",
    "    </tr>\n",
    "    <tr>\n",
    "        <td style=\"text-align: left; padding-left: 40px;\"><a href=\"#section_12_2_3\">12.2.3 Summary of Logistic Regressions</a></td>\n",
    "    </tr>\n",
    "    <tr>\n",
    "        <td style=\"text-align: left; padding-left: 40px;\"><a href=\"#section_12_2_4\">12.2.4 Forest Plot</a></td>\n",
    "    </tr>\n",
    "    <tr>\n",
    "        <td style=\"text-align: left; padding-left: 20px;\"><a href=\"#section_12_3\">12.3 Stratified Logistic Regression</a></td>\n",
    "    </tr>\n",
    "    <tr>\n",
    "        <td style=\"text-align: left; padding-left: 40px;\"><a href=\"#section_12_3_1\">12.3.1 Odds Ratio and Confidence Interval</a></td>\n",
    "    </tr>\n",
    "</table>\n",
    "\n",
    "</div>"
   ]
  },
  {
   "cell_type": "markdown",
   "id": "0761eba8-0af6-4128-ad76-39d6beacba2d",
   "metadata": {
    "editable": false,
    "slideshow": {
     "slide_type": ""
    },
    "tags": []
   },
   "source": [
    "---"
   ]
  },
  {
   "cell_type": "markdown",
   "id": "53ba3a25-e820-4b6f-b23b-6dba15873686",
   "metadata": {
    "editable": false,
    "slideshow": {
     "slide_type": ""
    },
    "tags": []
   },
   "source": [
    "<div style=\"text-align: center; margin-bottom: 25px; background-color: #E6FFE6; padding: 10px; border-radius: 10px;\">\n",
    "\n",
    "<a id='section_1'></a>\n",
    "\n",
    "<h1 style=\"color: #2E86C1; font-weight: bold;\">Introduction 👋</h1>\n",
    "\n",
    "</div>\n",
    "\n",
    "\n",
    "<div style=\"text-align: center; font-size: 13px; margin: 0 auto; width: 80%; border: 2px solid #2E86C1; padding: 20px; border-radius: 10px; box-shadow: 0 4px 8px rgba(0,0,0,0.1);\">\n",
    "\n",
    "**Welcome to the Condition Association Code Template tailored for the All of Us (AoU) data!** Our goal is to guide you through analyzing the relationship between two conditions using AoU data. This template offers a comprehensive pathway and code samples to simplify your analysis. It's designed for both beginners and experienced analysts. Please follow the [**AoU Condition Association Code Template Instructions**](https://drive.google.com/file/d/1gjwjX3Vq6GVTUkpQM_4PanhTBQScL8Fp/view?usp=sharing) to build your cohorts and data frames for this template. This is the only way to guarantee consistent results.\n",
    "\n",
    "**To upload these templates to a workspace in the All of Us Researcher Workbench, please [follow these instructions](https://support.researchallofus.org/hc/en-us/articles/360042684051-Are-external-coding-files-able-to-be-imported-for-analysis-)**\n",
    "    \n",
    "<font color='red' size=\"4\"><strong>Note: Each section contains important information. Please read them carefully! </strong></font>\n",
    "\n",
    "<div style=\"color: #2E86C1; text-align: center; margin-bottom: 10px; font-size: 20px; font-weight: bold; padding: 10px; border-radius: 10px;\">\n",
    "<u>Learning Objectives:</u>\n",
    "</div>\n",
    "<ul style=\"list-style-position: inside; text-align: left; display: inline-block;\">\n",
    "    <li><strong>Set up R in Jupyter and load required libraries and packages.</strong></li>\n",
    "    <li><strong>Load and prepare dataframes for analysis.</strong></li>\n",
    "    <li><strong>Produce a data summary table.</strong></li>\n",
    "    <li><strong>Create and interpret visualizations, such as bar charts and density plots.</strong></li>\n",
    "    <li><strong>Conduct and interpret various tests and regressions:</strong>\n",
    "        <ul style=\"padding-left: 40px;\">\n",
    "            <li><strong>Use the Chi-square test for categorical data.</strong></li>\n",
    "            <li><strong>Apply the ANOVA for comparing means.</strong></li>\n",
    "            <li><strong>Perform unadjusted logistic regression for binary outcomes with one predictor.</strong></li>\n",
    "            <li><strong>Run adjusted logistic regression with multiple predictors.</strong></li>\n",
    "        </ul>\n",
    "    </li>\n",
    "    <li><strong>Draw conclusions from your analysis, considering the implications and limitations.</strong></li>\n",
    "</ul>\n",
    "\n",
    "</div>\n"
   ]
  },
  {
   "cell_type": "markdown",
   "id": "2f45dfab-4a9a-4e9f-8f6b-3c04c36de356",
   "metadata": {
    "editable": false,
    "slideshow": {
     "slide_type": ""
    },
    "tags": []
   },
   "source": [
    "---"
   ]
  },
  {
   "cell_type": "markdown",
   "id": "7b20458e-336c-4900-83db-f23f999fed8b",
   "metadata": {
    "editable": false,
    "slideshow": {
     "slide_type": ""
    },
    "tags": []
   },
   "source": [
    "<div style=\"text-align: center; margin-bottom: 25px; background-color: #E6FFE6; padding: 10px; border-radius: 10px;\">\n",
    "\n",
    "<a id='section_2'></a>\n",
    "\n",
    "<h1 style=\"color: #2E86C1; font-weight: bold;\">Import Libraries 📚</h1>\n",
    "\n",
    "</div>\n",
    "\n",
    "<div style=\"border: 2px solid #2E86C1; padding: 20px; border-radius: 10px; margin: 20px 0; box-shadow: 0 4px 8px rgba(0,0,0,0.1);\">\n",
    "\n",
    "<div style=\"font-size: 13px; text-align: center; width: 80%; margin: 20px auto; line-height: 1.6; color: #333;\">\n",
    "The code below installs and imports all of the packages needed for this analysis. <br>\n",
    "<br>\n",
    "\n",
    "<strong>Automatically Imported by All of Us:</strong> `tidyverse`, `bigrquery`\n",
    "\n",
    "<strong>Require Manual Import:</strong> `arsenal`, `IRdisplay`, `forestplot`, `car`, `lmtest`\n",
    "\n",
    "</div>\n",
    "\n",
    "</div>\n",
    "\n",
    "<div style=\"text-align: center; margin: 20px auto; width: 80%; font-size: 13px; background-color: #e6f2ff; padding: 15px; border-radius: 6px; line-height: 1.6; border: 1px solid #2E86C1;\">\n",
    "<b>Note:</b> Packages are auto-imported only when using the DatasetBuilder to export dataframes. Without the DatasetBuilder, no packages are imported automatically.\n",
    "</div>\n",
    "\n",
    "\n"
   ]
  },
  {
   "cell_type": "code",
   "execution_count": 1,
   "id": "9da60c8c-0026-4c48-a658-2d994df6bca0",
   "metadata": {
    "cell_style": {
     "background_color": "#f0f0f0"
    },
    "class": [
     "highlight"
    ],
    "editable": false,
    "jupyter": {
     "source_hidden": true
    },
    "slideshow": {
     "slide_type": ""
    },
    "tags": []
   },
   "outputs": [],
   "source": [
    "# Package names\n",
    "packages <- c(\"tidyverse\", \"IRdisplay\", \"arsenal\", \"car\", \"lmtest\", \"forestplot\")\n",
    "\n",
    "# Install packages not yet installed\n",
    "installed_packages <- packages %in% rownames(installed.packages())\n",
    "if (any(installed_packages == FALSE)) {\n",
    "  install.packages(packages[!installed_packages])\n",
    "}\n",
    "\n",
    "# Packages loading\n",
    "suppressPackageStartupMessages(invisible(lapply(packages, library, character.only = TRUE)))"
   ]
  },
  {
   "cell_type": "markdown",
   "id": "986e56a0-5d43-489a-99ed-0ed54b434b49",
   "metadata": {
    "editable": false,
    "slideshow": {
     "slide_type": ""
    },
    "tags": []
   },
   "source": [
    "---\n",
    "\n",
    "<div style=\"text-align: center; margin-bottom: 25px; background-color: #E6FFE6; padding: 10px; border-radius: 10px;\">\n",
    "\n",
    "<a id='section_3'></a>\n",
    "\n",
    "<h1 style=\"color: #2E86C1; font-weight: bold;\">Import Data 🗃️</h1>\n",
    "\n",
    "</div>\n",
    "\n",
    "<div style=\"border: 2px solid #2E86C1; padding: 20px; border-radius: 10px; margin: 20px 0; box-shadow: 0 4px 8px rgba(0,0,0,0.1);\">\n",
    "\n",
    "<div style=\"font-size: 13px; text-align: center; width: 80%; margin: 20px auto; line-height: 1.6; color: #333;\">\n",
    "    \n",
    "This section simulates the process of importing All of Us datasets. In the AoU Researcher Workbench, data is imported using the DatasetBuilder which builds the SQL code and exports it to your Jupyter Notebook. For this synthetic data, we will use RData files to import our datasets. When you are actually in the Researcher Workbench and using the R kernel with the DatasetBuilder, expect there to be two code cells generated for each dataset. For the <strong>three datasets</strong> you need in this analysis, expect a total of <strong>six code cells</strong>. \n",
    "\n",
    "<font color='red' size=\"4\"><strong>Note: The real AoU data frames will be imported to the bottom of the code template. You need to move them up to this section! </strong></font> \n",
    "\n",
    "**How to do this:** Select the first imported cell, it will highlight blue. While holding down `Shift`, scroll to the last imported cell and click on it. All six cells should highlight blue. Hit the up arrow ⬆ in the toolbar and move the cells to this section. You can keep track of this in the Table of Contents by watching the yellow box move from section to section. Once it reaches the correct section (<font color='blue' size=\"2\"><strong>3. Import Data</strong></font>), you can stop moving the cells. Don't forget to rename the datasets in Section 4!\n",
    "\n",
    "</div>\n",
    "\n",
    "</div>"
   ]
  },
  {
   "cell_type": "code",
   "execution_count": 2,
   "id": "38ff1c39-e370-4975-b4e2-4f5ed8ad1d5a",
   "metadata": {
    "editable": false,
    "jupyter": {
     "source_hidden": true
    },
    "slideshow": {
     "slide_type": ""
    },
    "tags": []
   },
   "outputs": [],
   "source": [
    "load(\"ADCase.RData\") #dataset_12345678_person_df is now loaded in\n",
    "load(\"ADControl.RData\") #dataset_23456789_person_df is now loaded in\n",
    "load(\"CSCase.RData\") #dataset_34567890_person_df is now loaded in"
   ]
  },
  {
   "cell_type": "markdown",
   "id": "b473d6a9-125e-4e1e-9c8d-ce68be5e4766",
   "metadata": {
    "editable": true,
    "slideshow": {
     "slide_type": ""
    },
    "tags": []
   },
   "source": [
    "---"
   ]
  },
  {
   "cell_type": "markdown",
   "id": "af1ef25c-b929-45c1-a26c-31f78770036f",
   "metadata": {
    "editable": false,
    "slideshow": {
     "slide_type": ""
    },
    "tags": []
   },
   "source": [
    "<div style=\"text-align: center; margin-bottom: 25px; background-color: #E6FFE6; padding: 10px; border-radius: 10px;\">\n",
    "\n",
    "<a id='section_4'></a>\n",
    "\n",
    "<h1 style=\"color: #2E86C1; font-weight: bold;\">Relabel Data Frames 🏷️</h1>\n",
    "\n",
    "</div>\n",
    "\n",
    "<div style=\"border: 2px solid #2E86C1; padding: 20px; border-radius: 10px; margin: 20px 0; box-shadow: 0 4px 8px rgba(0,0,0,0.1);\">\n",
    "\n",
    "<div style=\"font-size: 13px; text-align: center; width: 80%; margin: 20px auto; line-height: 1.6; color: #333;\">\n",
    "In this section, you'll be renaming the AoU data frames. When datasets are imported into the notebook using the DatasetBuilder, they're named in the format: <code>dataset_12345678_domain_df</code>. The <code>domain</code> corresponds to the type of concept set linked to your cohort (i.e <code>person</code> corresponds to the <b>Demographics</b> prepackaged concept set).\n",
    "\n",
    "</div>\n",
    "\n",
    "</div>\n"
   ]
  },
  {
   "cell_type": "code",
   "execution_count": 3,
   "id": "545005f7-d739-4b5d-83e0-a7e376be63b6",
   "metadata": {
    "editable": true,
    "slideshow": {
     "slide_type": ""
    },
    "tags": []
   },
   "outputs": [],
   "source": [
    "# Rename data frames\n",
    "case_df <- dataset_12345678_person_df\n",
    "\n",
    "control_df <- dataset_23456789_person_df\n",
    "\n",
    "condition_df <- dataset_34567890_person_df\n",
    "\n",
    "# The outcome condition used to build case and control cohorts\n",
    "condition_1_name = \"Atopic Dermatitis\"\n",
    "# The predictor condition used to build condition cohort\n",
    "condition_2_name = \"Chronic Sinusitis\""
   ]
  },
  {
   "cell_type": "markdown",
   "id": "5d9fe836-f047-4f77-b70e-777300d5ac43",
   "metadata": {
    "editable": false,
    "slideshow": {
     "slide_type": ""
    },
    "tags": []
   },
   "source": [
    "<div style=\"border: 2px solid #2E86C1; padding: 20px; border-radius: 10px; margin: 20px 0; box-shadow: 0 4px 8px rgba(0,0,0,0.1);\">\n",
    "\n",
    "<div style=\"font-size: 13px; text-align: center; width: 55%; margin: 40px auto 20px auto; line-height: 1.6; color: #333;\">\n",
    "Inspect the <strong>first 6 rows</strong> of the <code>case_df</code> and determine its <strong>dimensions</strong>.\n",
    "\n",
    "</div>\n",
    "\n",
    "</div>\n",
    "\n",
    "<div style=\"text-align: center; margin: 10px auto; width: 70%; font-size: 13px; background-color: #e6f2ff; padding: 15px; border-radius: 6px; line-height: 1.6; border: 1px solid #2E86C1;\">\n",
    "To examine other dataframes, replace <code>case_df</code> with the desired dataframe name, such as <code>control_df</code> or <code>condition_df</code>.\n",
    "</div>\n"
   ]
  },
  {
   "cell_type": "code",
   "execution_count": 4,
   "id": "c51ae4a1-600d-466d-8494-ef0ad8f74628",
   "metadata": {
    "editable": true,
    "slideshow": {
     "slide_type": ""
    },
    "tags": []
   },
   "outputs": [
    {
     "data": {
      "text/html": [
       "<table class=\"dataframe\">\n",
       "<caption>A data.frame: 6 × 5</caption>\n",
       "<thead>\n",
       "\t<tr><th></th><th scope=col>person_id</th><th scope=col>sex_at_birth</th><th scope=col>date_of_birth</th><th scope=col>race</th><th scope=col>ethnicity</th></tr>\n",
       "\t<tr><th></th><th scope=col>&lt;int&gt;</th><th scope=col>&lt;chr&gt;</th><th scope=col>&lt;chr&gt;</th><th scope=col>&lt;chr&gt;</th><th scope=col>&lt;chr&gt;</th></tr>\n",
       "</thead>\n",
       "<tbody>\n",
       "\t<tr><th scope=row>1</th><td>1</td><td>Female</td><td>1997-04-01 12:53:56 UTC</td><td>White</td><td>Not Hispanic or Latino</td></tr>\n",
       "\t<tr><th scope=row>2</th><td>2</td><td>Female</td><td>1949-04-10 03:34:59 UTC</td><td>White</td><td>Not Hispanic or Latino</td></tr>\n",
       "\t<tr><th scope=row>3</th><td>3</td><td>Female</td><td>1998-11-25 18:52:47 UTC</td><td>White</td><td>Hispanic or Latino    </td></tr>\n",
       "\t<tr><th scope=row>4</th><td>4</td><td>Male  </td><td>1968-04-12 03:42:21 UTC</td><td>White</td><td>Not Hispanic or Latino</td></tr>\n",
       "\t<tr><th scope=row>5</th><td>5</td><td>Female</td><td>1955-09-13 07:59:13 UTC</td><td>White</td><td>Hispanic or Latino    </td></tr>\n",
       "\t<tr><th scope=row>6</th><td>6</td><td>Female</td><td>1957-07-25 00:32:42 UTC</td><td>White</td><td>Not Hispanic or Latino</td></tr>\n",
       "</tbody>\n",
       "</table>\n"
      ],
      "text/latex": [
       "A data.frame: 6 × 5\n",
       "\\begin{tabular}{r|lllll}\n",
       "  & person\\_id & sex\\_at\\_birth & date\\_of\\_birth & race & ethnicity\\\\\n",
       "  & <int> & <chr> & <chr> & <chr> & <chr>\\\\\n",
       "\\hline\n",
       "\t1 & 1 & Female & 1997-04-01 12:53:56 UTC & White & Not Hispanic or Latino\\\\\n",
       "\t2 & 2 & Female & 1949-04-10 03:34:59 UTC & White & Not Hispanic or Latino\\\\\n",
       "\t3 & 3 & Female & 1998-11-25 18:52:47 UTC & White & Hispanic or Latino    \\\\\n",
       "\t4 & 4 & Male   & 1968-04-12 03:42:21 UTC & White & Not Hispanic or Latino\\\\\n",
       "\t5 & 5 & Female & 1955-09-13 07:59:13 UTC & White & Hispanic or Latino    \\\\\n",
       "\t6 & 6 & Female & 1957-07-25 00:32:42 UTC & White & Not Hispanic or Latino\\\\\n",
       "\\end{tabular}\n"
      ],
      "text/markdown": [
       "\n",
       "A data.frame: 6 × 5\n",
       "\n",
       "| <!--/--> | person_id &lt;int&gt; | sex_at_birth &lt;chr&gt; | date_of_birth &lt;chr&gt; | race &lt;chr&gt; | ethnicity &lt;chr&gt; |\n",
       "|---|---|---|---|---|---|\n",
       "| 1 | 1 | Female | 1997-04-01 12:53:56 UTC | White | Not Hispanic or Latino |\n",
       "| 2 | 2 | Female | 1949-04-10 03:34:59 UTC | White | Not Hispanic or Latino |\n",
       "| 3 | 3 | Female | 1998-11-25 18:52:47 UTC | White | Hispanic or Latino     |\n",
       "| 4 | 4 | Male   | 1968-04-12 03:42:21 UTC | White | Not Hispanic or Latino |\n",
       "| 5 | 5 | Female | 1955-09-13 07:59:13 UTC | White | Hispanic or Latino     |\n",
       "| 6 | 6 | Female | 1957-07-25 00:32:42 UTC | White | Not Hispanic or Latino |\n",
       "\n"
      ],
      "text/plain": [
       "  person_id sex_at_birth date_of_birth           race  ethnicity             \n",
       "1 1         Female       1997-04-01 12:53:56 UTC White Not Hispanic or Latino\n",
       "2 2         Female       1949-04-10 03:34:59 UTC White Not Hispanic or Latino\n",
       "3 3         Female       1998-11-25 18:52:47 UTC White Hispanic or Latino    \n",
       "4 4         Male         1968-04-12 03:42:21 UTC White Not Hispanic or Latino\n",
       "5 5         Female       1955-09-13 07:59:13 UTC White Hispanic or Latino    \n",
       "6 6         Female       1957-07-25 00:32:42 UTC White Not Hispanic or Latino"
      ]
     },
     "metadata": {},
     "output_type": "display_data"
    },
    {
     "data": {
      "text/html": [
       "<style>\n",
       ".list-inline {list-style: none; margin:0; padding: 0}\n",
       ".list-inline>li {display: inline-block}\n",
       ".list-inline>li:not(:last-child)::after {content: \"\\00b7\"; padding: 0 .5ex}\n",
       "</style>\n",
       "<ol class=list-inline><li>1500</li><li>5</li></ol>\n"
      ],
      "text/latex": [
       "\\begin{enumerate*}\n",
       "\\item 1500\n",
       "\\item 5\n",
       "\\end{enumerate*}\n"
      ],
      "text/markdown": [
       "1. 1500\n",
       "2. 5\n",
       "\n",
       "\n"
      ],
      "text/plain": [
       "[1] 1500    5"
      ]
     },
     "metadata": {},
     "output_type": "display_data"
    }
   ],
   "source": [
    "# Examine dfs\n",
    "head(case_df)\n",
    "dim(case_df)"
   ]
  },
  {
   "cell_type": "markdown",
   "id": "aac492dd-9275-4425-b1b2-5fdc48934df9",
   "metadata": {
    "editable": false,
    "slideshow": {
     "slide_type": ""
    },
    "tags": []
   },
   "source": [
    "---\n",
    "<div style=\"text-align: center; margin-bottom: 25px; background-color: #E6FFE6; padding: 10px; border-radius: 10px;\">\n",
    "\n",
    "<a id='section_5'></a>\n",
    "\n",
    "<h1 style=\"color: #2E86C1; font-weight: bold;\">Creating a Column for the Outcome 🖋️</h1>\n",
    "\n",
    "</div>\n",
    "\n",
    "<div style=\"border: 2px solid #2E86C1; padding: 20px; border-radius: 10px; margin: 20px 0; box-shadow: 0 4px 8px rgba(0,0,0,0.1);\">\n",
    "\n",
    "<div style=\"font-size: 13px; text-align: center; width: 80%; margin: 20px auto; line-height: 1.6; color: #333;\">\n",
    "\n",
    "In this guide, <strong>condition 1</strong> is treated as the <code>outcome</code> and used to define your <strong>case and control cohorts</strong>. Both <code>case_df</code> and <code>control_df</code> are constructed based on the presence or absence of the outcome. Since we'll be merging these dataframes later, it's crucial to <strong>introduce a new column</strong> distinguishing between cases and controls. This new column, termed <code>outcome</code>, will be assigned a value of <code>1</code> for the case group and <code>0</code> for the control group.\n",
    "\n",
    "</div>\n",
    "\n",
    "</div>\n",
    "\n",
    "<div style=\"text-align: center; margin: 10px auto; width: 70%; font-size: 13px; background-color: #e6f2ff; padding: 15px; border-radius: 6px; line-height: 1.6; border: 1px solid #2E86C1;\">\n",
    "Conditions are determined by their presence or absence in participant Electronic Health Records. If EHR data is unavailable or lacks records of a condition, it's presumed the participant does not have it. Keep this in mind when interpreting results!\n",
    "</div>\n",
    "\n"
   ]
  },
  {
   "cell_type": "code",
   "execution_count": 5,
   "id": "4759d016-2391-41c6-bf71-b922a3a9ef9b",
   "metadata": {
    "editable": false,
    "jupyter": {
     "source_hidden": true
    },
    "slideshow": {
     "slide_type": ""
    },
    "tags": []
   },
   "outputs": [],
   "source": [
    "# Assign all cases with the value 1 in a new column called 'outcome'\n",
    "case_df$outcome <- 1\n",
    "\n",
    "# Assign all controls with the value 0 to same column\n",
    "control_df$outcome <- 0"
   ]
  },
  {
   "cell_type": "markdown",
   "id": "987a62e8-d2ce-4ae1-994b-285ade814289",
   "metadata": {
    "editable": false,
    "slideshow": {
     "slide_type": ""
    },
    "tags": []
   },
   "source": [
    "---\n",
    "<div style=\"text-align: center; margin-bottom: 25px; background-color: #E6FFE6; padding: 10px; border-radius: 10px;\">\n",
    "\n",
    "<a id='section_6'></a>\n",
    "\n",
    "<h1 style=\"color: #2E86C1; font-weight: bold;\">Creating a Column for the Predictor 🖋️</h1>\n",
    "\n",
    "</div>\n",
    "\n",
    "<div style=\"border: 2px solid #2E86C1; padding: 20px; border-radius: 10px; margin: 20px 0; box-shadow: 0 4px 8px rgba(0,0,0,0.1);\">\n",
    "\n",
    "<div style=\"font-size: 13px; text-align: center; width: 80%; margin: 20px auto; line-height: 1.6; color: #333;\">\n",
    "\n",
    "In this guide, <strong>condition 2</strong> is viewed as the <code>predictor</code> and used to define your <strong>condition cohort</strong>. We'll establish a new column within the <code>condition_df</code> dataframe to represent the this value. This new column, named <code>predictor</code>, will assign a value of <code>1</code> to each entry.\n",
    "\n",
    "</div>\n",
    "\n",
    "</div>\n",
    "\n",
    "<div style=\"text-align: center; margin: 10px auto; width: 70%; font-size: 13px; background-color: #e6f2ff; padding: 15px; border-radius: 6px; line-height: 1.6; border: 1px solid #2E86C1;\">\n",
    "Conditions are determined by their presence or absence in participant Electronic Health Records. If EHR data is unavailable or lacks records of a condition, it's presumed the participant does not have it. Keep this in mind when interpreting results!\n",
    "</div>\n",
    "\n"
   ]
  },
  {
   "cell_type": "code",
   "execution_count": 6,
   "id": "505df7b0-d2ef-48e0-b035-561b28b9399f",
   "metadata": {
    "editable": false,
    "jupyter": {
     "source_hidden": true
    },
    "slideshow": {
     "slide_type": ""
    },
    "tags": []
   },
   "outputs": [
    {
     "data": {
      "text/html": [
       "<style>\n",
       ".list-inline {list-style: none; margin:0; padding: 0}\n",
       ".list-inline>li {display: inline-block}\n",
       ".list-inline>li:not(:last-child)::after {content: \"\\00b7\"; padding: 0 .5ex}\n",
       "</style>\n",
       "<ol class=list-inline><li>3504</li><li>2</li></ol>\n"
      ],
      "text/latex": [
       "\\begin{enumerate*}\n",
       "\\item 3504\n",
       "\\item 2\n",
       "\\end{enumerate*}\n"
      ],
      "text/markdown": [
       "1. 3504\n",
       "2. 2\n",
       "\n",
       "\n"
      ],
      "text/plain": [
       "[1] 3504    2"
      ]
     },
     "metadata": {},
     "output_type": "display_data"
    },
    {
     "data": {
      "text/html": [
       "<table class=\"dataframe\">\n",
       "<caption>A data.frame: 6 × 2</caption>\n",
       "<thead>\n",
       "\t<tr><th></th><th scope=col>person_id</th><th scope=col>predictor</th></tr>\n",
       "\t<tr><th></th><th scope=col>&lt;int&gt;</th><th scope=col>&lt;dbl&gt;</th></tr>\n",
       "</thead>\n",
       "<tbody>\n",
       "\t<tr><th scope=row>1</th><td>1337</td><td>1</td></tr>\n",
       "\t<tr><th scope=row>2</th><td> 598</td><td>1</td></tr>\n",
       "\t<tr><th scope=row>3</th><td> 721</td><td>1</td></tr>\n",
       "\t<tr><th scope=row>4</th><td> 851</td><td>1</td></tr>\n",
       "\t<tr><th scope=row>5</th><td>1393</td><td>1</td></tr>\n",
       "\t<tr><th scope=row>6</th><td> 565</td><td>1</td></tr>\n",
       "</tbody>\n",
       "</table>\n"
      ],
      "text/latex": [
       "A data.frame: 6 × 2\n",
       "\\begin{tabular}{r|ll}\n",
       "  & person\\_id & predictor\\\\\n",
       "  & <int> & <dbl>\\\\\n",
       "\\hline\n",
       "\t1 & 1337 & 1\\\\\n",
       "\t2 &  598 & 1\\\\\n",
       "\t3 &  721 & 1\\\\\n",
       "\t4 &  851 & 1\\\\\n",
       "\t5 & 1393 & 1\\\\\n",
       "\t6 &  565 & 1\\\\\n",
       "\\end{tabular}\n"
      ],
      "text/markdown": [
       "\n",
       "A data.frame: 6 × 2\n",
       "\n",
       "| <!--/--> | person_id &lt;int&gt; | predictor &lt;dbl&gt; |\n",
       "|---|---|---|\n",
       "| 1 | 1337 | 1 |\n",
       "| 2 |  598 | 1 |\n",
       "| 3 |  721 | 1 |\n",
       "| 4 |  851 | 1 |\n",
       "| 5 | 1393 | 1 |\n",
       "| 6 |  565 | 1 |\n",
       "\n"
      ],
      "text/plain": [
       "  person_id predictor\n",
       "1 1337      1        \n",
       "2  598      1        \n",
       "3  721      1        \n",
       "4  851      1        \n",
       "5 1393      1        \n",
       "6  565      1        "
      ]
     },
     "metadata": {},
     "output_type": "display_data"
    }
   ],
   "source": [
    "# Assign 1 to all persons in a new column called 'predictor'\n",
    "condition_df$predictor <- 1\n",
    "\n",
    "dim(condition_df)\n",
    "head(condition_df)"
   ]
  },
  {
   "cell_type": "markdown",
   "id": "a790657e-bcb0-42e7-bc28-774f2c28ce5a",
   "metadata": {
    "editable": false,
    "slideshow": {
     "slide_type": ""
    },
    "tags": []
   },
   "source": [
    "---\n",
    "<div style=\"text-align: center; margin-bottom: 25px; background-color: #E6FFE6; padding: 10px; border-radius: 10px;\">\n",
    "\n",
    "<a id='section_7'></a>\n",
    "\n",
    "<h1 style=\"color: #2E86C1; font-weight: bold;\">Join the Data Frames 🔗</h1>\n",
    "\n",
    "</div>\n",
    "\n",
    "\n",
    "\n",
    "<div style=\"border: 2px solid #2E86C1; padding: 20px; border-radius: 10px; margin: 20px 0; box-shadow: 0 4px 8px rgba(0,0,0,0.1);\">\n",
    "\n",
    "<div style=\"font-size: 13px; text-align: center; width: 80%; margin: 20px auto; line-height: 1.6; color: #333;\">\n",
    "    \n",
    "<strong>1) Full Join:</strong> This process appends the rows from `case_df` to `control_df` for all columns (they should have same column names).\n",
    "\n",
    "</div>\n",
    "\n",
    "<div style=\"font-size: 13px; text-align: center; width: 80%; margin: 20px auto; line-height: 1.6; color: #333;\">\n",
    "\n",
    "<strong>2) Left Join:</strong> For each `person_id` in `merged_df`, a value of `1` is assigned to the `predictor` column if the ID exists in `condition_df`. Otherwise, the `predictor` column value is set to `NA`.\n",
    "\n",
    "</div>\n",
    "\n",
    "</div>\n"
   ]
  },
  {
   "cell_type": "code",
   "execution_count": 7,
   "id": "37361f37-6bee-48b1-b68b-078c0bae4a11",
   "metadata": {
    "editable": false,
    "jupyter": {
     "source_hidden": true
    },
    "slideshow": {
     "slide_type": ""
    },
    "tags": []
   },
   "outputs": [
    {
     "name": "stderr",
     "output_type": "stream",
     "text": [
      "\u001b[1m\u001b[22mJoining with `by = join_by(person_id, sex_at_birth, date_of_birth, race,\n",
      "ethnicity, outcome)`\n"
     ]
    }
   ],
   "source": [
    "# Full join the case and control dfs\n",
    "merged_df <- case_df %>% full_join(control_df)\n",
    "\n",
    "# Left join the condition_df\n",
    "merged_df <- merged_df %>% \n",
    "            left_join(condition_df, by=\"person_id\")"
   ]
  },
  {
   "cell_type": "markdown",
   "id": "53050d73-a153-40e6-837d-e8ff89781e32",
   "metadata": {
    "editable": false,
    "slideshow": {
     "slide_type": ""
    },
    "tags": []
   },
   "source": [
    "---\n",
    "<div style=\"text-align: center; margin-bottom: 25px; background-color: #E6FFE6; padding: 10px; border-radius: 10px;\">\n",
    "\n",
    "<a id='section_8'></a>\n",
    "\n",
    "<h1 style=\"color: #2E86C1; font-weight: bold;\">Replace NAs 🔄</h1>\n",
    "\n",
    "</div>\n",
    "\n",
    "<div style=\"border: 2px solid #2E86C1; padding: 20px; border-radius: 10px; margin: 20px 0; box-shadow: 0 4px 8px rgba(0,0,0,0.1);\">\n",
    "\n",
    "<div style=\"font-size: 13px; text-align: center; width: 80%; margin: 20px auto; line-height: 1.6; color: #333;\">\n",
    "Ensure that you fill in the <code>NA</code> values with <code>0</code>!\n",
    "\n",
    "</div>\n",
    "\n",
    "</div>\n",
    "\n",
    "<div style=\"text-align: center; margin: 10px auto; width: 70%; font-size: 13px; background-color: #e6f2ff; padding: 15px; border-radius: 6px; line-height: 1.6; border: 1px solid #2E86C1;\">\n",
    "The only column that should have <code>NA</code> values is the <code>predictor</code> column. <br>\n",
    "<b>If this is not the case, there was an error with importing your dataset.</b>\n",
    "</div>\n",
    "\n"
   ]
  },
  {
   "cell_type": "code",
   "execution_count": 8,
   "id": "4ce359a4-0c1f-4906-9840-f90cf248c6cf",
   "metadata": {
    "editable": false,
    "jupyter": {
     "source_hidden": true
    },
    "slideshow": {
     "slide_type": ""
    },
    "tags": []
   },
   "outputs": [],
   "source": [
    "# This takes the NA values created from the left join and makes them the value '0'\n",
    "merged_df[is.na(merged_df)] <- 0"
   ]
  },
  {
   "cell_type": "markdown",
   "id": "81f58ae1-9f6a-427f-9ba4-8e2aaee6a4ad",
   "metadata": {
    "editable": false,
    "slideshow": {
     "slide_type": ""
    },
    "tags": []
   },
   "source": [
    "---\n",
    "<div style=\"text-align: center; margin-bottom: 25px; background-color: #E6FFE6; padding: 10px; border-radius: 10px;\">\n",
    "\n",
    "<a id='section_9'></a>\n",
    "\n",
    "<h1 style=\"color: #2E86C1; font-weight: bold;\">Factor the Categorical Variables 🔡</h1>\n",
    "\n",
    "</div>\n",
    "\n",
    "<div style=\"border: 2px solid #2E86C1; padding: 20px; border-radius: 10px; margin: 20px 0; box-shadow: 0 4px 8px rgba(0,0,0,0.1);\">\n",
    "\n",
    "<div style=\"font-size: 13px; text-align: center; width: 80%; margin: 20px auto; line-height: 1.6; color: #333;\">\n",
    "\n",
    "Currently, our <code>outcome</code> and <code>predictor</code> columns contain integer values. For accurate modeling, it's crucial to transform these integers into categorical variables, or <b>factors</b>. Neglecting this step would result in treating our categorical variable as a continuous one, implying a linear relationship with the outcome — a misconception that could lead to errors during logistic regression. <br>\n",
    "<br>\n",
    "Utilizing the <code>factor()</code> function allows us to designate the levels (<code>0</code> and <code>1</code>) with more descriptive labels such as <code>Atopic Dermatitis Controls</code> and <code>Atopic Dermatitis Cases</code>, enhancing clarity and ensuring proper model interpretation.\n",
    "\n",
    "</div>\n",
    "\n",
    "</div>\n"
   ]
  },
  {
   "cell_type": "code",
   "execution_count": 9,
   "id": "b0ff2d48-8124-4fa8-85f0-2dcb30d0983c",
   "metadata": {
    "editable": false,
    "jupyter": {
     "source_hidden": true
    },
    "slideshow": {
     "slide_type": ""
    },
    "tags": []
   },
   "outputs": [],
   "source": [
    "# Factor and relabel the levels for outcome and predictor\n",
    "merged_df$outcome <- factor(merged_df$outcome, levels = c(0, 1), labels = c(paste(condition_1_name, \"Controls\"), paste(condition_1_name, \"Cases\")))\n",
    "merged_df$predictor <- factor(merged_df$predictor, \n",
    "                             levels = c(0, 1), \n",
    "                             labels = c(paste(\"No\", condition_2_name), condition_2_name))\n"
   ]
  },
  {
   "cell_type": "markdown",
   "id": "a7380909-2ffb-4c2b-9abb-07402a536644",
   "metadata": {
    "editable": false,
    "slideshow": {
     "slide_type": ""
    },
    "tags": []
   },
   "source": [
    "<div style=\"border: 2px solid #2E86C1; padding: 20px; border-radius: 10px; margin: 20px 0; box-shadow: 0 4px 8px rgba(0,0,0,0.1);\">\n",
    "\n",
    "<div style=\"font-size: 13px; text-align: center; width: 80%; margin: 20px auto; line-height: 1.6; color: #333;\">\n",
    "\n",
    "Our demographic variables, namely <code>sex_at_birth</code>, <code>race</code>, and <code>ethnicity</code>, consist of character values. Even though the logistic regression would inherently transform these into factors, proactively handling this conversion is advisable. By doing so, we can review and, if needed, reset the reference level. This foresight facilitates a clearer interpretation of odds ratios later in our analysis.\n",
    "\n",
    "</div>\n",
    "\n",
    "</div>\n"
   ]
  },
  {
   "cell_type": "code",
   "execution_count": 10,
   "id": "cfb3523e-c599-45a9-a639-cfdf3f75b3da",
   "metadata": {
    "editable": false,
    "jupyter": {
     "source_hidden": true
    },
    "slideshow": {
     "slide_type": ""
    },
    "tags": []
   },
   "outputs": [],
   "source": [
    "# Factor the demographic variables\n",
    "merged_df$sex_at_birth <- factor(merged_df$sex_at_birth)\n",
    "merged_df$race <- factor(merged_df$race)\n",
    "merged_df$ethnicity <- factor(merged_df$ethnicity)"
   ]
  },
  {
   "cell_type": "code",
   "execution_count": 11,
   "id": "81e0674c-0a27-4309-b938-c15da3411e84",
   "metadata": {
    "editable": true,
    "slideshow": {
     "slide_type": ""
    },
    "tags": []
   },
   "outputs": [
    {
     "data": {
      "text/html": [
       "<style>\n",
       ".list-inline {list-style: none; margin:0; padding: 0}\n",
       ".list-inline>li {display: inline-block}\n",
       ".list-inline>li:not(:last-child)::after {content: \"\\00b7\"; padding: 0 .5ex}\n",
       "</style>\n",
       "<ol class=list-inline><li>'Asian'</li><li>'Black or African American'</li><li>'White'</li></ol>\n"
      ],
      "text/latex": [
       "\\begin{enumerate*}\n",
       "\\item 'Asian'\n",
       "\\item 'Black or African American'\n",
       "\\item 'White'\n",
       "\\end{enumerate*}\n"
      ],
      "text/markdown": [
       "1. 'Asian'\n",
       "2. 'Black or African American'\n",
       "3. 'White'\n",
       "\n",
       "\n"
      ],
      "text/plain": [
       "[1] \"Asian\"                     \"Black or African American\"\n",
       "[3] \"White\"                    "
      ]
     },
     "metadata": {},
     "output_type": "display_data"
    }
   ],
   "source": [
    "# Check levels..change variable name 'race' to check other demographics\n",
    "levels(merged_df$race)"
   ]
  },
  {
   "cell_type": "code",
   "execution_count": 12,
   "id": "885eda10-9c63-4dc9-a704-f7f826be1f84",
   "metadata": {
    "editable": true,
    "slideshow": {
     "slide_type": ""
    },
    "tags": []
   },
   "outputs": [
    {
     "data": {
      "text/html": [
       "<style>\n",
       ".list-inline {list-style: none; margin:0; padding: 0}\n",
       ".list-inline>li {display: inline-block}\n",
       ".list-inline>li:not(:last-child)::after {content: \"\\00b7\"; padding: 0 .5ex}\n",
       "</style>\n",
       "<ol class=list-inline><li>'White'</li><li>'Asian'</li><li>'Black or African American'</li></ol>\n"
      ],
      "text/latex": [
       "\\begin{enumerate*}\n",
       "\\item 'White'\n",
       "\\item 'Asian'\n",
       "\\item 'Black or African American'\n",
       "\\end{enumerate*}\n"
      ],
      "text/markdown": [
       "1. 'White'\n",
       "2. 'Asian'\n",
       "3. 'Black or African American'\n",
       "\n",
       "\n"
      ],
      "text/plain": [
       "[1] \"White\"                     \"Asian\"                    \n",
       "[3] \"Black or African American\""
      ]
     },
     "metadata": {},
     "output_type": "display_data"
    }
   ],
   "source": [
    "# Reset the race reference level to 'White'\n",
    "merged_df$race <- relevel(merged_df$race, ref=\"White\")\n",
    "levels(merged_df$race)"
   ]
  },
  {
   "cell_type": "markdown",
   "id": "c587ea1c-aa0c-4610-a25d-377b61f69fcd",
   "metadata": {
    "editable": false,
    "slideshow": {
     "slide_type": ""
    },
    "tags": []
   },
   "source": [
    "<div style=\"text-align: center; margin-bottom: 25px; background-color: #E6FFE6; padding: 10px; border-radius: 10px;\">\n",
    "\n",
    "<a id='section_10'></a>\n",
    "\n",
    "<h1 style=\"color: #2E86C1; font-weight: bold;\">Calculate Age 📅</h1>\n",
    "\n",
    "</div>\n",
    "\n",
    "<div style=\"border: 2px solid #2E86C1; padding: 20px; border-radius: 10px; margin: 20px 0; box-shadow: 0 4px 8px rgba(0,0,0,0.1);\">\n",
    "\n",
    "<div style=\"font-size: 13px; text-align: center; width: 80%; margin: 20px auto; line-height: 1.6; color: #333;\">\n",
    "\n",
    "The code below computes an integer <code>age</code> variable using today's date. It then bins <code>age</code> and creates a categorical <code>age_group</code> variable.\n",
    "\n",
    "</div>\n",
    "\n",
    "</div>\n",
    "\n",
    "<div style=\"text-align: center; margin: 10px auto; width: 70%; font-size: 13px; background-color: #e6f2ff; padding: 15px; border-radius: 6px; line-height: 1.6; border: 1px solid #2E86C1;\">\n",
    "To compute the age at the time of primary consent, refer to the <a href=\"https://support.researchallofus.org/hc/en-us/articles/13176125767188-How-to-find-participant-enrollment-data\"><b>User Support Hub</b></a>. \n",
    "The link provides the necessary SQL code to fetch the <code>person_id</code> alongside the corresponding <code>primary_consent_date</code> for all participants in the All of Us database. For accurate age calculation, replace <code>today</code> with an appropriate variable name and substitute <code>Sys.Date()</code> with the provided SQL code.\n",
    "</div>\n"
   ]
  },
  {
   "cell_type": "code",
   "execution_count": 13,
   "id": "fa267718-6bdb-485b-91b5-11c280f413c7",
   "metadata": {
    "editable": true,
    "slideshow": {
     "slide_type": ""
    },
    "tags": []
   },
   "outputs": [],
   "source": [
    "# Get today's date\n",
    "today = Sys.Date()"
   ]
  },
  {
   "cell_type": "code",
   "execution_count": 14,
   "id": "ef9f3601-0af5-4d71-9833-ab2eff982924",
   "metadata": {
    "editable": true,
    "jupyter": {
     "source_hidden": true
    },
    "slideshow": {
     "slide_type": ""
    },
    "tags": []
   },
   "outputs": [],
   "source": [
    "# Convert the character string to a date object by stripping the time portion\n",
    "# sub(\" .*\", \"\") is saying any character after the space should be deleted from the string\n",
    "birthdate <- as.Date(sub(\" .*\", \"\", merged_df$date_of_birth))\n",
    "\n",
    "# Calculate age in years\n",
    "age <- as.integer(difftime(today, birthdate, units = \"days\") / 365.25)\n",
    "\n",
    "# Assign a new column called 'age' in merged_df\n",
    "merged_df$age <- age\n",
    "\n",
    "# Create age groups\n",
    "merged_df$age_group <- cut(merged_df$age,\n",
    "                    breaks=c(18, 29, 39, 49, 59, 69, 79, Inf), \n",
    "                    labels=c('18-29', '30-39', '40-49', '50-59', '60-69', '70-79', '80+'))\n",
    "\n",
    "merged_df$age_group <- droplevels(merged_df$age_group)"
   ]
  },
  {
   "cell_type": "markdown",
   "id": "41c13ec7-c71d-4d91-8027-cf23e37475b1",
   "metadata": {
    "editable": false,
    "slideshow": {
     "slide_type": ""
    },
    "tags": []
   },
   "source": [
    "---"
   ]
  },
  {
   "cell_type": "markdown",
   "id": "2751a987-ecd0-42b6-bacb-537866137da6",
   "metadata": {
    "editable": false,
    "slideshow": {
     "slide_type": ""
    },
    "tags": []
   },
   "source": [
    "<div style=\"text-align: center; margin-bottom: 25px; background-color: #E6FFE6; padding: 10px; border-radius: 10px;\">\n",
    "\n",
    "<a id='section_11'></a>\n",
    "\n",
    "<h1 style=\"color: #2E86C1; font-weight: bold;\">Explore Cleaned Data 🔍</h1>\n",
    "\n",
    "</div>\n",
    "\n",
    "<div style=\"border: 2px solid #2E86C1; padding: 20px; border-radius: 10px; margin: 20px 0; box-shadow: 0 4px 8px rgba(0,0,0,0.1);\">\n",
    "\n",
    "<div style=\"font-size: 13px; text-align: center; width: 80%; margin: 20px auto; line-height: 1.6; color: #333;\">\n",
    "\n",
    "Inspect the first 6 rows of <code>merged_df</code> and review its dimensions to understand the structure of the cleaned dataset.\n",
    "\n",
    "</div>\n",
    "\n",
    "</div>\n"
   ]
  },
  {
   "cell_type": "code",
   "execution_count": 15,
   "id": "8a132f84-35ba-4454-93d9-8362ec9c0560",
   "metadata": {
    "editable": false,
    "jupyter": {
     "source_hidden": true
    },
    "slideshow": {
     "slide_type": ""
    },
    "tags": []
   },
   "outputs": [
    {
     "data": {
      "text/html": [
       "<table class=\"dataframe\">\n",
       "<caption>A data.frame: 6 × 9</caption>\n",
       "<thead>\n",
       "\t<tr><th></th><th scope=col>person_id</th><th scope=col>sex_at_birth</th><th scope=col>date_of_birth</th><th scope=col>race</th><th scope=col>ethnicity</th><th scope=col>outcome</th><th scope=col>predictor</th><th scope=col>age</th><th scope=col>age_group</th></tr>\n",
       "\t<tr><th></th><th scope=col>&lt;int&gt;</th><th scope=col>&lt;fct&gt;</th><th scope=col>&lt;chr&gt;</th><th scope=col>&lt;fct&gt;</th><th scope=col>&lt;fct&gt;</th><th scope=col>&lt;fct&gt;</th><th scope=col>&lt;fct&gt;</th><th scope=col>&lt;int&gt;</th><th scope=col>&lt;fct&gt;</th></tr>\n",
       "</thead>\n",
       "<tbody>\n",
       "\t<tr><th scope=row>1</th><td>1</td><td>Female</td><td>1997-04-01 12:53:56 UTC</td><td>White</td><td>Not Hispanic or Latino</td><td>Atopic Dermatitis Cases</td><td>Chronic Sinusitis   </td><td>26</td><td>18-29</td></tr>\n",
       "\t<tr><th scope=row>2</th><td>2</td><td>Female</td><td>1949-04-10 03:34:59 UTC</td><td>White</td><td>Not Hispanic or Latino</td><td>Atopic Dermatitis Cases</td><td>Chronic Sinusitis   </td><td>74</td><td>70-79</td></tr>\n",
       "\t<tr><th scope=row>3</th><td>3</td><td>Female</td><td>1998-11-25 18:52:47 UTC</td><td>White</td><td>Hispanic or Latino    </td><td>Atopic Dermatitis Cases</td><td>Chronic Sinusitis   </td><td>25</td><td>18-29</td></tr>\n",
       "\t<tr><th scope=row>4</th><td>4</td><td>Male  </td><td>1968-04-12 03:42:21 UTC</td><td>White</td><td>Not Hispanic or Latino</td><td>Atopic Dermatitis Cases</td><td>No Chronic Sinusitis</td><td>55</td><td>50-59</td></tr>\n",
       "\t<tr><th scope=row>5</th><td>5</td><td>Female</td><td>1955-09-13 07:59:13 UTC</td><td>White</td><td>Hispanic or Latino    </td><td>Atopic Dermatitis Cases</td><td>No Chronic Sinusitis</td><td>68</td><td>60-69</td></tr>\n",
       "\t<tr><th scope=row>6</th><td>6</td><td>Female</td><td>1957-07-25 00:32:42 UTC</td><td>White</td><td>Not Hispanic or Latino</td><td>Atopic Dermatitis Cases</td><td>No Chronic Sinusitis</td><td>66</td><td>60-69</td></tr>\n",
       "</tbody>\n",
       "</table>\n"
      ],
      "text/latex": [
       "A data.frame: 6 × 9\n",
       "\\begin{tabular}{r|lllllllll}\n",
       "  & person\\_id & sex\\_at\\_birth & date\\_of\\_birth & race & ethnicity & outcome & predictor & age & age\\_group\\\\\n",
       "  & <int> & <fct> & <chr> & <fct> & <fct> & <fct> & <fct> & <int> & <fct>\\\\\n",
       "\\hline\n",
       "\t1 & 1 & Female & 1997-04-01 12:53:56 UTC & White & Not Hispanic or Latino & Atopic Dermatitis Cases & Chronic Sinusitis    & 26 & 18-29\\\\\n",
       "\t2 & 2 & Female & 1949-04-10 03:34:59 UTC & White & Not Hispanic or Latino & Atopic Dermatitis Cases & Chronic Sinusitis    & 74 & 70-79\\\\\n",
       "\t3 & 3 & Female & 1998-11-25 18:52:47 UTC & White & Hispanic or Latino     & Atopic Dermatitis Cases & Chronic Sinusitis    & 25 & 18-29\\\\\n",
       "\t4 & 4 & Male   & 1968-04-12 03:42:21 UTC & White & Not Hispanic or Latino & Atopic Dermatitis Cases & No Chronic Sinusitis & 55 & 50-59\\\\\n",
       "\t5 & 5 & Female & 1955-09-13 07:59:13 UTC & White & Hispanic or Latino     & Atopic Dermatitis Cases & No Chronic Sinusitis & 68 & 60-69\\\\\n",
       "\t6 & 6 & Female & 1957-07-25 00:32:42 UTC & White & Not Hispanic or Latino & Atopic Dermatitis Cases & No Chronic Sinusitis & 66 & 60-69\\\\\n",
       "\\end{tabular}\n"
      ],
      "text/markdown": [
       "\n",
       "A data.frame: 6 × 9\n",
       "\n",
       "| <!--/--> | person_id &lt;int&gt; | sex_at_birth &lt;fct&gt; | date_of_birth &lt;chr&gt; | race &lt;fct&gt; | ethnicity &lt;fct&gt; | outcome &lt;fct&gt; | predictor &lt;fct&gt; | age &lt;int&gt; | age_group &lt;fct&gt; |\n",
       "|---|---|---|---|---|---|---|---|---|---|\n",
       "| 1 | 1 | Female | 1997-04-01 12:53:56 UTC | White | Not Hispanic or Latino | Atopic Dermatitis Cases | Chronic Sinusitis    | 26 | 18-29 |\n",
       "| 2 | 2 | Female | 1949-04-10 03:34:59 UTC | White | Not Hispanic or Latino | Atopic Dermatitis Cases | Chronic Sinusitis    | 74 | 70-79 |\n",
       "| 3 | 3 | Female | 1998-11-25 18:52:47 UTC | White | Hispanic or Latino     | Atopic Dermatitis Cases | Chronic Sinusitis    | 25 | 18-29 |\n",
       "| 4 | 4 | Male   | 1968-04-12 03:42:21 UTC | White | Not Hispanic or Latino | Atopic Dermatitis Cases | No Chronic Sinusitis | 55 | 50-59 |\n",
       "| 5 | 5 | Female | 1955-09-13 07:59:13 UTC | White | Hispanic or Latino     | Atopic Dermatitis Cases | No Chronic Sinusitis | 68 | 60-69 |\n",
       "| 6 | 6 | Female | 1957-07-25 00:32:42 UTC | White | Not Hispanic or Latino | Atopic Dermatitis Cases | No Chronic Sinusitis | 66 | 60-69 |\n",
       "\n"
      ],
      "text/plain": [
       "  person_id sex_at_birth date_of_birth           race  ethnicity             \n",
       "1 1         Female       1997-04-01 12:53:56 UTC White Not Hispanic or Latino\n",
       "2 2         Female       1949-04-10 03:34:59 UTC White Not Hispanic or Latino\n",
       "3 3         Female       1998-11-25 18:52:47 UTC White Hispanic or Latino    \n",
       "4 4         Male         1968-04-12 03:42:21 UTC White Not Hispanic or Latino\n",
       "5 5         Female       1955-09-13 07:59:13 UTC White Hispanic or Latino    \n",
       "6 6         Female       1957-07-25 00:32:42 UTC White Not Hispanic or Latino\n",
       "  outcome                 predictor            age age_group\n",
       "1 Atopic Dermatitis Cases Chronic Sinusitis    26  18-29    \n",
       "2 Atopic Dermatitis Cases Chronic Sinusitis    74  70-79    \n",
       "3 Atopic Dermatitis Cases Chronic Sinusitis    25  18-29    \n",
       "4 Atopic Dermatitis Cases No Chronic Sinusitis 55  50-59    \n",
       "5 Atopic Dermatitis Cases No Chronic Sinusitis 68  60-69    \n",
       "6 Atopic Dermatitis Cases No Chronic Sinusitis 66  60-69    "
      ]
     },
     "metadata": {},
     "output_type": "display_data"
    },
    {
     "data": {
      "text/html": [
       "<style>\n",
       ".list-inline {list-style: none; margin:0; padding: 0}\n",
       ".list-inline>li {display: inline-block}\n",
       ".list-inline>li:not(:last-child)::after {content: \"\\00b7\"; padding: 0 .5ex}\n",
       "</style>\n",
       "<ol class=list-inline><li>9500</li><li>9</li></ol>\n"
      ],
      "text/latex": [
       "\\begin{enumerate*}\n",
       "\\item 9500\n",
       "\\item 9\n",
       "\\end{enumerate*}\n"
      ],
      "text/markdown": [
       "1. 9500\n",
       "2. 9\n",
       "\n",
       "\n"
      ],
      "text/plain": [
       "[1] 9500    9"
      ]
     },
     "metadata": {},
     "output_type": "display_data"
    }
   ],
   "source": [
    "head(merged_df)\n",
    "dim(merged_df)"
   ]
  },
  {
   "cell_type": "markdown",
   "id": "d09f6e7b-77fb-4e1d-9ecb-c5afc0475fca",
   "metadata": {
    "editable": false,
    "slideshow": {
     "slide_type": ""
    },
    "tags": []
   },
   "source": [
    "<div style=\"text-align: center; margin-bottom: 20px; background-color: #E6FFE6; padding: 8px; border-radius: 8px;\">\n",
    "\n",
    "<a id='section_11_1'></a>\n",
    "\n",
    "<h2 style=\"color: #2E86C1; font-weight: bold;\">Numerical Summary 🧮</h2>\n",
    "\n",
    "</div>\n",
    "\n",
    "<div style=\"border: 2px solid #2E86C1; padding: 20px; border-radius: 10px; margin: 20px 0; box-shadow: 0 4px 8px rgba(0,0,0,0.1);\">\n",
    "\n",
    "<div style=\"font-size: 13px; text-align: center; width: 80%; margin: 20px auto; line-height: 1.6; color: #333;\">\n",
    "\n",
    "The code generates a table summarizing counts for categorical variables and means for quantitative variables, grouped by the binary outcome. It evaluates statistical significance using <b>chi-square tests for counts and one-way ANOVA for means</b>.\n",
    "\n",
    "\n",
    "\n",
    "</div>\n",
    "\n",
    "</div>\n",
    "\n",
    "<div style=\"text-align: center; margin: 12px auto; width: 60%; font-size: 13px; background-color: #e6f2ff; padding: 15px; border-radius: 6px; line-height: 1.6; border: 1px solid #2E86C1;\">\n",
    "PLEASE REVIEW THE <a href=\"https://pitt-my.sharepoint.com/:b:/g/personal/alc244_pitt_edu/EYnZiMKc_4FAiov_ikL6bBwB0AN55QD28xMX2YlwbGDEeQ?e=vAntQw\"><b>ASSUMPTIONS OF THESE TESTS</b></a>! <br>\n",
    "<br>\n",
    "\n",
    "The p-value threshold is **set to 0.05** for the tests below. When interpreting p-values, especially for large sample sizes, it's important to keep in mind the following points:\n",
    "\n",
    "- <b>Sensitivity to Large Sample Sizes:</b> In large datasets, the statistical power is so high that even negligible differences can produce statistically significant results, potentially overstating the importance of the findings.\n",
    "\n",
    "- <b>Statistical vs. Practical Significance:</b> A small p-value indicates statistical significance but doesn't assess the practical relevance of the findings; it's essential to also consider the magnitude and implications of the effect size.\n",
    "\n",
    "- <b>Multiple Comparisons Issue:</b> Conducting multiple statistical tests increases the likelihood of encountering significant results by chance; in such cases, adjusting p-values or applying stricter significance criteria can help mitigate false discoveries.\n",
    "\n",
    "</div>"
   ]
  },
  {
   "cell_type": "code",
   "execution_count": 16,
   "id": "41f65c20-a3ba-402f-939d-5885de8bf80e",
   "metadata": {
    "editable": false,
    "jupyter": {
     "source_hidden": true
    },
    "slideshow": {
     "slide_type": ""
    },
    "tags": []
   },
   "outputs": [
    {
     "data": {
      "text/markdown": [
       "\n",
       "\n",
       "Table: Summary Statistics of Data\n",
       "\n",
       "|                                                   | Atopic Dermatitis Controls (N=8000) | Atopic Dermatitis Cases (N=1500) | p value|\n",
       "|:--------------------------------------------------|:-----------------------------------:|:--------------------------------:|-------:|\n",
       "|**Age**                                            |                                     |                                  | < 0.001|\n",
       "|&nbsp;&nbsp;&nbsp;Mean (SD)                        |           45.451 (15.860)           |         51.314 (15.875)          |        |\n",
       "|**Sex**                                            |                                     |                                  |   0.681|\n",
       "|&nbsp;&nbsp;&nbsp;Female (reference)               |            4808 (60.1%)             |           910 (60.7%)            |        |\n",
       "|&nbsp;&nbsp;&nbsp;Male                             |            3192 (39.9%)             |           590 (39.3%)            |        |\n",
       "|**Race**                                           |                                     |                                  |   0.077|\n",
       "|&nbsp;&nbsp;&nbsp;White (reference)                |            5639 (70.5%)             |           1033 (68.9%)           |        |\n",
       "|&nbsp;&nbsp;&nbsp;Asian                            |            1199 (15.0%)             |           259 (17.3%)            |        |\n",
       "|&nbsp;&nbsp;&nbsp;Black or African American        |            1162 (14.5%)             |           208 (13.9%)            |        |\n",
       "|**Ethnicity**                                      |                                     |                                  |   0.788|\n",
       "|&nbsp;&nbsp;&nbsp;Hispanic or Latino (reference)   |            1399 (17.5%)             |           258 (17.2%)            |        |\n",
       "|&nbsp;&nbsp;&nbsp;Not Hispanic or Latino           |            6601 (82.5%)             |           1242 (82.8%)           |        |\n",
       "|**Chronic Sinusitis**                              |                                     |                                  | < 0.001|\n",
       "|&nbsp;&nbsp;&nbsp;No Chronic Sinusitis (reference) |            5339 (66.7%)             |           657 (43.8%)            |        |\n",
       "|&nbsp;&nbsp;&nbsp;Chronic Sinusitis                |            2661 (33.3%)             |           843 (56.2%)            |        |\n"
      ]
     },
     "metadata": {},
     "output_type": "display_data"
    }
   ],
   "source": [
    "# Initiate table and tests\n",
    "mycontrol<-tableby.control(\n",
    "  test = T,\n",
    "  total = F,\n",
    "  numeric.test = \"anova\", cat.test = \"chisq\",\n",
    "  numeric.stats = c(\"meansd\"),\n",
    "  cat.stats = c(\"countpct\"),\n",
    "  stats.labels = list(\n",
    "    meansd = \"Mean (SD)\"\n",
    "  )\n",
    ")\n",
    "\n",
    "# Assign labels to variables to be used in table\n",
    "my_labels <- list(\n",
    "  sex_at_birth = \"Sex\",\n",
    "  race = \"Race\",\n",
    "  ethnicity = \"Ethnicity\",\n",
    "  age = \"Age\",\n",
    "  predictor = condition_2_name,\n",
    "  outcome = condition_1_name\n",
    ")\n",
    "\n",
    "# Label the reference levels\n",
    "append_ref_to_label <- function(data, exclude_var) {\n",
    "  for (var in setdiff(names(data)[sapply(data, is.factor)], exclude_var)) {\n",
    "    levels(data[[var]]) <- ifelse(levels(data[[var]]) == levels(data[[var]])[1], \n",
    "                                  paste0(levels(data[[var]]), \" (reference)\"), \n",
    "                                  levels(data[[var]]))\n",
    "  }\n",
    "  return(data)\n",
    "}\n",
    "\n",
    "labelled_df <- append_ref_to_label(merged_df, exclude_var = \"outcome\")\n",
    "\n",
    "# Specify variables to be used in table\n",
    "table_two <- tableby(outcome~age + sex_at_birth + race + ethnicity + predictor,\n",
    "  data = labelled_df,\n",
    "  control = mycontrol\n",
    ")\n",
    "\n",
    "\n",
    "# Capture the printed output of the summary object as a character vector\n",
    "table_output <- capture.output(\n",
    "  print(\n",
    "    summary(table_two,\n",
    "      labelTranslations = my_labels,\n",
    "      title = \"Summary Statistics of Data\"\n",
    "    )\n",
    "  )\n",
    ")\n",
    "\n",
    "# Collapse the character vector into a single string with a newline character as the separator\n",
    "markdown_table <- paste(table_output, collapse = \"\\n\")\n",
    "\n",
    "# Display the markdown table directly in the output cell\n",
    "display_markdown(markdown_table)\n"
   ]
  },
  {
   "cell_type": "markdown",
   "id": "dc9d4f78-9c8b-479a-b81b-1267e8d56563",
   "metadata": {
    "editable": false,
    "slideshow": {
     "slide_type": ""
    },
    "tags": []
   },
   "source": [
    "<div style=\"text-align: center; margin-bottom: 15px; background-color: #E6FFE6; padding: 6px; border-radius: 6px;\">\n",
    "\n",
    "<a id='section_11_1_1'></a>\n",
    "\n",
    "<h3 style=\"color: #2E86C1; font-weight: bold;\">Equality of Variance Test</h3>\n",
    "\n",
    "</div>\n",
    "\n",
    "<div style=\"border: 2px solid #2E86C1; padding: 20px; border-radius: 10px; margin: 20px 0; box-shadow: 0 4px 8px rgba(0,0,0,0.1);\">\n",
    "\n",
    "<div style=\"font-size: 13px; text-align: center; width: 80%; margin: 20px auto; line-height: 1.6; color: #333;\">\n",
    "\n",
    "**Equality of variance** is an assumption for the one-way ANOVA. **Levene's test** is ran below for `age`, a quantitative variable to compares the spread (or variance) of `age` between the case and control groups.\n",
    "</div>\n",
    "\n",
    "</div>"
   ]
  },
  {
   "cell_type": "code",
   "execution_count": 17,
   "id": "753cb3d4-6f76-4063-abc6-4cb5ae5442f9",
   "metadata": {
    "editable": true,
    "slideshow": {
     "slide_type": ""
    },
    "tags": []
   },
   "outputs": [
    {
     "data": {
      "text/html": [
       "<table class=\"dataframe\">\n",
       "<caption>A anova: 2 × 3</caption>\n",
       "<thead>\n",
       "\t<tr><th></th><th scope=col>Df</th><th scope=col>F value</th><th scope=col>Pr(&gt;F)</th></tr>\n",
       "\t<tr><th></th><th scope=col>&lt;int&gt;</th><th scope=col>&lt;dbl&gt;</th><th scope=col>&lt;dbl&gt;</th></tr>\n",
       "</thead>\n",
       "<tbody>\n",
       "\t<tr><th scope=row>group</th><td>   1</td><td>3.450264</td><td>0.0632726</td></tr>\n",
       "\t<tr><th scope=row> </th><td>9498</td><td>      NA</td><td>       NA</td></tr>\n",
       "</tbody>\n",
       "</table>\n"
      ],
      "text/latex": [
       "A anova: 2 × 3\n",
       "\\begin{tabular}{r|lll}\n",
       "  & Df & F value & Pr(>F)\\\\\n",
       "  & <int> & <dbl> & <dbl>\\\\\n",
       "\\hline\n",
       "\tgroup &    1 & 3.450264 & 0.0632726\\\\\n",
       "\t  & 9498 &       NA &        NA\\\\\n",
       "\\end{tabular}\n"
      ],
      "text/markdown": [
       "\n",
       "A anova: 2 × 3\n",
       "\n",
       "| <!--/--> | Df &lt;int&gt; | F value &lt;dbl&gt; | Pr(&gt;F) &lt;dbl&gt; |\n",
       "|---|---|---|---|\n",
       "| group |    1 | 3.450264 | 0.0632726 |\n",
       "| <!----> | 9498 |       NA |        NA |\n",
       "\n"
      ],
      "text/plain": [
       "      Df   F value  Pr(>F)   \n",
       "group    1 3.450264 0.0632726\n",
       "      9498       NA        NA"
      ]
     },
     "metadata": {},
     "output_type": "display_data"
    }
   ],
   "source": [
    "# Test for equality of variance \n",
    "leveneTest(age ~ outcome, data=merged_df)"
   ]
  },
  {
   "cell_type": "code",
   "execution_count": null,
   "id": "316876ed-5b17-4e10-9ea2-2065fda76836",
   "metadata": {
    "editable": true,
    "slideshow": {
     "slide_type": ""
    },
    "tags": []
   },
   "outputs": [],
   "source": []
  },
  {
   "cell_type": "markdown",
   "id": "fa92850a-1ec9-4938-b1ba-5b6313d4e975",
   "metadata": {
    "editable": false,
    "slideshow": {
     "slide_type": ""
    },
    "tags": []
   },
   "source": [
    "<div style=\"text-align: center; margin-bottom: 20px; background-color: #E6FFE6; padding: 8px; border-radius: 8px;\">\n",
    "\n",
    "<a id='section_11_2'></a>\n",
    "\n",
    "<h2 style=\"color: #2E86C1; font-weight: bold;\">Graphical Summaries 📊</h2>\n",
    "\n",
    "</div>\n",
    "\n",
    "<div style=\"text-align: center; margin-bottom: 15px; background-color: #E6FFE6; padding: 6px; border-radius: 6px;\">\n",
    "\n",
    "<a id='section_11_2_1'></a>\n",
    "\n",
    "<h3 style=\"color: #2E86C1; font-weight: bold;\">Density/Histogram Plot</h3>\n",
    "\n",
    "</div>\n",
    "\n",
    "<div style=\"border: 2px solid #2E86C1; padding: 20px; border-radius: 10px; margin: 20px 0; box-shadow: 0 4px 8px rgba(0,0,0,0.1);\">\n",
    "\n",
    "<div style=\"font-size: 13px; text-align: center; width: 80%; margin: 20px auto; line-height: 1.6; color: #333;\">\n",
    "\n",
    "This provides a <strong>density/histogram plot of age</strong> in the case and control groups. For this template, <code>age</code> is the only numeric value.\n",
    "\n",
    "</div>\n",
    "\n",
    "</div>\n"
   ]
  },
  {
   "cell_type": "code",
   "execution_count": 18,
   "id": "39002715-2373-4173-9b5e-6c0eb236f416",
   "metadata": {
    "editable": true,
    "slideshow": {
     "slide_type": ""
    },
    "tags": []
   },
   "outputs": [],
   "source": [
    "# Set the figure size parameters to make the plot smaller\n",
    "options(\n",
    "  repr.plot.width = 12,   # Width in inches\n",
    "  repr.plot.height = 6  # Height in inches\n",
    ")"
   ]
  },
  {
   "cell_type": "code",
   "execution_count": 19,
   "id": "114c1ad0-6b2a-49a1-bbb8-2fb2745a539e",
   "metadata": {
    "editable": false,
    "jupyter": {
     "source_hidden": true
    },
    "slideshow": {
     "slide_type": ""
    },
    "tags": []
   },
   "outputs": [
    {
     "data": {
      "image/png": "[encoded data removed]",
      "text/plain": [
       "plot without title"
      ]
     },
     "metadata": {
      "image/png": {
       "height": 360,
       "width": 720
      }
     },
     "output_type": "display_data"
    }
   ],
   "source": [
    "# Initialize density plot with histogram overlay\n",
    "ggplot(data = merged_df, aes(x = age, fill = outcome)) +\n",
    "  scale_fill_manual(values = c(\"purple\", \"darkseagreen\"), name = \"Outcome\") +\n",
    "  facet_wrap(~outcome) +\n",
    "  geom_histogram(aes(y = after_stat(density)), binwidth = 5, colour = \"black\", fill = \"white\") +\n",
    "  geom_density(alpha = 0.5) +\n",
    "  labs(x = \"Age\", y = \"Density\", title = \"Distribution of Age By Case/Control\") +\n",
    "  theme_minimal() \n",
    "\n"
   ]
  },
  {
   "cell_type": "markdown",
   "id": "38afe940-e481-4989-aa92-6a883bb40179",
   "metadata": {
    "editable": false,
    "slideshow": {
     "slide_type": ""
    },
    "tags": []
   },
   "source": [
    "<div style=\"text-align: center; margin-bottom: 15px; background-color: #E6FFE6; padding: 6px; border-radius: 6px;\">\n",
    "\n",
    "<a id='section_11_2_2'></a>\n",
    "\n",
    "<h3 style=\"color: #2E86C1; font-weight: bold;\">Bar Plot</h3>\n",
    "\n",
    "</div>\n",
    "\n",
    "<div style=\"border: 2px solid #2E86C1; padding: 20px; border-radius: 10px; margin: 20px 0; box-shadow: 0 4px 8px rgba(0,0,0,0.1);\">\n",
    "\n",
    "<div style=\"font-size: 13px; text-align: center; width: 80%; margin: 20px auto; line-height: 1.6; color: #333;\">\n",
    "\n",
    "This provides a <strong>bar plot of categorical values</strong> in the case and control groups. <strong>Replace the value</strong> assigned to <code>categorical_variable</code> with the column name you would like to observe (i.e. <font color=\"red\">\"sex_at_birth\"</font>). Also, <strong>replace the name</strong> for <code>label</code> with the name you would like to display for the column in the graph (i.e. <font color=\"red\">\"Sex\"</font>)\n",
    "\n",
    "</div>\n",
    "\n",
    "</div>"
   ]
  },
  {
   "cell_type": "code",
   "execution_count": 20,
   "id": "f7f76817-df93-4e9d-baa4-95a5023fee1a",
   "metadata": {
    "editable": true,
    "slideshow": {
     "slide_type": ""
    },
    "tags": []
   },
   "outputs": [],
   "source": [
    "# Specify the column name for the categorical variable\n",
    "categorical_variable <- \"sex_at_birth\"\n",
    "label <- \"Sex\"\n",
    "\n",
    "# Set the figure size (width and height) in inches\n",
    "options(\n",
    "  repr.plot.width = 10,   # Width in inches\n",
    "  repr.plot.height = 7  # Height in inches\n",
    ")"
   ]
  },
  {
   "cell_type": "code",
   "execution_count": 21,
   "id": "63e0ff1e-2597-488c-a259-d05b7357b0f1",
   "metadata": {
    "editable": false,
    "jupyter": {
     "source_hidden": true
    },
    "slideshow": {
     "slide_type": ""
    },
    "tags": []
   },
   "outputs": [
    {
     "name": "stderr",
     "output_type": "stream",
     "text": [
      "\u001b[1m\u001b[22m`summarise()` has grouped output by 'sex_at_birth'. You can override using the\n",
      "`.groups` argument.\n"
     ]
    },
    {
     "data": {
      "image/png": "[encoded data removed]",
      "text/plain": [
       "plot without title"
      ]
     },
     "metadata": {
      "image/png": {
       "height": 420,
       "width": 600
      }
     },
     "output_type": "display_data"
    }
   ],
   "source": [
    "# Calculating percentage for bar plot\n",
    "outcome_barplot <- merged_df %>%\n",
    "  group_by(!!sym(categorical_variable), outcome) %>%\n",
    "  summarise(n = n()) %>%\n",
    "  group_by(outcome) %>%\n",
    "  mutate(perc = 100 * n / sum(n))\n",
    "\n",
    "# Initialize bar plot using the specified categorical variable\n",
    "ggplot(outcome_barplot, aes(x = !!sym(categorical_variable), y = perc / 100, fill = !!sym(categorical_variable))) +\n",
    "# Using Brewer colors\n",
    "scale_fill_brewer(palette = \"Set3\", name = label) +\n",
    "  geom_bar(stat = \"identity\") +\n",
    "# Replace xlab with label\n",
    "  xlab(label) + ylab(\"Proportion\") +\n",
    "# Replace ggtitle with label\n",
    "  ggtitle(paste(\"Proportion of\", label,  \"for Case/Control Groups\")) +\n",
    "  facet_wrap(~outcome) +\n",
    "  geom_text(aes(label = sprintf(\"%.02f %%\", perc), vjust = 1.5, hjust = 0.41)) +\n",
    "  theme_bw()\n"
   ]
  },
  {
   "cell_type": "markdown",
   "id": "fa2ed525-68da-42b5-98be-16707037cd2d",
   "metadata": {
    "editable": false,
    "slideshow": {
     "slide_type": ""
    },
    "tags": []
   },
   "source": [
    "---\n",
    "<div style=\"text-align: center; margin-bottom: 25px; background-color: #E6FFE6; padding: 10px; border-radius: 10px;\">\n",
    "\n",
    "<a id='section_12'></a>\n",
    "\n",
    "<h1 style=\"color: #2E86C1; font-weight: bold;\">Statistical Analysis 📈🧐</h1>\n",
    "\n",
    "</div>\n",
    "\n",
    "<div style=\"border: 2px solid #2E86C1; padding: 20px; border-radius: 10px; margin: 20px 0; box-shadow: 0 4px 8px rgba(0,0,0,0.1);\">\n",
    "\n",
    "<div style=\"font-size: 13px; text-align: center; width: 80%; margin: 20px auto; line-height: 1.6; color: #333;\">\n",
    "    \n",
    "**You have the option to run all the tests listed below, or simply select the specific one you need and execute the cells below it.** \n",
    "\n",
    "</div>\n",
    "\n",
    "</div>\n",
    "\n"
   ]
  },
  {
   "cell_type": "markdown",
   "id": "bf717f9f-f2ac-4d7b-a541-60856fc84462",
   "metadata": {
    "editable": false,
    "slideshow": {
     "slide_type": ""
    },
    "tags": []
   },
   "source": [
    "<div style=\"text-align: center; margin-bottom: 20px; background-color: #E6FFE6; padding: 8px; border-radius: 8px;\">\n",
    "\n",
    "<a id='section_12_1'></a>\n",
    "\n",
    "<h2 style=\"color: #2E86C1; font-weight: bold;\">Unadjusted Logistic Regression</h2>\n",
    "\n",
    "</div>\n",
    "\n",
    "<div style=\"border: 2px solid #2E86C1; padding: 20px; border-radius: 10px; margin: 20px 0; box-shadow: 0 4px 8px rgba(0,0,0,0.1);\">\n",
    "<div style=\"font-size: 13px; text-align: center; width: 80%; margin: 20px auto; line-height: 1.6; color: #333;\">\n",
    "\n",
    "Welcome to the section on **Unadjusted Logistic Regression**. This statistical method, also known as \"simple\" or \"bivariate\" logistic regression, serves as a foundational approach to understand the relationship between a binary response variable and a single predictor.\n",
    "\n",
    "Here are some key components to grasp:\n",
    "\n",
    "- **Response Variable:** At its core, this method requires a binary outcome. Think of results like Yes/No, 1/0, or Success/Failure.\n",
    "\n",
    "- **Predictor Variable:** This can be either categorical, such as gender, or continuous like age. For instance, one might be investigating the effect of race on the odds of developing a certain disease.\n",
    "\n",
    "- **Odds Ratio (OR):** A crucial metric in logistic regression. For a categorical predictor, the odds ratio compares the odds of the outcome between different levels of the predictor relative to a reference category, rather than indicating the change in odds for a one-unit increase.\n",
    "\n",
    "Dive in, explore, and use this method to draw meaningful conclusions from your data.\n",
    "\n",
    "</div>\n",
    "\n",
    "</div>\n",
    "\n",
    "<div style=\"text-align: center; margin: 12px auto; width: 60%; font-size: 13px; background-color: #e6f2ff; padding: 15px; border-radius: 6px; line-height: 1.6; border: 1px solid #2E86C1;\">\n",
    "PLEASE REVIEW THE <a href=\"https://pitt-my.sharepoint.com/:w:/g/personal/alc244_pitt_edu/EWC4vBJfBL5FnMK4FS1A1z8BR12P0bqwv8Ge5K_NAORWoA?e=tjtxuM\"><b>ASSUMPTIONS OF THIS TEST</b></a>!<br>\n",
    "<br>\n",
    "\n",
    "The p-value threshold is **set to 0.05** for the tests below. When interpreting p-values, especially for large sample sizes, it's important to keep in mind the following points:\n",
    "\n",
    "- <b>Sensitivity to Large Sample Sizes:</b> In large datasets, the statistical power is so high that even negligible differences can produce statistically significant results, potentially overstating the importance of the findings.\n",
    "\n",
    "- <b>Statistical vs. Practical Significance:</b> A small p-value indicates statistical significance but doesn't assess the practical relevance of the findings; it's essential to also consider the magnitude and implications of the effect size.\n",
    "\n",
    "- <b>Multiple Comparisons Issue:</b> Conducting multiple statistical tests increases the likelihood of encountering significant results by chance; in such cases, adjusting p-values or applying stricter significance criteria can help mitigate false discoveries.\n",
    "\n",
    "</div>"
   ]
  },
  {
   "cell_type": "code",
   "execution_count": 22,
   "id": "42cd0a4c-24ab-4407-a440-3683ca08f6df",
   "metadata": {
    "editable": true,
    "scrolled": true,
    "slideshow": {
     "slide_type": ""
    },
    "tags": []
   },
   "outputs": [
    {
     "data": {
      "text/plain": [
       "\n",
       "Call:\n",
       "glm(formula = outcome ~ predictor, family = binomial(link = \"logit\"), \n",
       "    data = merged_df)\n",
       "\n",
       "Deviance Residuals: \n",
       "    Min       1Q   Median       3Q      Max  \n",
       "-0.7419  -0.7419  -0.4818  -0.4818   2.1029  \n",
       "\n",
       "Coefficients:\n",
       "                           Estimate Std. Error z value Pr(>|z|)    \n",
       "(Intercept)                -2.09511    0.04134  -50.68   <2e-16 ***\n",
       "predictorChronic Sinusitis  0.94562    0.05720   16.53   <2e-16 ***\n",
       "---\n",
       "Signif. codes:  0 '***' 0.001 '**' 0.01 '*' 0.05 '.' 0.1 ' ' 1\n",
       "\n",
       "(Dispersion parameter for binomial family taken to be 1)\n",
       "\n",
       "    Null deviance: 8287.1  on 9499  degrees of freedom\n",
       "Residual deviance: 8011.4  on 9498  degrees of freedom\n",
       "AIC: 8015.4\n",
       "\n",
       "Number of Fisher Scoring iterations: 4\n"
      ]
     },
     "metadata": {},
     "output_type": "display_data"
    }
   ],
   "source": [
    "# Here, we do a logistic regression without adjusting for covariates.\n",
    "unadj_reg <- glm(outcome ~ predictor, family = binomial(link = \"logit\"), data = merged_df)\n",
    "summary(unadj_reg)"
   ]
  },
  {
   "cell_type": "markdown",
   "id": "59345749-fb5c-4e79-9d87-64d02ce28284",
   "metadata": {
    "editable": false,
    "slideshow": {
     "slide_type": ""
    },
    "tags": []
   },
   "source": [
    "<div style=\"font-size: 13px\"; class=\"alert alert-block alert-warning\">\n",
    "    <b>Interpreting the  Logistic Regression Output:</b>\n",
    "    <ul>\n",
    "        <li><b>Model:</b> The outcome is being predicted by the variable <code>predictor</code> in a binary logistic regression using the given dataset.</li>\n",
    "        <li><b>Deviance Residuals:</b> These provide a measure of model fit. A perfect model would have residuals close to 0.</li>\n",
    "        <li><b>Coefficients:</b>\n",
    "            <ul>\n",
    "                <li><code>(Intercept)</code>: The <b>Estimate</b> represents the log odds of the outcome when <code>predictor</code> is 0. This remains typically not directly interpretable unless the data is centered or if a predictor value of 0 has a meaningful interpretation in the study's context.</li>\n",
    "                <li><code>predictorcondition_1_name</code>: The <b>Estimate</b> is the increase/decrease in the log odds for those with the <code>predictor</code> condition.</li>\n",
    "            </ul>\n",
    "        </li>\n",
    "        <li><b>Standard Error:</b> The standard error in logistic regression measures the variability of estimated coefficients from the model's true coefficients. \n",
    "        <li><b>z value:</b> The z-value; this is the standardized estimate divided by its standard error. \n",
    "        <li><b>Null deviance:</b> Indicates goodness of fit of a model with no predictors, with lower values indicating better fit.</li>\n",
    "        <li><b>Residual deviance:</b> Indicates goodness of fit of the model, with lower values suggesting better fit.</li>\n",
    "        <li><b>AIC (Akaike Information Criterion):</b> Used to compare logistic regression models. Lower AIC values suggest better fitting models, but it's mostly used for model comparison purposes.</li>\n",
    "    </ul>\n",
    "</div>\n"
   ]
  },
  {
   "cell_type": "markdown",
   "id": "3724a2d7-db36-42ae-b313-eadebccf1f0a",
   "metadata": {
    "editable": false,
    "slideshow": {
     "slide_type": ""
    },
    "tags": []
   },
   "source": [
    "<div style=\"text-align: center; margin-bottom: 15px; background-color: #E6FFE6; padding: 6px; border-radius: 6px;\">\n",
    "\n",
    "<a id='section_12_1_1'></a>\n",
    "\n",
    "<h3 style=\"color: #2E86C1; font-weight: bold;\">Odds Ratio and Confidence Interval</h3>\n",
    "\n",
    "</div>\n",
    "\n",
    "<div style=\"border: 2px solid #2E86C1; padding: 20px; border-radius: 10px; margin: 20px 0; box-shadow: 0 4px 8px rgba(0,0,0,0.1);\">\n",
    "\n",
    "<div style=\"font-size: 13px; text-align: center; width: 80%; margin: 20px auto; line-height: 1.6; color: #333;\">\n",
    "\n",
    "**Interpreting the Unadjusted Logistic Regression Results:**\n",
    "\n",
    "**Chronic Sinusitis:** Those with the `predictor` Chronic Sinusitis have a 157% [130%-188%] increase in the odds of having the `outcome` Atopic Dermatitis when compared to individuals without the `predictor` Chronic Sinusitis.\n",
    "\n",
    "<div style=\"font-size: 13px; text-align: center; width: 90%; margin: 20px auto; color: #555;\">\n",
    "<b>Note:</b> Confidence intervals that span over 1 suggest the result isn't statistically significant at the standard 0.05 level.\n",
    "</div>\n",
    "</div>\n",
    "</div>"
   ]
  },
  {
   "cell_type": "code",
   "execution_count": 23,
   "id": "94cc6b63-6797-4dea-9b21-50f06b1cc115",
   "metadata": {
    "editable": false,
    "jupyter": {
     "source_hidden": true
    },
    "slideshow": {
     "slide_type": ""
    },
    "tags": []
   },
   "outputs": [
    {
     "data": {
      "text/html": [
       "<table class=\"dataframe\">\n",
       "<caption>A tibble: 2 × 4</caption>\n",
       "<thead>\n",
       "\t<tr><th scope=col>Predictor</th><th scope=col>OR</th><th scope=col>2.5%</th><th scope=col>97.5</th></tr>\n",
       "\t<tr><th scope=col>&lt;chr&gt;</th><th scope=col>&lt;dbl&gt;</th><th scope=col>&lt;dbl&gt;</th><th scope=col>&lt;dbl&gt;</th></tr>\n",
       "</thead>\n",
       "<tbody>\n",
       "\t<tr><td>(Intercept)               </td><td>0.1230568</td><td>0.1134786</td><td>0.1334434</td></tr>\n",
       "\t<tr><td>predictorChronic Sinusitis</td><td>2.5744073</td><td>2.3014020</td><td>2.8797980</td></tr>\n",
       "</tbody>\n",
       "</table>\n"
      ],
      "text/latex": [
       "A tibble: 2 × 4\n",
       "\\begin{tabular}{llll}\n",
       " Predictor & OR & 2.5\\% & 97.5\\\\\n",
       " <chr> & <dbl> & <dbl> & <dbl>\\\\\n",
       "\\hline\n",
       "\t (Intercept)                & 0.1230568 & 0.1134786 & 0.1334434\\\\\n",
       "\t predictorChronic Sinusitis & 2.5744073 & 2.3014020 & 2.8797980\\\\\n",
       "\\end{tabular}\n"
      ],
      "text/markdown": [
       "\n",
       "A tibble: 2 × 4\n",
       "\n",
       "| Predictor &lt;chr&gt; | OR &lt;dbl&gt; | 2.5% &lt;dbl&gt; | 97.5 &lt;dbl&gt; |\n",
       "|---|---|---|---|\n",
       "| (Intercept)                | 0.1230568 | 0.1134786 | 0.1334434 |\n",
       "| predictorChronic Sinusitis | 2.5744073 | 2.3014020 | 2.8797980 |\n",
       "\n"
      ],
      "text/plain": [
       "  Predictor                  OR        2.5%      97.5     \n",
       "1 (Intercept)                0.1230568 0.1134786 0.1334434\n",
       "2 predictorChronic Sinusitis 2.5744073 2.3014020 2.8797980"
      ]
     },
     "metadata": {},
     "output_type": "display_data"
    }
   ],
   "source": [
    "unadj_or <- exp(coef(unadj_reg))\n",
    "unadj_ci <- exp(confint.default(unadj_reg))\n",
    "\n",
    "tibble(\n",
    "  Predictor = names(unadj_or),\n",
    "  OR = unadj_or,\n",
    "  \"2.5%\" = unadj_ci[, 1],\n",
    "  \"97.5\" = unadj_ci[, 2]\n",
    ")"
   ]
  },
  {
   "cell_type": "markdown",
   "id": "63116187-9d61-4e41-9731-61ebd1630521",
   "metadata": {
    "editable": false,
    "slideshow": {
     "slide_type": ""
    },
    "tags": []
   },
   "source": [
    "<div style=\"text-align: center; margin-bottom: 15px; background-color: #E6FFE6; padding: 6px; border-radius: 6px;\">\n",
    "\n",
    "<a id='section_12_2'></a>\n",
    "\n",
    "<h2 style=\"color: #2E86C1; font-weight: bold;\">Adjusted Logistic Regression</h2>\n",
    "\n",
    "</div>\n",
    "\n",
    "<div style=\"border: 2px solid #2E86C1; padding: 20px; border-radius: 10px; margin: 20px 0; box-shadow: 0 4px 8px rgba(0,0,0,0.1);\">\n",
    "<div style=\"font-size: 13px; text-align: center; width: 80%; margin: 20px auto; line-height: 1.6; color: #333;\">\n",
    "\n",
    "Building on the previous unadjusted analysis, the **Adjusted Logistic Regression** now incorporates multiple predictors, allowing us to control for potential confounders. This updated approach includes additional variables like <code>sex</code>, <code>age_group</code>, <code>race</code>, and <code>ethnicity</code>.\n",
    "\n",
    "**Key Points:**\n",
    "\n",
    "- **Multiple Predictor Variables:** By integrating several predictors, both categorical and continuous, this adjusted analysis enables more in-depth insights, like the combined influence of age with other demographics.\n",
    "\n",
    "- **Odds Ratio (OR):** Essential in adjusted analysis, each OR represents the effect of a predictor while holding other variables constant. OR values inform whether a predictor increases, decreases, or has no effect on the likelihood of the outcome.\n",
    "\n",
    "</div>\n",
    "</div>\n"
   ]
  },
  {
   "cell_type": "code",
   "execution_count": 24,
   "id": "ad9bc7bb-00ff-4656-9cd0-050504029f22",
   "metadata": {
    "editable": true,
    "slideshow": {
     "slide_type": ""
    },
    "tags": []
   },
   "outputs": [
    {
     "data": {
      "text/plain": [
       "\n",
       "Call:\n",
       "glm(formula = outcome ~ predictor + ethnicity + age_group + sex_at_birth + \n",
       "    race, family = binomial(link = \"logit\"), data = merged_df)\n",
       "\n",
       "Deviance Residuals: \n",
       "    Min       1Q   Median       3Q      Max  \n",
       "-0.9928  -0.6192  -0.5146  -0.3918   2.3060  \n",
       "\n",
       "Coefficients:\n",
       "                                Estimate Std. Error z value Pr(>|z|)    \n",
       "(Intercept)                     -2.55613    0.10728 -23.828  < 2e-16 ***\n",
       "predictorChronic Sinusitis       0.92956    0.05787  16.063  < 2e-16 ***\n",
       "ethnicityNot Hispanic or Latino  0.02789    0.07660   0.364   0.7158    \n",
       "age_group30-39                   0.04435    0.10881   0.408   0.6836    \n",
       "age_group40-49                   0.11674    0.10667   1.094   0.2738    \n",
       "age_group50-59                   0.62374    0.09723   6.415 1.41e-10 ***\n",
       "age_group60-69                   0.97747    0.09553  10.232  < 2e-16 ***\n",
       "age_group70-79                   0.77905    0.11615   6.707 1.98e-11 ***\n",
       "sex_at_birthMale                -0.03008    0.05916  -0.509   0.6111    \n",
       "raceAsian                        0.17016    0.07863   2.164   0.0305 *  \n",
       "raceBlack or African American   -0.02046    0.08469  -0.242   0.8091    \n",
       "---\n",
       "Signif. codes:  0 '***' 0.001 '**' 0.01 '*' 0.05 '.' 0.1 ' ' 1\n",
       "\n",
       "(Dispersion parameter for binomial family taken to be 1)\n",
       "\n",
       "    Null deviance: 8287.1  on 9499  degrees of freedom\n",
       "Residual deviance: 7821.5  on 9489  degrees of freedom\n",
       "AIC: 7843.5\n",
       "\n",
       "Number of Fisher Scoring iterations: 5\n"
      ]
     },
     "metadata": {},
     "output_type": "display_data"
    }
   ],
   "source": [
    "# Here, we do a logistic regression adjusting for race, ethnicity, age, and sex at birth.\n",
    "adj_reg <- glm(outcome ~ predictor + ethnicity + age_group + sex_at_birth + race, \n",
    "                 family = binomial(link = \"logit\"), data = merged_df)\n",
    "adj_reg_sum <- summary(adj_reg)\n",
    "\n",
    "adj_reg_sum"
   ]
  },
  {
   "cell_type": "markdown",
   "id": "558c2dd7-4679-4171-8409-e7ad8d95cb55",
   "metadata": {
    "editable": false,
    "slideshow": {
     "slide_type": ""
    },
    "tags": []
   },
   "source": [
    "<div style=\"text-align: center; margin-bottom: 15px; background-color: #E6FFE6; padding: 6px; border-radius: 6px;\">\n",
    "<a id='section_12_2_1'></a>\n",
    "<h3 style=\"color: #2E86C1; font-weight: bold;\">Likelihood Ratio Test</h3>\n",
    "</div>\n",
    "\n",
    "<div style=\"border: 2px solid #2E86C1; padding: 20px; border-radius: 10px; margin: 20px 0; box-shadow: 0 4px 8px rgba(0,0,0,0.1);\">\n",
    "<div style=\"font-size: 13px; text-align: center; width: 80%; margin: 20px auto; line-height: 1.6; color: #333;\">\n",
    "\n",
    "For multi-category variables like <code>age_group</code> and <code>race</code>, it's crucial to assess the overall significance of the entire variable, not just individual categories, in determining its relevance to the regression model. A <b>likelihood ratio test</b> is used to compare the fit of your full model (including the variable of interest) against a reduced model (excluding the variable of interest) to see if there's a significant reduction in fit without that variable.\n",
    "\n",
    "</div>\n",
    "</div>"
   ]
  },
  {
   "cell_type": "code",
   "execution_count": 25,
   "id": "41ccfb0d-99aa-4726-abe6-0ef9414fc00d",
   "metadata": {
    "editable": false,
    "slideshow": {
     "slide_type": ""
    },
    "tags": []
   },
   "outputs": [
    {
     "data": {
      "text/html": [
       "<table class=\"dataframe\">\n",
       "<caption>A anova: 2 × 5</caption>\n",
       "<thead>\n",
       "\t<tr><th></th><th scope=col>#Df</th><th scope=col>LogLik</th><th scope=col>Df</th><th scope=col>Chisq</th><th scope=col>Pr(&gt;Chisq)</th></tr>\n",
       "\t<tr><th></th><th scope=col>&lt;dbl&gt;</th><th scope=col>&lt;dbl&gt;</th><th scope=col>&lt;dbl&gt;</th><th scope=col>&lt;dbl&gt;</th><th scope=col>&lt;dbl&gt;</th></tr>\n",
       "</thead>\n",
       "<tbody>\n",
       "\t<tr><th scope=row>1</th><td>11</td><td>-3910.741</td><td>NA</td><td>      NA</td><td>         NA</td></tr>\n",
       "\t<tr><th scope=row>2</th><td> 6</td><td>-4003.180</td><td>-5</td><td>184.8773</td><td>4.85931e-38</td></tr>\n",
       "</tbody>\n",
       "</table>\n"
      ],
      "text/latex": [
       "A anova: 2 × 5\n",
       "\\begin{tabular}{r|lllll}\n",
       "  & \\#Df & LogLik & Df & Chisq & Pr(>Chisq)\\\\\n",
       "  & <dbl> & <dbl> & <dbl> & <dbl> & <dbl>\\\\\n",
       "\\hline\n",
       "\t1 & 11 & -3910.741 & NA &       NA &          NA\\\\\n",
       "\t2 &  6 & -4003.180 & -5 & 184.8773 & 4.85931e-38\\\\\n",
       "\\end{tabular}\n"
      ],
      "text/markdown": [
       "\n",
       "A anova: 2 × 5\n",
       "\n",
       "| <!--/--> | #Df &lt;dbl&gt; | LogLik &lt;dbl&gt; | Df &lt;dbl&gt; | Chisq &lt;dbl&gt; | Pr(&gt;Chisq) &lt;dbl&gt; |\n",
       "|---|---|---|---|---|---|\n",
       "| 1 | 11 | -3910.741 | NA |       NA |          NA |\n",
       "| 2 |  6 | -4003.180 | -5 | 184.8773 | 4.85931e-38 |\n",
       "\n"
      ],
      "text/plain": [
       "  #Df LogLik    Df Chisq    Pr(>Chisq) \n",
       "1 11  -3910.741 NA       NA          NA\n",
       "2  6  -4003.180 -5 184.8773 4.85931e-38"
      ]
     },
     "metadata": {},
     "output_type": "display_data"
    },
    {
     "data": {
      "text/html": [
       "<table class=\"dataframe\">\n",
       "<caption>A anova: 2 × 5</caption>\n",
       "<thead>\n",
       "\t<tr><th></th><th scope=col>#Df</th><th scope=col>LogLik</th><th scope=col>Df</th><th scope=col>Chisq</th><th scope=col>Pr(&gt;Chisq)</th></tr>\n",
       "\t<tr><th></th><th scope=col>&lt;dbl&gt;</th><th scope=col>&lt;dbl&gt;</th><th scope=col>&lt;dbl&gt;</th><th scope=col>&lt;dbl&gt;</th><th scope=col>&lt;dbl&gt;</th></tr>\n",
       "</thead>\n",
       "<tbody>\n",
       "\t<tr><th scope=row>1</th><td>11</td><td>-3910.741</td><td>NA</td><td>      NA</td><td>        NA</td></tr>\n",
       "\t<tr><th scope=row>2</th><td> 9</td><td>-3913.235</td><td>-2</td><td>4.987267</td><td>0.08260928</td></tr>\n",
       "</tbody>\n",
       "</table>\n"
      ],
      "text/latex": [
       "A anova: 2 × 5\n",
       "\\begin{tabular}{r|lllll}\n",
       "  & \\#Df & LogLik & Df & Chisq & Pr(>Chisq)\\\\\n",
       "  & <dbl> & <dbl> & <dbl> & <dbl> & <dbl>\\\\\n",
       "\\hline\n",
       "\t1 & 11 & -3910.741 & NA &       NA &         NA\\\\\n",
       "\t2 &  9 & -3913.235 & -2 & 4.987267 & 0.08260928\\\\\n",
       "\\end{tabular}\n"
      ],
      "text/markdown": [
       "\n",
       "A anova: 2 × 5\n",
       "\n",
       "| <!--/--> | #Df &lt;dbl&gt; | LogLik &lt;dbl&gt; | Df &lt;dbl&gt; | Chisq &lt;dbl&gt; | Pr(&gt;Chisq) &lt;dbl&gt; |\n",
       "|---|---|---|---|---|---|\n",
       "| 1 | 11 | -3910.741 | NA |       NA |         NA |\n",
       "| 2 |  9 | -3913.235 | -2 | 4.987267 | 0.08260928 |\n",
       "\n"
      ],
      "text/plain": [
       "  #Df LogLik    Df Chisq    Pr(>Chisq)\n",
       "1 11  -3910.741 NA       NA         NA\n",
       "2  9  -3913.235 -2 4.987267 0.08260928"
      ]
     },
     "metadata": {},
     "output_type": "display_data"
    }
   ],
   "source": [
    "no_age <- glm(outcome ~ predictor + ethnicity + sex_at_birth + race, \n",
    "                 family = binomial(link = \"logit\"), data = merged_df)\n",
    "\n",
    "no_race <- glm(outcome ~ predictor + ethnicity + sex_at_birth + age_group, \n",
    "                 family = binomial(link = \"logit\"), data = merged_df)\n",
    "\n",
    "lrtest(adj_reg, no_age)\n",
    "lrtest(adj_reg, no_race)"
   ]
  },
  {
   "cell_type": "markdown",
   "id": "e1dd7f33-c2c6-413f-90d8-401e99ea25a3",
   "metadata": {
    "editable": false,
    "slideshow": {
     "slide_type": ""
    },
    "tags": []
   },
   "source": [
    "<div style=\"font-size: 13px\"; class=\"alert alert-block alert-warning\">\n",
    "    <b>Interpreting the Likelihood Ratio Test (lrtest) output:</b>\n",
    "    <ul>\n",
    "        <li><b># Degrees of Freedom:</b> This column shows the number of parameters estimated by the models. The first row corresponds to the more complex model (full model), and the second row corresponds to the simpler model (reduced model).</li>\n",
    "        <li><b>Log-Likelihood:</b>  This column provides the log-likelihood of each model. The log-likelihood is a measure of model fit, with higher values (closer to zero) indicating a better fit.</li>\n",
    "        <li><b>Degree of Freedom:</b> This value represents the difference in the number of parameters between the full and reduced models</li>\n",
    "        <li><b>Chi-Squared Value:</b> The test statistic for the likelihood ratio test, calculated from the difference in log-likelihoods between the two models. A higher chi-squared value indicates a greater difference in fit between the two models.</li>\n",
    "        <li><b>P-value:</b> Represents the probability of observing the data, or more extreme results, assuming that the null hypothesis is true. </li>\n",
    "    </ul>\n",
    "</div>\n"
   ]
  },
  {
   "cell_type": "markdown",
   "id": "0ed0ecee-864b-4939-a75b-1919e32bc611",
   "metadata": {
    "editable": false,
    "slideshow": {
     "slide_type": ""
    },
    "tags": []
   },
   "source": [
    "<div style=\"text-align: center; margin-bottom: 15px; background-color: #E6FFE6; padding: 6px; border-radius: 6px;\">\n",
    "\n",
    "<a id='section_12_2_2'></a>\n",
    "\n",
    "<h3 style=\"color: #2E86C1; font-weight: bold;\">Odds Ratio and Confidence Interval</h3>\n",
    "\n",
    "</div>\n",
    "\n",
    "<div style=\"border: 2px solid #2E86C1; padding: 20px; border-radius: 10px; margin: 20px 0; box-shadow: 0 4px 8px rgba(0,0,0,0.1);\">\n",
    "\n",
    "<div style=\"font-size: 13px; text-align: center; width: 80%; margin: 20px auto; line-height: 1.6; color: #333;\">\n",
    "\n",
    "**Interpreting the Adjusted Logistic Regression Results:**\n",
    "\n",
    "**Chronic Sinusitis:** Those with the `predictor` Chronic Sinusitis have 153% [126%-184%] increase in the odds of having the `outcome` Atopic Dermatitis compared to those without Chronic Sinusitis while holding `ethnicity`, `age`, `race`, and `sex` constant. \n",
    "\n",
    "<div style=\"font-size: 13px; text-align: center; width: 90%; margin: 20px auto; color: #555;\">\n",
    "<b>Notes:</b> <br>\n",
    "    <strong>1.</strong> Confidence intervals traversing the value of 1 imply non-significance at the conventional 0.05 level.\n",
    "</div>\n",
    "\n",
    "</div>\n",
    "</div>\n"
   ]
  },
  {
   "cell_type": "code",
   "execution_count": 26,
   "id": "341f05b1-2afe-45b7-b5b5-3c8463160905",
   "metadata": {
    "editable": false,
    "jupyter": {
     "source_hidden": true
    },
    "slideshow": {
     "slide_type": ""
    },
    "tags": []
   },
   "outputs": [
    {
     "data": {
      "text/html": [
       "<table class=\"dataframe\">\n",
       "<caption>A tibble: 11 × 4</caption>\n",
       "<thead>\n",
       "\t<tr><th scope=col>Predictor</th><th scope=col>OR</th><th scope=col>2.5%</th><th scope=col>97.5%</th></tr>\n",
       "\t<tr><th scope=col>&lt;chr&gt;</th><th scope=col>&lt;dbl&gt;</th><th scope=col>&lt;dbl&gt;</th><th scope=col>&lt;dbl&gt;</th></tr>\n",
       "</thead>\n",
       "<tbody>\n",
       "\t<tr><td>(Intercept)                    </td><td>0.07760411</td><td>0.06288845</td><td>0.09576318</td></tr>\n",
       "\t<tr><td>predictorChronic Sinusitis     </td><td>2.53338291</td><td>2.26174131</td><td>2.83764946</td></tr>\n",
       "\t<tr><td>ethnicityNot Hispanic or Latino</td><td>1.02828104</td><td>0.88493087</td><td>1.19485256</td></tr>\n",
       "\t<tr><td>age_group30-39                 </td><td>1.04534491</td><td>0.84458677</td><td>1.29382322</td></tr>\n",
       "\t<tr><td>age_group40-49                 </td><td>1.12382424</td><td>0.91181003</td><td>1.38513601</td></tr>\n",
       "\t<tr><td>age_group50-59                 </td><td>1.86588430</td><td>1.54212650</td><td>2.25761259</td></tr>\n",
       "\t<tr><td>age_group60-69                 </td><td>2.65772501</td><td>2.20391372</td><td>3.20498128</td></tr>\n",
       "\t<tr><td>age_group70-79                 </td><td>2.17940158</td><td>1.73568966</td><td>2.73654408</td></tr>\n",
       "\t<tr><td>sex_at_birthMale               </td><td>0.97036750</td><td>0.86413852</td><td>1.08965526</td></tr>\n",
       "\t<tr><td>raceAsian                      </td><td>1.18549201</td><td>1.01617583</td><td>1.38301982</td></tr>\n",
       "\t<tr><td>raceBlack or African American  </td><td>0.97974852</td><td>0.82989560</td><td>1.15666015</td></tr>\n",
       "</tbody>\n",
       "</table>\n"
      ],
      "text/latex": [
       "A tibble: 11 × 4\n",
       "\\begin{tabular}{llll}\n",
       " Predictor & OR & 2.5\\% & 97.5\\%\\\\\n",
       " <chr> & <dbl> & <dbl> & <dbl>\\\\\n",
       "\\hline\n",
       "\t (Intercept)                     & 0.07760411 & 0.06288845 & 0.09576318\\\\\n",
       "\t predictorChronic Sinusitis      & 2.53338291 & 2.26174131 & 2.83764946\\\\\n",
       "\t ethnicityNot Hispanic or Latino & 1.02828104 & 0.88493087 & 1.19485256\\\\\n",
       "\t age\\_group30-39                  & 1.04534491 & 0.84458677 & 1.29382322\\\\\n",
       "\t age\\_group40-49                  & 1.12382424 & 0.91181003 & 1.38513601\\\\\n",
       "\t age\\_group50-59                  & 1.86588430 & 1.54212650 & 2.25761259\\\\\n",
       "\t age\\_group60-69                  & 2.65772501 & 2.20391372 & 3.20498128\\\\\n",
       "\t age\\_group70-79                  & 2.17940158 & 1.73568966 & 2.73654408\\\\\n",
       "\t sex\\_at\\_birthMale                & 0.97036750 & 0.86413852 & 1.08965526\\\\\n",
       "\t raceAsian                       & 1.18549201 & 1.01617583 & 1.38301982\\\\\n",
       "\t raceBlack or African American   & 0.97974852 & 0.82989560 & 1.15666015\\\\\n",
       "\\end{tabular}\n"
      ],
      "text/markdown": [
       "\n",
       "A tibble: 11 × 4\n",
       "\n",
       "| Predictor &lt;chr&gt; | OR &lt;dbl&gt; | 2.5% &lt;dbl&gt; | 97.5% &lt;dbl&gt; |\n",
       "|---|---|---|---|\n",
       "| (Intercept)                     | 0.07760411 | 0.06288845 | 0.09576318 |\n",
       "| predictorChronic Sinusitis      | 2.53338291 | 2.26174131 | 2.83764946 |\n",
       "| ethnicityNot Hispanic or Latino | 1.02828104 | 0.88493087 | 1.19485256 |\n",
       "| age_group30-39                  | 1.04534491 | 0.84458677 | 1.29382322 |\n",
       "| age_group40-49                  | 1.12382424 | 0.91181003 | 1.38513601 |\n",
       "| age_group50-59                  | 1.86588430 | 1.54212650 | 2.25761259 |\n",
       "| age_group60-69                  | 2.65772501 | 2.20391372 | 3.20498128 |\n",
       "| age_group70-79                  | 2.17940158 | 1.73568966 | 2.73654408 |\n",
       "| sex_at_birthMale                | 0.97036750 | 0.86413852 | 1.08965526 |\n",
       "| raceAsian                       | 1.18549201 | 1.01617583 | 1.38301982 |\n",
       "| raceBlack or African American   | 0.97974852 | 0.82989560 | 1.15666015 |\n",
       "\n"
      ],
      "text/plain": [
       "   Predictor                       OR         2.5%       97.5%     \n",
       "1  (Intercept)                     0.07760411 0.06288845 0.09576318\n",
       "2  predictorChronic Sinusitis      2.53338291 2.26174131 2.83764946\n",
       "3  ethnicityNot Hispanic or Latino 1.02828104 0.88493087 1.19485256\n",
       "4  age_group30-39                  1.04534491 0.84458677 1.29382322\n",
       "5  age_group40-49                  1.12382424 0.91181003 1.38513601\n",
       "6  age_group50-59                  1.86588430 1.54212650 2.25761259\n",
       "7  age_group60-69                  2.65772501 2.20391372 3.20498128\n",
       "8  age_group70-79                  2.17940158 1.73568966 2.73654408\n",
       "9  sex_at_birthMale                0.97036750 0.86413852 1.08965526\n",
       "10 raceAsian                       1.18549201 1.01617583 1.38301982\n",
       "11 raceBlack or African American   0.97974852 0.82989560 1.15666015"
      ]
     },
     "metadata": {},
     "output_type": "display_data"
    }
   ],
   "source": [
    "adj_or <- exp(coef(adj_reg))\n",
    "adj_ci <- exp(confint.default(adj_reg))\n",
    "\n",
    "\n",
    "tibble(\n",
    "  Predictor = names(adj_or),\n",
    "  OR = adj_or,\n",
    "  \"2.5%\" = adj_ci[, 1],\n",
    "  \"97.5%\" = adj_ci[, 2]\n",
    ")"
   ]
  },
  {
   "cell_type": "markdown",
   "id": "263f5e69-0de3-4428-be89-078108f4f0ee",
   "metadata": {
    "editable": false,
    "slideshow": {
     "slide_type": ""
    },
    "tags": []
   },
   "source": [
    "<div style=\"text-align: center; margin-bottom: 15px; background-color: #E6FFE6; padding: 6px; border-radius: 6px;\">\n",
    "<a id='section_12_2_3'></a>\n",
    "<h3 style=\"color: #2E86C1; font-weight: bold;\">Summary of Logistic Regressions</h3>\n",
    "</div>\n",
    "\n",
    "<div style=\"border: 2px solid #2E86C1; padding: 20px; border-radius: 10px; margin: 20px 0; box-shadow: 0 4px 8px rgba(0,0,0,0.1);\">\n",
    "<div style=\"font-size: 13px; text-align: center; width: 80%; margin: 20px auto; line-height: 1.6; color: #333;\">\n",
    "\n",
    "This is the final table for the logistic regressions. It shows the unadjusted and adjusted odds ratio for the `predictor` in your analysis.\n",
    "\n",
    "</div>\n",
    "</div>"
   ]
  },
  {
   "cell_type": "code",
   "execution_count": 27,
   "id": "27d8c6b3-0f67-482f-b4b9-9929a64c83c2",
   "metadata": {
    "editable": false,
    "jupyter": {
     "source_hidden": true
    },
    "slideshow": {
     "slide_type": ""
    },
    "tags": []
   },
   "outputs": [
    {
     "data": {
      "text/html": [
       "<table class=\"dataframe\">\n",
       "<caption>A tibble: 1 × 3</caption>\n",
       "<thead>\n",
       "\t<tr><th scope=col>Predictor</th><th scope=col>Unadjusted OR (95% CI)</th><th scope=col>Adjusted OR (95% CI)</th></tr>\n",
       "\t<tr><th scope=col>&lt;chr&gt;</th><th scope=col>&lt;chr&gt;</th><th scope=col>&lt;chr&gt;</th></tr>\n",
       "</thead>\n",
       "<tbody>\n",
       "\t<tr><td>Chronic Sinusitis</td><td>2.57 (2.30 - 2.88)</td><td>2.53 (2.26 - 2.84)</td></tr>\n",
       "</tbody>\n",
       "</table>\n"
      ],
      "text/latex": [
       "A tibble: 1 × 3\n",
       "\\begin{tabular}{lll}\n",
       " Predictor & Unadjusted OR (95\\% CI) & Adjusted OR (95\\% CI)\\\\\n",
       " <chr> & <chr> & <chr>\\\\\n",
       "\\hline\n",
       "\t Chronic Sinusitis & 2.57 (2.30 - 2.88) & 2.53 (2.26 - 2.84)\\\\\n",
       "\\end{tabular}\n"
      ],
      "text/markdown": [
       "\n",
       "A tibble: 1 × 3\n",
       "\n",
       "| Predictor &lt;chr&gt; | Unadjusted OR (95% CI) &lt;chr&gt; | Adjusted OR (95% CI) &lt;chr&gt; |\n",
       "|---|---|---|\n",
       "| Chronic Sinusitis | 2.57 (2.30 - 2.88) | 2.53 (2.26 - 2.84) |\n",
       "\n"
      ],
      "text/plain": [
       "  Predictor         Unadjusted OR (95% CI) Adjusted OR (95% CI)\n",
       "1 Chronic Sinusitis 2.57 (2.30 - 2.88)     2.53 (2.26 - 2.84)  "
      ]
     },
     "metadata": {},
     "output_type": "display_data"
    }
   ],
   "source": [
    "tibble(\n",
    "  'Predictor' = condition_2_name,\n",
    "  'Unadjusted OR (95% CI)' = sprintf(\"%.2f (%.2f - %.2f)\", unadj_or[2], unadj_ci[2, 1], unadj_ci[2, 2]),\n",
    "  'Adjusted OR (95% CI)' = sprintf(\"%.2f (%.2f - %.2f)\", adj_or[2], adj_ci[2, 1], adj_ci[2, 2]),\n",
    ")"
   ]
  },
  {
   "cell_type": "markdown",
   "id": "c508e5c1-8e8a-4588-b082-6629faf3db2f",
   "metadata": {
    "editable": false,
    "slideshow": {
     "slide_type": ""
    },
    "tags": []
   },
   "source": [
    "<div style=\"text-align: center; margin-bottom: 15px; background-color: #E6FFE6; padding: 6px; border-radius: 6px;\">\n",
    "<a id='section_12_2_4'></a>\n",
    "<h3 style=\"color: #2E86C1; font-weight: bold;\">Forest Plot</h3>\n",
    "</div>\n",
    "\n",
    "<div style=\"border: 2px solid #2E86C1; padding: 20px; border-radius: 10px; margin: 20px 0; box-shadow: 0 4px 8px rgba(0,0,0,0.1);\">\n",
    "<div style=\"font-size: 13px; text-align: center; width: 80%; margin: 20px auto; line-height: 1.6; color: #333;\">\n",
    "This forest plot displays the adjusted ORs for all categorical variables in the analysis.\n",
    "\n",
    "</div>\n",
    "</div>"
   ]
  },
  {
   "cell_type": "code",
   "execution_count": 29,
   "id": "c3c026f8-a6bd-49dc-b5a3-8d84c953308d",
   "metadata": {
    "editable": true,
    "slideshow": {
     "slide_type": ""
    },
    "tags": []
   },
   "outputs": [],
   "source": [
    "# Set the figure size (width and height) in inches\n",
    "options(\n",
    "  repr.plot.width = 12,   # Width \n",
    "  repr.plot.height = 9  # Height \n",
    ")"
   ]
  },
  {
   "cell_type": "code",
   "execution_count": 28,
   "id": "73c01d26-977a-42f1-9ed6-2375c79b15b6",
   "metadata": {
    "editable": false,
    "jupyter": {
     "source_hidden": true
    },
    "slideshow": {
     "slide_type": ""
    },
    "tags": []
   },
   "outputs": [],
   "source": [
    "forest_table <- tibble(\n",
    "  mean = adj_or,\n",
    "  lower = adj_ci[, 1],\n",
    "  upper = adj_ci[, 2],\n",
    "  Predictor = str_extract(names(adj_or), pattern=\"[A-Z0-9].*\"),\n",
    "  OR = sprintf(\"%.2f\", adj_or),\n",
    "  CI = paste(sprintf(\"%.2f\", adj_ci[,1]), \"-\", sprintf(\"%.2f\", adj_ci[,2]))  \n",
    ")\n",
    "forest_table <- forest_table %>% slice(-1) # get rid of intercept OR"
   ]
  },
  {
   "cell_type": "code",
   "execution_count": 30,
   "id": "cb56489b-9762-43de-af18-cae0e072d532",
   "metadata": {
    "editable": false,
    "jupyter": {
     "source_hidden": true
    },
    "slideshow": {
     "slide_type": ""
    },
    "tags": []
   },
   "outputs": [
    {
     "data": {
      "image/png": "[encoded data removed]",
      "text/plain": [
       "plot without title"
      ]
     },
     "metadata": {
      "image/png": {
       "height": 540,
       "width": 720
      }
     },
     "output_type": "display_data"
    }
   ],
   "source": [
    "forest_table %>%\n",
    "  forestplot(labeltext = c(Predictor, OR, CI),\n",
    "             clip = c(0.001, 10),\n",
    "             vertices = TRUE,\n",
    "             xlog=TRUE,\n",
    "             xticks = log10(c(.001, 0.1, 1, 10, 100)),\n",
    "             title = paste(\"Forest Plot of Adjusted ORs for\", condition_1_name)) %>%\n",
    "  fp_set_style(box = \"royalblue\",\n",
    "               line = \"darkblue\",\n",
    "               summary = \"royalblue\") %>%\n",
    "  fp_add_header(Predictor = c(\"\", \"Predictor\"), OR = c(\"\",\"Adjusted OR\"), CI = c(\"\", \"95% CI\")) %>%\n",
    "  fp_set_zebra_style(\"#EFEFEF\")"
   ]
  },
  {
   "cell_type": "markdown",
   "id": "3b4834c3-d25a-4aa3-a304-1e7055a30778",
   "metadata": {
    "editable": false,
    "slideshow": {
     "slide_type": ""
    },
    "tags": []
   },
   "source": [
    "<div style=\"text-align: center; margin-bottom: 15px; background-color: #E6FFE6; padding: 6px; border-radius: 6px;\">\n",
    "\n",
    "<a id='section_12_3'></a>\n",
    "\n",
    "<h2 style=\"color: #2E86C1; font-weight: bold;\">Stratified Logistic Regression</h2>\n",
    "\n",
    "</div>\n",
    "\n",
    "<div style=\"border: 2px solid #2E86C1; padding: 20px; border-radius: 10px; margin: 20px 0; box-shadow: 0 4px 8px rgba(0,0,0,0.1);\">\n",
    "<div style=\"font-size: 13px; text-align: center; width: 80%; margin: 20px auto; line-height: 1.6; color: #333;\">\n",
    "\n",
    "If you are interested in targeting a specific group in your cohort based on <code>sex_at_birth</code>, <code>age</code>, <code>race</code>, or <code>ethnicity</code>, please use the code snippet below. The <code>strat_variable</code> is the column that contains the <code>strat_group</code> you would like to look at.<br>\n",
    "<br>\n",
    "<b>Make sure to adjust your odds ratio interpretation to account for this change.</b>\n",
    "\n",
    "</div>\n",
    "</div>"
   ]
  },
  {
   "cell_type": "code",
   "execution_count": 31,
   "id": "48fc18a1-0795-478f-b7c4-adf2bde343bc",
   "metadata": {
    "editable": true,
    "slideshow": {
     "slide_type": ""
    },
    "tags": []
   },
   "outputs": [],
   "source": [
    "strat_variable = \"sex_at_birth\"\n",
    "strat_group = \"Male\""
   ]
  },
  {
   "cell_type": "code",
   "execution_count": 32,
   "id": "4493780e-cb94-401c-91a6-c4456772c57c",
   "metadata": {
    "editable": false,
    "jupyter": {
     "source_hidden": true
    },
    "slideshow": {
     "slide_type": ""
    },
    "tags": []
   },
   "outputs": [],
   "source": [
    "# Filter the df\n",
    "strat_df <- merged_df %>% filter(!!sym(strat_variable) == strat_group)\n",
    "\n",
    "# Get column names\n",
    "all_vars <- names(strat_df)\n",
    "\n",
    "# Remove the unneeded variables from the list of predictors\n",
    "predictor_vars <- setdiff(all_vars, c(\"outcome\", \"person_id\", \"age\", \"date_of_birth\", strat_variable))\n",
    "\n",
    "# Create the regression formula string\n",
    "formula_str <- paste(\"outcome ~\", paste(predictor_vars, collapse = \" + \"))\n",
    "\n",
    "# Convert the string to an actual formula\n",
    "strat_formula <- as.formula(formula_str)"
   ]
  },
  {
   "cell_type": "code",
   "execution_count": 33,
   "id": "4944c219-a71d-417d-956a-a28aeea67508",
   "metadata": {
    "editable": false,
    "jupyter": {
     "source_hidden": true
    },
    "slideshow": {
     "slide_type": ""
    },
    "tags": []
   },
   "outputs": [
    {
     "data": {
      "text/plain": [
       "\n",
       "Call:\n",
       "glm(formula = strat_formula, family = binomial(link = \"logit\"), \n",
       "    data = strat_df)\n",
       "\n",
       "Deviance Residuals: \n",
       "    Min       1Q   Median       3Q      Max  \n",
       "-0.9288  -0.6156  -0.5327  -0.3851   2.2975  \n",
       "\n",
       "Coefficients:\n",
       "                                  Estimate Std. Error z value Pr(>|z|)    \n",
       "(Intercept)                     -2.5648772  0.1652594 -15.520  < 2e-16 ***\n",
       "raceAsian                        0.0862516  0.1256422   0.686    0.492    \n",
       "raceBlack or African American    0.0500289  0.1323750   0.378    0.705    \n",
       "ethnicityNot Hispanic or Latino  0.0003078  0.1204540   0.003    0.998    \n",
       "predictorChronic Sinusitis       0.8636613  0.0919465   9.393  < 2e-16 ***\n",
       "age_group30-39                  -0.0002209  0.1804363  -0.001    0.999    \n",
       "age_group40-49                   0.2559291  0.1666396   1.536    0.125    \n",
       "age_group50-59                   0.6836839  0.1534209   4.456 8.34e-06 ***\n",
       "age_group60-69                   0.9971970  0.1527149   6.530 6.59e-11 ***\n",
       "age_group70-79                   0.8243059  0.1881893   4.380 1.19e-05 ***\n",
       "---\n",
       "Signif. codes:  0 '***' 0.001 '**' 0.01 '*' 0.05 '.' 0.1 ' ' 1\n",
       "\n",
       "(Dispersion parameter for binomial family taken to be 1)\n",
       "\n",
       "    Null deviance: 3275.1  on 3781  degrees of freedom\n",
       "Residual deviance: 3107.5  on 3772  degrees of freedom\n",
       "AIC: 3127.5\n",
       "\n",
       "Number of Fisher Scoring iterations: 5\n"
      ]
     },
     "metadata": {},
     "output_type": "display_data"
    }
   ],
   "source": [
    "# Here, we do a logistic regression adjusting for all demographics (except the one being stratified).\n",
    "strat_reg <- glm(strat_formula, \n",
    "                 family = binomial(link = \"logit\"), data = strat_df)\n",
    "strat_reg_sum <- summary(strat_reg)\n",
    "\n",
    "strat_reg_sum"
   ]
  },
  {
   "cell_type": "markdown",
   "id": "b467503b-2576-44e4-a150-cf866edccadc",
   "metadata": {
    "editable": false,
    "slideshow": {
     "slide_type": ""
    },
    "tags": []
   },
   "source": [
    "<div style=\"text-align: center; margin-bottom: 15px; background-color: #E6FFE6; padding: 6px; border-radius: 6px;\">\n",
    "\n",
    "<a id='section_12_3_1'></a>\n",
    "\n",
    "<h3 style=\"color: #2E86C1; font-weight: bold;\">Odds Ratio and Confidence Interval</h3>\n",
    "\n",
    "</div>\n",
    "\n",
    "<div style=\"border: 2px solid #2E86C1; padding: 20px; border-radius: 10px; margin: 20px 0; box-shadow: 0 4px 8px rgba(0,0,0,0.1);\">\n",
    "\n",
    "<div style=\"font-size: 13px; text-align: center; width: 80%; margin: 20px auto; line-height: 1.6; color: #333;\">\n",
    "\n",
    "**Interpreting the Stratified Logistic Regression Results:**\n",
    "\n",
    "**Chronic Sinusitis:** Males with the `predictor` Chronic Sinusitis have 137% [98%-184%] increase in the odds of having the `outcome` Atopic Dermatitis compared to males without Chronic Sinusitis while holding `race`, `age`, and `ethnicity` constant. \n",
    "\n",
    "<div style=\"font-size: 13px; text-align: center; width: 90%; margin: 20px auto; color: #555;\">\n",
    "<b>Notes:</b> <br>\n",
    "    <strong>1.</strong> Confidence intervals traversing the value of 1 imply non-significance at the conventional 0.05 level. \n",
    "</div>\n",
    "\n",
    "</div>\n",
    "</div>"
   ]
  },
  {
   "cell_type": "code",
   "execution_count": 34,
   "id": "19222bdc-3517-4e18-9fd8-bf1d14bd50ad",
   "metadata": {
    "editable": false,
    "jupyter": {
     "source_hidden": true
    },
    "slideshow": {
     "slide_type": ""
    },
    "tags": []
   },
   "outputs": [
    {
     "data": {
      "text/html": [
       "<table class=\"dataframe\">\n",
       "<caption>A tibble: 10 × 4</caption>\n",
       "<thead>\n",
       "\t<tr><th scope=col>Predictor</th><th scope=col>OR</th><th scope=col>2.5%</th><th scope=col>97.5%</th></tr>\n",
       "\t<tr><th scope=col>&lt;chr&gt;</th><th scope=col>&lt;dbl&gt;</th><th scope=col>&lt;dbl&gt;</th><th scope=col>&lt;dbl&gt;</th></tr>\n",
       "</thead>\n",
       "<tbody>\n",
       "\t<tr><td>(Intercept)                    </td><td>0.07692863</td><td>0.05564408</td><td>0.1063548</td></tr>\n",
       "\t<tr><td>raceAsian                      </td><td>1.09008061</td><td>0.85214156</td><td>1.3944581</td></tr>\n",
       "\t<tr><td>raceBlack or African American  </td><td>1.05130151</td><td>0.81105341</td><td>1.3627153</td></tr>\n",
       "\t<tr><td>ethnicityNot Hispanic or Latino</td><td>1.00030782</td><td>0.78995627</td><td>1.2666723</td></tr>\n",
       "\t<tr><td>predictorChronic Sinusitis     </td><td>2.37182885</td><td>1.98069843</td><td>2.8401962</td></tr>\n",
       "\t<tr><td>age_group30-39                 </td><td>0.99977911</td><td>0.70196647</td><td>1.4239402</td></tr>\n",
       "\t<tr><td>age_group40-49                 </td><td>1.29166119</td><td>0.93176149</td><td>1.7905748</td></tr>\n",
       "\t<tr><td>age_group50-59                 </td><td>1.98116275</td><td>1.46665535</td><td>2.6761610</td></tr>\n",
       "\t<tr><td>age_group60-69                 </td><td>2.71067329</td><td>2.00949069</td><td>3.6565234</td></tr>\n",
       "\t<tr><td>age_group70-79                 </td><td>2.28029739</td><td>1.57690107</td><td>3.2974524</td></tr>\n",
       "</tbody>\n",
       "</table>\n"
      ],
      "text/latex": [
       "A tibble: 10 × 4\n",
       "\\begin{tabular}{llll}\n",
       " Predictor & OR & 2.5\\% & 97.5\\%\\\\\n",
       " <chr> & <dbl> & <dbl> & <dbl>\\\\\n",
       "\\hline\n",
       "\t (Intercept)                     & 0.07692863 & 0.05564408 & 0.1063548\\\\\n",
       "\t raceAsian                       & 1.09008061 & 0.85214156 & 1.3944581\\\\\n",
       "\t raceBlack or African American   & 1.05130151 & 0.81105341 & 1.3627153\\\\\n",
       "\t ethnicityNot Hispanic or Latino & 1.00030782 & 0.78995627 & 1.2666723\\\\\n",
       "\t predictorChronic Sinusitis      & 2.37182885 & 1.98069843 & 2.8401962\\\\\n",
       "\t age\\_group30-39                  & 0.99977911 & 0.70196647 & 1.4239402\\\\\n",
       "\t age\\_group40-49                  & 1.29166119 & 0.93176149 & 1.7905748\\\\\n",
       "\t age\\_group50-59                  & 1.98116275 & 1.46665535 & 2.6761610\\\\\n",
       "\t age\\_group60-69                  & 2.71067329 & 2.00949069 & 3.6565234\\\\\n",
       "\t age\\_group70-79                  & 2.28029739 & 1.57690107 & 3.2974524\\\\\n",
       "\\end{tabular}\n"
      ],
      "text/markdown": [
       "\n",
       "A tibble: 10 × 4\n",
       "\n",
       "| Predictor &lt;chr&gt; | OR &lt;dbl&gt; | 2.5% &lt;dbl&gt; | 97.5% &lt;dbl&gt; |\n",
       "|---|---|---|---|\n",
       "| (Intercept)                     | 0.07692863 | 0.05564408 | 0.1063548 |\n",
       "| raceAsian                       | 1.09008061 | 0.85214156 | 1.3944581 |\n",
       "| raceBlack or African American   | 1.05130151 | 0.81105341 | 1.3627153 |\n",
       "| ethnicityNot Hispanic or Latino | 1.00030782 | 0.78995627 | 1.2666723 |\n",
       "| predictorChronic Sinusitis      | 2.37182885 | 1.98069843 | 2.8401962 |\n",
       "| age_group30-39                  | 0.99977911 | 0.70196647 | 1.4239402 |\n",
       "| age_group40-49                  | 1.29166119 | 0.93176149 | 1.7905748 |\n",
       "| age_group50-59                  | 1.98116275 | 1.46665535 | 2.6761610 |\n",
       "| age_group60-69                  | 2.71067329 | 2.00949069 | 3.6565234 |\n",
       "| age_group70-79                  | 2.28029739 | 1.57690107 | 3.2974524 |\n",
       "\n"
      ],
      "text/plain": [
       "   Predictor                       OR         2.5%       97.5%    \n",
       "1  (Intercept)                     0.07692863 0.05564408 0.1063548\n",
       "2  raceAsian                       1.09008061 0.85214156 1.3944581\n",
       "3  raceBlack or African American   1.05130151 0.81105341 1.3627153\n",
       "4  ethnicityNot Hispanic or Latino 1.00030782 0.78995627 1.2666723\n",
       "5  predictorChronic Sinusitis      2.37182885 1.98069843 2.8401962\n",
       "6  age_group30-39                  0.99977911 0.70196647 1.4239402\n",
       "7  age_group40-49                  1.29166119 0.93176149 1.7905748\n",
       "8  age_group50-59                  1.98116275 1.46665535 2.6761610\n",
       "9  age_group60-69                  2.71067329 2.00949069 3.6565234\n",
       "10 age_group70-79                  2.28029739 1.57690107 3.2974524"
      ]
     },
     "metadata": {},
     "output_type": "display_data"
    }
   ],
   "source": [
    "strat_or <- exp(coef(strat_reg))\n",
    "strat_ci <- exp(confint.default(strat_reg))\n",
    "\n",
    "\n",
    "tibble(\n",
    "  Predictor = names(strat_or),\n",
    "  OR = strat_or,\n",
    "  \"2.5%\" = strat_ci[, 1],\n",
    "  \"97.5%\" = strat_ci[, 2]\n",
    ")"
   ]
  }
 ],
 "metadata": {
  "kernelspec": {
   "display_name": "R",
   "language": "R",
   "name": "ir"
  },
  "language_info": {
   "codemirror_mode": "r",
   "file_extension": ".r",
   "mimetype": "text/x-r-source",
   "name": "R",
   "pygments_lexer": "r",
   "version": "4.1.3"
  },
  "toc-autonumbering": false,
  "toc-showcode": false,
  "toc-showmarkdowntxt": false,
  "toc-showtags": false
 },
 "nbformat": 4,
 "nbformat_minor": 5
}
