{
 "cells": [
  {
   "cell_type": "code",
   "execution_count": null,
   "id": "59087424-467b-4042-88f9-08826fd2bb35",
   "metadata": {
    "editable": true,
    "slideshow": {
     "slide_type": ""
    },
    "tags": []
   },
   "outputs": [],
   "source": [
    "set.seed(130)  # For reproducibility\n",
    "\n",
    "generate_random_data <- function(start_id, n, is_case) {\n",
    "  birthdate <- character(n)\n",
    "  conditions <- logical(n)  # For indicating case or control\n",
    "  for (i in 1:n) {\n",
    "    # Adjust age distribution based on case or control\n",
    "    if (is_case) {\n",
    "      # For cases, make older ages significantly more likely\n",
    "      age <- sample(20:75, 1, replace = TRUE, prob = c(rep(1, 35), rep(2, 21)))  # Increase likelihood for ages 55 and above\n",
    "    } else {\n",
    "      # For controls, keep a more uniform distribution but slightly favor younger ages\n",
    "      age <- sample(20:75, 1, replace = TRUE, prob = c(rep(1.2, 40), rep(1, 16)))  # Slightly higher likelihood for ages below 60\n",
    "    }\n",
    "    year <- 2024 - age\n",
    "    start_date <- as.POSIXct(paste0(year, \"-01-01 00:00:00\"), tz=\"UTC\")\n",
    "    end_date <- as.POSIXct(paste0(year, \"-12-31 00:00:00\"), tz=\"UTC\")\n",
    "    dob <- as.POSIXct(runif(1, as.numeric(start_date), as.numeric(end_date)), origin=\"1970-01-01\", tz=\"UTC\")\n",
    "    birthdate[i] <- format(dob, \"%Y-%m-%d %H:%M:%S %Z\")\n",
    "  }\n",
    "\n",
    "  data.frame(\n",
    "    person_id = start_id:(start_id + n - 1),\n",
    "    sex_at_birth = sample(c(\"Male\", \"Female\"), n, replace = TRUE, prob=c(.40,.60)),\n",
    "    date_of_birth = birthdate,\n",
    "    race = sample(c(\"Black or African American\", \"White\", \"Asian\"), n, replace = TRUE, prob=c(.15, .70, .15)),\n",
    "    ethnicity = sample(c(\"Not Hispanic or Latino\", \"Hispanic or Latino\"), n, replace = TRUE, prob=c(.83,.17)),\n",
    "    stringsAsFactors = FALSE\n",
    "  )\n",
    "}\n",
    "\n",
    "\n",
    "# Generate case and control data frames with non-overlapping person_id\n",
    "generate_two_dataframes <- function(n1, n2) {\n",
    "  df_case <- generate_random_data(1, n1, TRUE)  # Case data frame with n1 rows\n",
    "  df_control <- generate_random_data(n1 + 1, n2, FALSE)  # Control data frame with n2 rows starting from n1 + 1\n",
    "  \n",
    "  list(df_case = df_case, df_control = df_control)\n",
    "}\n",
    "\n",
    "# Generate case and control dataframes with specified row counts\n",
    "datasets <- generate_two_dataframes(1500, 8000)\n",
    "\n",
    "# Extract the individual dataframes\n",
    "dataset_12345678_person_df <- datasets$df_case  # CASE_DF\n",
    "dataset_23456789_person_df <- datasets$df_control  # CONTROL_DF\n",
    "\n",
    "disease_case <- sample(dataset_12345678_person_df$person_id, 843, replace = FALSE)\n",
    "disease_control <- sample(dataset_23456789_person_df$person_id, 2661, replace = FALSE)\n",
    "# # Create the dataframe\n",
    "dataset_34567890_person_df <- data.frame(person_id = c(disease_case, disease_control)) # CONDITION_DF"
   ]
  }
 ],
 "metadata": {
  "kernelspec": {
   "display_name": "Python 3 (ipykernel)",
   "language": "python",
   "name": "python3"
  },
  "language_info": {
   "codemirror_mode": {
    "name": "ipython",
    "version": 3
   },
   "file_extension": ".py",
   "mimetype": "text/x-python",
   "name": "python",
   "nbconvert_exporter": "python",
   "pygments_lexer": "ipython3",
   "version": "3.11.7"
  }
 },
 "nbformat": 4,
 "nbformat_minor": 5
}
