{
 "cells": [
  {
   "cell_type": "markdown",
   "id": "94e669f1-380b-4245-af0c-696189d7d6d5",
   "metadata": {
    "editable": false,
    "slideshow": {
     "slide_type": ""
    },
    "tags": []
   },
   "source": [
    "---\n",
    "<div style=\"text-align: center; margin-bottom: 25px; font-size: 35px;font-weight: bold; padding: 20px; border-radius: 10px;\">\n",
    "🐍 Example Condition Association Template\n",
    "</div>"
   ]
  },
  {
   "cell_type": "markdown",
   "id": "b8b80ac2-11c8-4a5f-b031-e724dcfda580",
   "metadata": {
    "editable": true,
    "slideshow": {
     "slide_type": ""
    },
    "tags": []
   },
   "source": [
    "<div style=\"text-align: center; font-weight: bold; font-size: 25px\">\n",
    "Table of Contents<a class='anchor' id='top'></a>\n",
    "\n",
    "<table style=\"margin: auto;\">\n",
    "    <tr>\n",
    "        <td style=\"text-align: left;\"><a href=\"#pesection_1\">1. Introduction</a></td>\n",
    "    </tr>\n",
    "    <tr>\n",
    "        <td style=\"text-align: left;\"><a href=\"#pesection_2\">2. Import Libraries</a></td>\n",
    "    </tr>\n",
    "    <tr>\n",
    "        <td style=\"text-align: left;\"><a href=\"#pesection_3\">3. Import Data</a></td>\n",
    "    </tr>\n",
    "    <tr>\n",
    "        <td style=\"text-align: left;\"><a href=\"#pesection_4\">4. Relabel Data Frames</a></td>\n",
    "    </tr>\n",
    "    <tr>\n",
    "        <td style=\"text-align: left;\"><a href=\"#pesection_5\">5. Creating a Column for the Outcome</a></td>\n",
    "    </tr>\n",
    "    <tr>\n",
    "        <td style=\"text-align: left;\"><a href=\"#pesection_6\">6. Creating a Column for the Predictor</a></td>\n",
    "    </tr>\n",
    "    <tr>\n",
    "        <td style=\"text-align: left;\"><a href=\"#pesection_7\">7. Join the Data Frames</a></td>\n",
    "    </tr>\n",
    "    <tr>\n",
    "        <td style=\"text-align: left;\"><a href=\"#pesection_8\">8. Replace NAs</a></td>\n",
    "    </tr>\n",
    "    <tr>\n",
    "        <td style=\"text-align: left;\"><a href=\"#pesection_9\">9. Factor the Categorical Variables</a></td>\n",
    "    </tr>\n",
    "    <tr>\n",
    "        <td style=\"text-align: left;\"><a href=\"#pesection_10\">10. Calculate Age</a></td>\n",
    "    </tr>\n",
    "    <tr>\n",
    "        <td style=\"text-align: left;\"><a href=\"#pesection_11\">11. Explore Cleaned Data</a></td>\n",
    "    </tr>\n",
    "    <tr>\n",
    "        <td style=\"text-align: left; padding-left: 20px;\"><a href=\"#pesection_11_1\">11.1 Numerical Summary</a></td>\n",
    "    </tr>\n",
    "    <tr>\n",
    "        <td style=\"text-align: left; padding-left: 40px;\"><a href=\"#pesection_11_1_1\">11.1.1 Equality of Variance Test</a></td>\n",
    "    </tr>\n",
    "    <tr>\n",
    "        <td style=\"text-align: left; padding-left: 20px;\"><a href=\"#pesection_11_2\">11.2 Graphical Summaries</a></td>\n",
    "    </tr>\n",
    "    <tr>\n",
    "        <td style=\"text-align: left; padding-left: 40px;\"><a href=\"#pesection_11_2_1\">11.2.1 Density/Histogram Plot</a></td>\n",
    "    </tr>\n",
    "    <tr>\n",
    "        <td style=\"text-align: left; padding-left: 40px;\"><a href=\"#pesection_11_2_2\">11.2.2 Bar Plot</a></td>\n",
    "    </tr>\n",
    "    <tr>\n",
    "        <td style=\"text-align: left;\"><a href=\"#pesection_12\">12. Statistical Analysis</a></td>\n",
    "    </tr>\n",
    "    <tr>\n",
    "        <td style=\"text-align: left; padding-left: 20px;\"><a href=\"#pesection_12_1\">12.1 Unadjusted Logistic Regression</a></td>\n",
    "    </tr>\n",
    "    <tr>\n",
    "        <td style=\"text-align: left; padding-left: 40px;\"><a href=\"#pesection_12_1_1\">12.1.1 Odds Ratio and Confidence Interval</a></td>\n",
    "    </tr>\n",
    "    <tr>\n",
    "        <td style=\"text-align: left; padding-left: 20px;\"><a href=\"#pesection_12_2\">12.2 Adjusted Logistic Regression</a></td>\n",
    "    </tr>\n",
    "    <tr>\n",
    "        <td style=\"text-align: left; padding-left: 40px;\"><a href=\"#pesection_12_2_1\">12.2.1 Likelihood Ratio Test</a></td>\n",
    "    </tr>\n",
    "    <tr>\n",
    "        <td style=\"text-align: left; padding-left: 40px;\"><a href=\"#pesection_12_2_2\">12.2.2 Odds Ratio and Confidence Interval</a></td>\n",
    "    </tr>\n",
    "    <tr>\n",
    "        <td style=\"text-align: left; padding-left: 40px;\"><a href=\"#pesection_12_2_3\">12.2.3 Summary of Logistic Regressions</a></td>\n",
    "    </tr>\n",
    "    <tr>\n",
    "        <td style=\"text-align: left; padding-left: 40px;\"><a href=\"#pesection_12_2_4\">12.2.4 Forest Plot</a></td>\n",
    "    </tr>\n",
    "    <tr>\n",
    "        <td style=\"text-align: left; padding-left: 20px;\"><a href=\"#pesection_12_3\">12.3 Stratified Logistic Regression</a></td>\n",
    "    </tr>\n",
    "    <tr>\n",
    "        <td style=\"text-align: left; padding-left: 40px;\"><a href=\"#pesection_12_3_1\">12.3.1 Odds Ratio and Confidence Interval</a></td>\n",
    "    </tr>\n",
    "</table>\n",
    "\n",
    "</div>"
   ]
  },
  {
   "cell_type": "markdown",
   "id": "104d645d-2d8e-4918-94f0-abfd1e3972da",
   "metadata": {
    "slideshow": {
     "slide_type": ""
    },
    "tags": []
   },
   "source": [
    "<div style=\"text-align: center; margin-bottom: 25px; background-color: #F6E0F7; padding: 10px; border-radius: 10px;\">\n",
    "\n",
    "<a id='pesection_1'></a>\n",
    "\n",
    "<h1 style=\"color: #2E86C1; font-weight: bold;\">Introduction 👋</h1>\n",
    "\n",
    "</div>\n",
    "\n",
    "\n",
    "<div style=\"text-align: center; font-size: 13px; margin: 0 auto; width: 80%; border: 2px solid #2E86C1; padding: 20px; border-radius: 10px; box-shadow: 0 4px 8px rgba(0,0,0,0.1);\">\n",
    "\n",
    "**Welcome to the Condition Association Code Template tailored for the All of Us (AoU) data!** Our goal is to guide you through analyzing the relationship between two conditions using AoU data. This template offers a comprehensive pathway and code samples to simplify your analysis. It's designed for both beginners and experienced analysts. Please follow the [**AoU Condition Association Code Template Instructions**](https://drive.google.com/file/d/1gjwjX3Vq6GVTUkpQM_4PanhTBQScL8Fp/view?usp=sharing) to build your cohorts and data frames for this template. This is the only way to guarantee consistent results.\n",
    "\n",
    "**To upload these templates to a workspace in the All of Us Researcher Workbench, please [follow these instructions](https://support.researchallofus.org/hc/en-us/articles/360042684051-Are-external-coding-files-able-to-be-imported-for-analysis-)**\n",
    "    \n",
    "<font color='red' size=\"4\"><strong>Note: Each section contains important information. Please read them carefully! </strong></font>\n",
    "\n",
    "<div style=\"color: #2E86C1; text-align: center; margin-bottom: 10px; font-size: 20px; font-weight: bold; padding: 10px; border-radius: 10px;\">\n",
    "<u>Learning Objectives:</u>\n",
    "</div>\n",
    "\n",
    "<ul style=\"list-style-position: inside; text-align: left; display: inline-block;\">\n",
    "    <li><strong>Set up Python in Jupyter and load required libraries and packages.</strong></li>\n",
    "    <li><strong>Load and prepare dataframes for analysis.</strong></li>\n",
    "    <li><strong>Produce a data summary table.</strong></li>\n",
    "    <li><strong>Create and interpret visualizations, such as bar charts and density plots.</strong></li>\n",
    "    <li><strong>Conduct and interpret various tests and regressions:</strong>\n",
    "        <ul style=\"padding-left: 40px;\">\n",
    "            <li><strong>Use the Chi-square test for categorical data.</strong></li>\n",
    "            <li><strong>Apply the One-Way ANOVA for comparing means.</strong></li>\n",
    "            <li><strong>Perform unadjusted logistic regression for binary outcomes with one predictor.</strong></li>\n",
    "            <li><strong>Run adjusted logistic regression with multiple predictors.</strong></li>\n",
    "        </ul>\n",
    "    </li>\n",
    "    <li><strong>Draw conclusions from your analysis, considering the implications and limitations.</strong></li>\n",
    "</ul>\n",
    "\n",
    "</div>\n"
   ]
  },
  {
   "cell_type": "markdown",
   "id": "7e6c6765-3818-4a8f-862f-b0342f3b74e9",
   "metadata": {
    "slideshow": {
     "slide_type": ""
    },
    "tags": []
   },
   "source": [
    "---\n",
    "<div style=\"text-align: center; margin-bottom: 25px; background-color: #F6E0F7; padding: 10px; border-radius: 10px;\">\n",
    "\n",
    "<a id='pesection_2'></a>\n",
    "\n",
    "<h1 style=\"color: #2E86C1; font-weight: bold;\">Import Libraries 📚</h1>\n",
    "\n",
    "</div>\n",
    "\n",
    "<div style=\"border: 2px solid #2E86C1; padding: 20px; border-radius: 10px; margin: 20px 0; box-shadow: 0 4px 8px rgba(0,0,0,0.1);\">\n",
    "\n",
    "<div style=\"font-size: 13px; text-align: center; width: 80%; margin: 20px auto; line-height: 1.6; color: #333;\">\n",
    "    \n",
    "The following code block checks for each listed package. If not already installed, you will need to install the package using `!pip install package`.\n",
    "\n",
    "<strong>Automatically Imported by All of Us:</strong> `pandas`, `os`\n",
    "\n",
    "<strong>Require Manual Import:</strong> `random`, `datetime`, `tableone`, `scipy.stats`, `seaborn`, `matplotlib.pyplot`, `warnings`, `numpy`, `statsmodels.formula.api`, `forestplot`\n",
    "\n",
    "</div>\n",
    "\n",
    "<div style=\"text-align: center; margin: 20px auto; width: 80%; font-size: 13px; background-color: #e6f2ff; padding: 15px; border-radius: 6px; line-height: 1.6; border: 1px solid #2E86C1;\">\n",
    "<b>Note:</b> Packages are auto-imported only when using the DatasetBuilder to export dataframes. Without the DatasetBuilder, no packages are imported automatically.\n",
    "</div>\n",
    "\n",
    "</div>"
   ]
  },
  {
   "cell_type": "code",
   "execution_count": null,
   "id": "71552b05-f435-4985-9072-4135b5605de8",
   "metadata": {
    "slideshow": {
     "slide_type": ""
    },
    "tags": []
   },
   "outputs": [],
   "source": [
    "import pandas\n",
    "import random\n",
    "from random import choices\n",
    "from datetime import datetime\n",
    "from tableone import TableOne\n",
    "import seaborn as sns\n",
    "import matplotlib.pyplot as plt\n",
    "import warnings\n",
    "import numpy as np\n",
    "import scipy.stats as stats\n",
    "import statsmodels.formula.api as smf\n",
    "import forestplot as fp"
   ]
  },
  {
   "cell_type": "code",
   "execution_count": null,
   "id": "5344928a-b8f4-490e-ba97-0d1a89316070",
   "metadata": {
    "editable": true,
    "slideshow": {
     "slide_type": ""
    },
    "tags": []
   },
   "outputs": [],
   "source": [
    "# Uncomment below to install packages, error message will appear if package not installed\n",
    "# !pip install package_name"
   ]
  },
  {
   "cell_type": "markdown",
   "id": "15b0add0-0980-4c3a-a400-83feb3fd669c",
   "metadata": {
    "slideshow": {
     "slide_type": ""
    },
    "tags": []
   },
   "source": [
    "---\n",
    "\n",
    "<div style=\"text-align: center; margin-bottom: 25px; background-color: #F6E0F7; padding: 10px; border-radius: 10px;\">\n",
    "\n",
    "<a id='pesection_3'></a>\n",
    "\n",
    "<h1 style=\"color: #2E86C1; font-weight: bold;\">Import Data 🗃️</h1>\n",
    "\n",
    "</div>\n",
    "\n",
    "<div style=\"border: 2px solid #2E86C1; padding: 20px; border-radius: 10px; margin: 20px 0; box-shadow: 0 4px 8px rgba(0,0,0,0.1);\">\n",
    "\n",
    "<div style=\"font-size: 13px; text-align: center; width: 80%; margin: 20px auto; line-height: 1.6; color: #333;\">\n",
    "\n",
    "<font color='red' size=\"4\"><strong>Note: The real AoU data frames will be imported to the bottom of the code template. You need to move them up to this section! </strong></font> \n",
    "\n",
    "**How to do this:** Select the first imported cell, it will highlight blue. While holding down `Shift`, scroll to the last imported cell and click on it. All six cells should highlight blue. Hit the up arrow ⬆ in the toolbar and move the cells to this section. You can keep track of this in the Table of Contents by watching the yellow box move from section to section. Once it reaches the correct section (<font color='blue' size=\"2\"><strong>3. Import Data</strong></font>), you can stop moving the cells. Don't forget to rename the datasets in Section 4!\n",
    "\n",
    "</div>\n",
    "\n",
    "</div>"
   ]
  },
  {
   "cell_type": "markdown",
   "id": "25ab105d-9022-440a-84dd-248d1333cc5c",
   "metadata": {
    "slideshow": {
     "slide_type": ""
    },
    "tags": []
   },
   "source": [
    "<div style=\"text-align: center; margin-bottom: 25px; background-color: #F6E0F7; padding: 10px; border-radius: 10px;\">\n",
    "\n",
    "<a id='pesection_4'></a>\n",
    "\n",
    "<h1 style=\"color: #2E86C1; font-weight: bold;\">Relabel Data Frames 🏷️</h1>\n",
    "\n",
    "</div>\n",
    "\n",
    "<div style=\"border: 2px solid #2E86C1; padding: 20px; border-radius: 10px; margin: 20px 0; box-shadow: 0 4px 8px rgba(0,0,0,0.1);\">\n",
    "\n",
    "<div style=\"font-size: 13px; text-align: center; width: 80%; margin: 20px auto; line-height: 1.6; color: #333;\">\n",
    "In this section, you'll be renaming the AoU data frames. When datasets are imported into the notebook using the DatasetBuilder, they're named in the format: <code>dataset_12345678_domain_df</code>. The <code>domain</code> corresponds to the type of concept set linked to your cohort (i.e <code>person</code> corresponds to the <b>Demographics</b> prepackaged concept set).\n",
    "\n",
    "</div>\n",
    "\n",
    "</div>"
   ]
  },
  {
   "cell_type": "code",
   "execution_count": null,
   "id": "3d47cdfd-4281-40f4-a763-3146169b5c04",
   "metadata": {
    "slideshow": {
     "slide_type": ""
    },
    "tags": []
   },
   "outputs": [],
   "source": [
    "# Rename data frames\n",
    "case_df = insert_case_df_here\n",
    "\n",
    "control_df = insert_control_df_here\n",
    "\n",
    "condition_df = insert_condition_df_here\n",
    "\n",
    "# The outcome condition used to build case and control cohorts\n",
    "condition_1_name = \"insert condition 1 name\"\n",
    "# The predictor condition used to build condition cohort\n",
    "condition_2_name = \"insert condition 2 name\""
   ]
  },
  {
   "cell_type": "markdown",
   "id": "ca42a914-774a-46d3-83bf-31b4fe2bbcf8",
   "metadata": {
    "editable": false,
    "slideshow": {
     "slide_type": ""
    },
    "tags": []
   },
   "source": [
    "<div style=\"border: 2px solid #2E86C1; padding: 20px; border-radius: 10px; margin: 20px 0; box-shadow: 0 4px 8px rgba(0,0,0,0.1);\">\n",
    "\n",
    "<div style=\"font-size: 13px; text-align: center; width: 55%; margin: 40px auto 20px auto; line-height: 1.6; color: #333;\">\n",
    "Inspect the <strong>first 6 rows</strong> of the <code>case_df</code> and determine its <strong>dimensions</strong>.\n",
    "\n",
    "</div>\n",
    "\n",
    "</div>\n",
    "\n",
    "<div style=\"text-align: center; margin: 10px auto; width: 70%; font-size: 13px; background-color: #e6f2ff; padding: 15px; border-radius: 6px; line-height: 1.6; border: 1px solid #2E86C1;\">\n",
    "To examine other dataframes, replace <code>case_df</code> with the desired dataframe name, such as <code>control_df</code> or <code>condition_df</code>.\n",
    "</div>\n"
   ]
  },
  {
   "cell_type": "code",
   "execution_count": null,
   "id": "10685f85-9e2e-425c-86e3-ca02350bbb5f",
   "metadata": {
    "editable": true,
    "slideshow": {
     "slide_type": ""
    },
    "tags": []
   },
   "outputs": [],
   "source": [
    "# Displaying the head and shape of the dataframe\n",
    "print(case_df.shape)\n",
    "case_df.head()"
   ]
  },
  {
   "cell_type": "markdown",
   "id": "05dce416-5c12-4ce8-a70d-e186df59c88e",
   "metadata": {
    "slideshow": {
     "slide_type": ""
    },
    "tags": []
   },
   "source": [
    "---\n",
    "<div style=\"text-align: center; margin-bottom: 25px; background-color: #F6E0F7; padding: 10px; border-radius: 10px;\">\n",
    "\n",
    "<a id='pesection_5'></a>\n",
    "\n",
    "<h1 style=\"color: #2E86C1; font-weight: bold;\">Creating a Column for the Outcome 🖋️</h1>\n",
    "\n",
    "</div>\n",
    "\n",
    "<div style=\"border: 2px solid #2E86C1; padding: 20px; border-radius: 10px; margin: 20px 0; box-shadow: 0 4px 8px rgba(0,0,0,0.1);\">\n",
    "\n",
    "<div style=\"font-size: 13px; text-align: center; width: 80%; margin: 20px auto; line-height: 1.6; color: #333;\">\n",
    "\n",
    "In this guide, <strong>condition 1</strong> is treated as the <code>outcome</code> and used to define your <strong>case and control cohorts</strong>. Both <code>case_df</code> and <code>control_df</code> are constructed based on the presence or absence of the outcome. Since we'll be merging these dataframes later, it's crucial to <strong>introduce a new column</strong> distinguishing between cases and controls. This new column, termed <code>outcome</code>, will be assigned a value of <code>1</code> for the case group and <code>0</code> for the control group.\n",
    "\n",
    "</div>\n",
    "\n",
    "</div>\n",
    "\n",
    "<div style=\"text-align: center; margin: 10px auto; width: 70%; font-size: 13px; background-color: #e6f2ff; padding: 15px; border-radius: 6px; line-height: 1.6; border: 1px solid #2E86C1;\">\n",
    "Conditions are determined by their presence or absence in participant Electronic Health Records. If EHR data is unavailable or lacks records of a condition, it's presumed the participant does not have it. Keep this in mind when interpreting results!\n",
    "</div>\n"
   ]
  },
  {
   "cell_type": "code",
   "execution_count": null,
   "id": "c768d80e-b9be-43a2-b89a-0c41a177a1e9",
   "metadata": {
    "slideshow": {
     "slide_type": ""
    },
    "tags": []
   },
   "outputs": [],
   "source": [
    "# Assign all cases with the value 1 in a new column called 'outcome'\n",
    "case_df['outcome'] = 1\n",
    "\n",
    "# Assign all controls with the value 0 to same column\n",
    "control_df['outcome'] = 0\n",
    "\n",
    "# No factors in Python, so create column with labels -- this is for tables/plots only\n",
    "case_df['outcome_f'] = condition_1_name\n",
    "control_df['outcome_f'] = f'No {condition_1_name}'"
   ]
  },
  {
   "cell_type": "markdown",
   "id": "23dbd150-055c-43f1-a9e8-2ca7fbf7660f",
   "metadata": {
    "slideshow": {
     "slide_type": ""
    },
    "tags": []
   },
   "source": [
    "---\n",
    "<div style=\"text-align: center; margin-bottom: 25px; background-color: #F6E0F7; padding: 10px; border-radius: 10px;\">\n",
    "\n",
    "<a id='pesection_6'></a>\n",
    "\n",
    "<h1 style=\"color: #2E86C1; font-weight: bold;\">Creating a Column for the Predictor 🖋️</h1>\n",
    "\n",
    "</div>\n",
    "\n",
    "<div style=\"border: 2px solid #2E86C1; padding: 20px; border-radius: 10px; margin: 20px 0; box-shadow: 0 4px 8px rgba(0,0,0,0.1);\">\n",
    "\n",
    "<div style=\"font-size: 13px; text-align: center; width: 80%; margin: 20px auto; line-height: 1.6; color: #333;\">\n",
    "\n",
    "In this guide, <strong>condition 2</strong> is viewed as the <code>predictor</code> and used to define your <strong>condition cohort</strong>. We'll establish a new column within the <code>condition_df</code> dataframe to represent the this value. This new column, named <code>predictor</code>, will assign a value of <code>1</code> to each entry.\n",
    "\n",
    "</div>\n",
    "\n",
    "</div>\n",
    "\n",
    "<div style=\"text-align: center; margin: 10px auto; width: 70%; font-size: 13px; background-color: #e6f2ff; padding: 15px; border-radius: 6px; line-height: 1.6; border: 1px solid #2E86C1;\">\n",
    "Conditions are determined by their presence or absence in participant Electronic Health Records. If EHR data is unavailable or lacks records of a condition, it's presumed the participant does not have it. Keep this in mind when interpreting results!\n",
    "</div>\n"
   ]
  },
  {
   "cell_type": "code",
   "execution_count": null,
   "id": "181bef17-13a1-4541-a101-58791ceea6c5",
   "metadata": {
    "slideshow": {
     "slide_type": ""
    },
    "tags": []
   },
   "outputs": [],
   "source": [
    "# Assign 1 to all persons in a new column called 'predictor'\n",
    "condition_df['predictor'] = condition_2_name\n",
    "\n",
    "print(condition_df.shape)\n",
    "condition_df.head()"
   ]
  },
  {
   "cell_type": "markdown",
   "id": "c2721f35-65ef-4d43-b931-75118e615e02",
   "metadata": {
    "slideshow": {
     "slide_type": ""
    },
    "tags": []
   },
   "source": [
    "---\n",
    "<div style=\"text-align: center; margin-bottom: 25px; background-color: #F6E0F7; padding: 10px; border-radius: 10px;\">\n",
    "\n",
    "<a id='pesection_7'></a>\n",
    "\n",
    "<h1 style=\"color: #2E86C1; font-weight: bold;\">Join the Data Frames 🔗</h1>\n",
    "\n",
    "</div>\n",
    "\n",
    "\n",
    "\n",
    "<div style=\"border: 2px solid #2E86C1; padding: 20px; border-radius: 10px; margin: 20px 0; box-shadow: 0 4px 8px rgba(0,0,0,0.1);\">\n",
    "\n",
    "<div style=\"font-size: 13px; text-align: center; width: 80%; margin: 20px auto; line-height: 1.6; color: #333;\">\n",
    "    \n",
    "<strong>1) Full Join:</strong> This process appends the rows from `case_df` to `control_df` for all columns (they should have same column names).\n",
    "\n",
    "</div>\n",
    "\n",
    "<div style=\"font-size: 13px; text-align: center; width: 80%; margin: 20px auto; line-height: 1.6; color: #333;\">\n",
    "\n",
    "<strong>2) Left Join:</strong> For each `person_id` in `merged_df`, a value of `1` is assigned to the `predictor` column if the ID exists in `condition_df`. Otherwise, the `predictor` column value is set to `NA`.\n",
    "\n",
    "</div>\n",
    "\n",
    "</div>"
   ]
  },
  {
   "cell_type": "code",
   "execution_count": null,
   "id": "9d8f2bad-4613-4510-b561-8ba1145144e9",
   "metadata": {
    "slideshow": {
     "slide_type": ""
    },
    "tags": []
   },
   "outputs": [],
   "source": [
    "# Full join the case and control dfs\n",
    "merged_df = pandas.merge(case_df, control_df, how='outer') \n",
    "\n",
    "# Left join the condition_df\n",
    "merged_df = pandas.merge(merged_df, condition_df, how='left', on='person_id')"
   ]
  },
  {
   "cell_type": "markdown",
   "id": "c5d4eb52-678a-47c3-9bec-f3f860690c5e",
   "metadata": {
    "slideshow": {
     "slide_type": ""
    },
    "tags": []
   },
   "source": [
    "---\n",
    "<div style=\"text-align: center; margin-bottom: 25px; background-color: #F6E0F7; padding: 10px; border-radius: 10px;\">\n",
    "\n",
    "<a id='pesection_8'></a>\n",
    "\n",
    "<h1 style=\"color: #2E86C1; font-weight: bold;\">Replace NAs 🔄</h1>\n",
    "\n",
    "</div>\n",
    "\n",
    "<div style=\"border: 2px solid #2E86C1; padding: 20px; border-radius: 10px; margin: 20px 0; box-shadow: 0 4px 8px rgba(0,0,0,0.1);\">\n",
    "\n",
    "<div style=\"font-size: 13px; text-align: center; width: 80%; margin: 20px auto; line-height: 1.6; color: #333;\">\n",
    "Ensure that you fill in the <code>NA</code> values with <code>0</code>!\n",
    "\n",
    "</div>\n",
    "\n",
    "</div>\n",
    "\n",
    "<div style=\"text-align: center; margin: 10px auto; width: 70%; font-size: 13px; background-color: #e6f2ff; padding: 15px; border-radius: 6px; line-height: 1.6; border: 1px solid #2E86C1;\">\n",
    "The only column that should have <code>NA</code> values is the <code>predictor</code> column. <br>\n",
    "<b>If this is not the case, there was an error with importing your dataset.</b>\n",
    "</div>"
   ]
  },
  {
   "cell_type": "code",
   "execution_count": null,
   "id": "1f589191-0bc0-498f-b085-483060b6d431",
   "metadata": {
    "slideshow": {
     "slide_type": ""
    },
    "tags": []
   },
   "outputs": [],
   "source": [
    "# This takes the NA values created from the left join and makes them the value 'No condition_2_name'.\n",
    "merged_df = merged_df.fillna(f'No {condition_2_name}')"
   ]
  },
  {
   "cell_type": "markdown",
   "id": "ceb3e44f-22cf-43ac-8a46-4b32045df26c",
   "metadata": {
    "slideshow": {
     "slide_type": ""
    },
    "tags": []
   },
   "source": [
    "---\n",
    "<div style=\"text-align: center; margin-bottom: 25px; background-color: #F6E0F7; padding: 10px; border-radius: 10px;\">\n",
    "\n",
    "<a id='pesection_9'></a>\n",
    "\n",
    "<h1 style=\"color: #2E86C1; font-weight: bold;\">Transform to Categorical Variables 🔡</h1>\n",
    "\n",
    "</div>\n",
    "\n",
    "<div style=\"border: 2px solid #2E86C1; padding: 20px; border-radius: 10px; margin: 20px 0; box-shadow: 0 4px 8px rgba(0,0,0,0.1);\">\n",
    "\n",
    "<div style=\"font-size: 13px; text-align: center; width: 80%; margin: 20px auto; line-height: 1.6; color: #333;\">\n",
    "    \n",
    "Our variables, namely `outcome_f`, `predictor`,`sex_at_birth`, `race`, and `ethnicity`, consist of character values. While logistic regression would inherently transform these into categorical values, proactively handling this conversion is advisable. By doing so, we can review and, if needed, reset the reference level. This foresight facilitates a clearer interpretation of odds ratios later in our analysis.\n",
    "    \n",
    "</div>\n",
    "\n",
    "</div>\n",
    "\n",
    "<div style=\"text-align: center; margin: 10px auto; width: 70%; font-size: 13px; background-color: #e6f2ff; padding: 15px; border-radius: 6px; line-height: 1.6; border: 1px solid #2E86C1;\">\n",
    "The logistic regression reasoning does not apply to <code>outcome_f</code> because <code>outcome</code> is used instead, just doing it for the tables and plots later.\n",
    "</div>\n",
    "\n",
    "</div>"
   ]
  },
  {
   "cell_type": "code",
   "execution_count": null,
   "id": "1c2e9c97-210d-49ee-b126-95a035b17152",
   "metadata": {
    "slideshow": {
     "slide_type": ""
    },
    "tags": []
   },
   "outputs": [],
   "source": [
    "# Categorize the variables\n",
    "merged_df['race'] = merged_df['race'].astype('category')\n",
    "merged_df['ethnicity'] = merged_df['ethnicity'].astype('category')\n",
    "merged_df['sex_at_birth'] = merged_df['sex_at_birth'].astype('category')\n",
    "merged_df['predictor'] = merged_df['predictor'].astype('category')\n",
    "merged_df['outcome_f'] = merged_df['outcome_f'].astype('category')"
   ]
  },
  {
   "cell_type": "code",
   "execution_count": null,
   "id": "ec233a91-031a-4724-848b-1d9ec1ddfd56",
   "metadata": {
    "editable": true,
    "slideshow": {
     "slide_type": ""
    },
    "tags": []
   },
   "outputs": [],
   "source": [
    "# Reset the predictor reference level to 'No {condition_2_name}'\n",
    "merged_df['predictor'] = merged_df['predictor'].cat.reorder_categories([f\"No {condition_2_name}\", condition_2_name])\n",
    "print(merged_df['predictor'].cat.categories)"
   ]
  },
  {
   "cell_type": "markdown",
   "id": "82beda94-08eb-4e41-8335-ed1a93a80473",
   "metadata": {
    "slideshow": {
     "slide_type": ""
    },
    "tags": []
   },
   "source": [
    "---\n",
    "<div style=\"text-align: center; margin-bottom: 25px; background-color: #F6E0F7; padding: 10px; border-radius: 10px;\">\n",
    "\n",
    "<a id='pesection_10'></a>\n",
    "\n",
    "<h1 style=\"color: #2E86C1; font-weight: bold;\">Calculate Age 📅</h1>\n",
    "\n",
    "</div>\n",
    "\n",
    "<div style=\"border: 2px solid #2E86C1; padding: 20px; border-radius: 10px; margin: 20px 0; box-shadow: 0 4px 8px rgba(0,0,0,0.1);\">\n",
    "\n",
    "<div style=\"font-size: 13px; text-align: center; width: 80%; margin: 20px auto; line-height: 1.6; color: #333;\">\n",
    "    \n",
    "The code below computes an integer <code>age</code> variable using today's date. It then bins <code>age</code> and creates a categorical <code>age_group</code> variable.\n",
    "\n",
    "</div>\n",
    "\n",
    "</div>\n",
    "\n",
    "<div style=\"text-align: center; margin: 10px auto; width: 70%; font-size: 13px; background-color: #e6f2ff; padding: 15px; border-radius: 6px; line-height: 1.6; border: 1px solid #2E86C1;\">\n",
    "To compute the age at the time of primary consent, refer to the <a href=\"https://support.researchallofus.org/hc/en-us/articles/13176125767188-How-to-find-participant-enrollment-data\"><b>User Support Hub</b></a>. \n",
    "The link provides the necessary SQL code to fetch the <code>person_id</code> alongside the corresponding <code>primary_consent_date</code> for all participants in the All of Us database. For accurate age calculation, replace <code>today</code> with an appropriate variable name and substitute <code>Sys.Date()</code> with the provided SQL code.\n",
    "</div>\n"
   ]
  },
  {
   "cell_type": "code",
   "execution_count": null,
   "id": "951d3685-21e6-45a2-89b8-21eec11015a7",
   "metadata": {
    "editable": true,
    "slideshow": {
     "slide_type": ""
    },
    "tags": []
   },
   "outputs": [],
   "source": [
    "# Get today's date\n",
    "today = datetime.now()"
   ]
  },
  {
   "cell_type": "code",
   "execution_count": null,
   "id": "7d3f519f-8f97-4ea8-95be-868c187e1003",
   "metadata": {
    "slideshow": {
     "slide_type": ""
    },
    "tags": []
   },
   "outputs": [],
   "source": [
    "# Ensure the date_of_birth is in datetime format\n",
    "merged_df['date_of_birth'] = pandas.to_datetime(merged_df['date_of_birth']).dt.date\n",
    "\n",
    "# Calculate age in years\n",
    "merged_df['age'] = (today - pandas.to_datetime(merged_df['date_of_birth'])) / np.timedelta64(1, 'D') / 365.25\n",
    "merged_df['age'] = merged_df['age'].astype(int)\n",
    "\n",
    "# Create age groups\n",
    "bins = [18, 29, 39, 49, 59, 69, 79, float('inf')]\n",
    "labels = ['18-29', '30-39', '40-49', '50-59', '60-69', '70-79', '80+']\n",
    "merged_df['age_group'] = pandas.cut(merged_df['age'], bins=bins, labels=labels)\n",
    "\n",
    "# Remove unused categories\n",
    "merged_df['age_group'] = merged_df['age_group'].cat.remove_unused_categories()"
   ]
  },
  {
   "cell_type": "markdown",
   "id": "6b958dc4-f3bf-4357-b99f-13108b3611b9",
   "metadata": {
    "slideshow": {
     "slide_type": ""
    },
    "tags": []
   },
   "source": [
    "---\n",
    "<div style=\"text-align: center; margin-bottom: 25px; background-color: #F6E0F7; padding: 10px; border-radius: 10px;\">\n",
    "\n",
    "<a id='pesection_11'></a>\n",
    "\n",
    "<h1 style=\"color: #2E86C1; font-weight: bold;\">Explore Cleaned Data 🔍</h1>\n",
    "\n",
    "</div>\n",
    "\n",
    "<div style=\"border: 2px solid #2E86C1; padding: 20px; border-radius: 10px; margin: 20px 0; box-shadow: 0 4px 8px rgba(0,0,0,0.1);\">\n",
    "\n",
    "<div style=\"font-size: 13px; text-align: center; width: 80%; margin: 20px auto; line-height: 1.6; color: #333;\">\n",
    "\n",
    "Inspect the first 6 rows of <code>merged_df</code> and review its dimensions to understand the structure of the cleaned dataset.\n",
    "\n",
    "</div>\n",
    "\n",
    "</div>"
   ]
  },
  {
   "cell_type": "code",
   "execution_count": null,
   "id": "4b49f139-01dd-4f40-86d1-182093639bfa",
   "metadata": {
    "slideshow": {
     "slide_type": ""
    },
    "tags": []
   },
   "outputs": [],
   "source": [
    "print(merged_df.shape)\n",
    "merged_df.head()"
   ]
  },
  {
   "cell_type": "markdown",
   "id": "6917f391-7660-4c37-82ff-b24d88445850",
   "metadata": {
    "slideshow": {
     "slide_type": ""
    },
    "tags": []
   },
   "source": [
    "<div style=\"text-align: center; margin-bottom: 20px; background-color: #F6E0F7; padding: 8px; border-radius: 8px;\">\n",
    "\n",
    "<a id='pesection_11_1'></a>\n",
    "\n",
    "<h2 style=\"color: #2E86C1; font-weight: bold;\">Numerical Summary 🧮</h2>\n",
    "\n",
    "</div>\n",
    "\n",
    "<div style=\"border: 2px solid #2E86C1; padding: 20px; border-radius: 10px; margin: 20px 0; box-shadow: 0 4px 8px rgba(0,0,0,0.1);\">\n",
    "\n",
    "<div style=\"font-size: 13px; text-align: center; width: 80%; margin: 20px auto; line-height: 1.6; color: #333;\">\n",
    "\n",
    "The code generates a table summarizing counts for categorical variables and means for quantitative variables, grouped by the binary outcome. It evaluates statistical significance using <b>chi-square tests for counts and one-way ANOVA or t-test for means</b>.\n",
    "\n",
    "\n",
    "\n",
    "</div>\n",
    "\n",
    "</div>\n",
    "\n",
    "<div style=\"text-align: center; margin: 12px auto; width: 60%; font-size: 13px; background-color: #e6f2ff; padding: 15px; border-radius: 6px; line-height: 1.6; border: 1px solid #2E86C1;\">\n",
    "PLEASE REVIEW THE <a href=\"https://pitt-my.sharepoint.com/:b:/g/personal/alc244_pitt_edu/EYnZiMKc_4FAiov_ikL6bBwB0AN55QD28xMX2YlwbGDEeQ?e=5iAbnx\"><b>ASSUMPTIONS OF THESE TESTS</b></a>! <br>\n",
    "<br>\n",
    "\n",
    "The p-value threshold is **set to 0.05** for the tests below. When interpreting p-values, especially for large sample sizes, it's important to keep in mind the following points:\n",
    "\n",
    "- <b>Sensitivity to Large Sample Sizes:</b> In large datasets, the statistical power is so high that even negligible differences can produce statistically significant results, potentially overstating the importance of the findings.\n",
    "\n",
    "- <b>Statistical vs. Practical Significance:</b> A small p-value indicates statistical significance but doesn't assess the practical relevance of the findings; it's essential to also consider the magnitude and implications of the effect size.\n",
    "\n",
    "- <b>Multiple Comparisons Issue:</b> Conducting multiple statistical tests increases the likelihood of encountering significant results by chance; in such cases, adjusting p-values or applying stricter significance criteria can help mitigate false discoveries.\n",
    "\n",
    "</div>"
   ]
  },
  {
   "cell_type": "code",
   "execution_count": null,
   "id": "082f2e8f-884b-46b0-bde8-8788d8f4db3d",
   "metadata": {
    "slideshow": {
     "slide_type": ""
    },
    "tags": []
   },
   "outputs": [],
   "source": [
    "# Some deprecation errors..ignore them\n",
    "warnings.filterwarnings(\"ignore\")\n",
    "\n",
    "# Define labels for the columns\n",
    "labels = {\n",
    "    'sex_at_birth': 'Sex',\n",
    "    'race': 'Race',\n",
    "    'ethnicity': 'Ethnicity',\n",
    "    'age': 'Age',\n",
    "    'age_group': 'Age Group',\n",
    "    'predictor': 'Predictor',\n",
    "    'outcome_f': 'Outcome'\n",
    "}\n",
    "\n",
    "# Specify columns to be included in the table\n",
    "columns = ['age', 'sex_at_birth', 'race', 'ethnicity', 'age_group', 'predictor']\n",
    "\n",
    "# Specify categorical columns\n",
    "categorical = ['sex_at_birth', 'race', 'ethnicity', 'age_group', 'predictor']\n",
    "\n",
    "# Label reference categories\n",
    "def append_ref_to_label(data, exclude_var=None):\n",
    "    for column in data.columns:\n",
    "        if pandas.api.types.is_categorical_dtype(data[column]) and column != exclude_var:\n",
    "            categories = data[column].cat.categories\n",
    "            new_categories = [f\"{cat} (ref)\" if i == 0 else cat for i, cat in enumerate(categories)]\n",
    "            data[column] = data[column].cat.rename_categories(new_categories)\n",
    "    return data\n",
    "\n",
    "labelled_df = merged_df.copy()\n",
    "\n",
    "append_ref_to_label(labelled_df, exclude_var=None)\n",
    "\n",
    "\n",
    "# Create an instance of TableOne with the data\n",
    "table = TableOne(labelled_df, columns=columns, categorical=categorical, groupby='outcome_f', \n",
    "                 rename=labels, pval=True, missing=False, overall=False)\n",
    "\n",
    "# Print the table\n",
    "table"
   ]
  },
  {
   "cell_type": "markdown",
   "id": "5367b311-0258-4339-a7cc-44a84efce801",
   "metadata": {
    "slideshow": {
     "slide_type": ""
    },
    "tags": []
   },
   "source": [
    "<div style=\"text-align: center; margin-bottom: 15px; background-color: #F6E0F7; padding: 6px; border-radius: 6px;\">\n",
    "\n",
    "<a id='pesection_11_1_1'></a>\n",
    "\n",
    "<h3 style=\"color: #2E86C1; font-weight: bold;\">Equality of Variance Test</h3>\n",
    "\n",
    "</div>\n",
    "\n",
    "<div style=\"border: 2px solid #2E86C1; padding: 20px; border-radius: 10px; margin: 20px 0; box-shadow: 0 4px 8px rgba(0,0,0,0.1);\">\n",
    "\n",
    "<div style=\"font-size: 13px; text-align: center; width: 80%; margin: 20px auto; line-height: 1.6; color: #333;\">\n",
    "\n",
    "**Equality of variance** is an assumption for the one-way ANOVA/t-test above. **Levene's test** is ran below for `age`, a quantitative variable to compares the spread (or variance) of `age` between the case and control groups.\n",
    "</div>\n",
    "\n",
    "</div>"
   ]
  },
  {
   "cell_type": "code",
   "execution_count": null,
   "id": "b3134a6f-c75c-4af5-9cdb-2b45acb9af43",
   "metadata": {
    "editable": true,
    "slideshow": {
     "slide_type": ""
    },
    "tags": []
   },
   "outputs": [],
   "source": [
    "# Split into case and control groups\n",
    "case_group = merged_df[merged_df['outcome'] == 0]\n",
    "control_group = merged_df[merged_df['outcome'] == 1]\n",
    "# Run Levene's test\n",
    "stats.levene(case_group['age'], control_group['age'], center='mean')"
   ]
  },
  {
   "cell_type": "markdown",
   "id": "559791cc-8b81-4b25-a0a0-44b94a060185",
   "metadata": {
    "editable": false,
    "slideshow": {
     "slide_type": ""
    },
    "tags": []
   },
   "source": [
    "<div style=\"font-size: 13px\"; class=\"alert alert-block alert-warning\">\n",
    "    <b>Interpreting Levene's Test Output:</b>\n",
    "    <ul>\n",
    "        <li><b>statistic:</b> A value representing the significance of the difference in variability among groups. Lower values suggest that variances are more similar.</li>\n",
    "        <li><b>p-value:</b> A value greater than common significance levels (e.g., 0.05), suggesting insufficient evidence to reject the null hypothesis of equal variances.</li>\n",
    "    </ul>\n",
    "\n",
    "</div>"
   ]
  },
  {
   "cell_type": "markdown",
   "id": "d538444e-5bdf-40b7-a9d0-b9e5f0c28a24",
   "metadata": {
    "slideshow": {
     "slide_type": ""
    },
    "tags": []
   },
   "source": [
    "<div style=\"text-align: center; margin-bottom: 20px; background-color: #F6E0F7; padding: 8px; border-radius: 8px;\">\n",
    "\n",
    "<a id='pesection_11_2'></a>\n",
    "\n",
    "<h2 style=\"color: #2E86C1; font-weight: bold;\">Graphical Summaries 📊</h2>\n",
    "\n",
    "</div>\n",
    "\n",
    "<div style=\"text-align: center; margin-bottom: 15px; background-color: #F6E0F7; padding: 6px; border-radius: 6px;\">\n",
    "\n",
    "<a id='pesection_11_2_1'></a>\n",
    "\n",
    "<h3 style=\"color: #2E86C1; font-weight: bold;\">Density/Histogram Plot</h3>\n",
    "\n",
    "</div>\n",
    "\n",
    "<div style=\"border: 2px solid #2E86C1; padding: 20px; border-radius: 10px; margin: 20px 0; box-shadow: 0 4px 8px rgba(0,0,0,0.1);\">\n",
    "\n",
    "<div style=\"font-size: 13px; text-align: center; width: 80%; margin: 20px auto; line-height: 1.6; color: #333;\">\n",
    "\n",
    "This provides a <strong>density/histogram plot of age</strong> in the case and control groups. For this template, <code>age</code> is the only numeric value.\n",
    "\n",
    "</div>\n",
    "\n",
    "</div>"
   ]
  },
  {
   "cell_type": "code",
   "execution_count": null,
   "id": "e3de0edb-f1d5-4fee-ae09-187d6284ca81",
   "metadata": {
    "slideshow": {
     "slide_type": ""
    },
    "tags": []
   },
   "outputs": [],
   "source": [
    "# Separate plot by outcome groups\n",
    "# Set height of plot\n",
    "hist_grid = sns.FacetGrid(merged_df, col=\"outcome_f\", height = 7)\n",
    "# Create histogram..specify density as stat\n",
    "hist_grid.map_dataframe(sns.histplot, x='age', stat=\"density\", kde=True, hue='outcome_f')\n",
    "# Set grouping label\n",
    "hist_grid.set_titles(\"{col_name}\")\n",
    "# Set title\n",
    "hist_grid.fig.suptitle(\"Distribution of Age By Case/Control\")\n",
    "# Set axis labels\n",
    "hist_grid.set_axis_labels('Age', 'Density')"
   ]
  },
  {
   "cell_type": "markdown",
   "id": "68d64d09-bf94-460d-a862-bdba219efd55",
   "metadata": {
    "slideshow": {
     "slide_type": ""
    },
    "tags": []
   },
   "source": [
    "<div style=\"text-align: center; margin-bottom: 15px; background-color: #F6E0F7; padding: 6px; border-radius: 6px;\">\n",
    "\n",
    "<a id='pesection_11_2_2'></a>\n",
    "\n",
    "<h3 style=\"color: #2E86C1; font-weight: bold;\">Bar Plot</h3>\n",
    "\n",
    "</div>\n",
    "\n",
    "<div style=\"border: 2px solid #2E86C1; padding: 20px; border-radius: 10px; margin: 20px 0; box-shadow: 0 4px 8px rgba(0,0,0,0.1);\">\n",
    "\n",
    "<div style=\"font-size: 13px; text-align: center; width: 80%; margin: 20px auto; line-height: 1.6; color: #333;\">\n",
    "\n",
    "This provides a <strong>bar plot of categorical values</strong> in the case and control groups. <strong>Replace the value</strong> assigned to <code>categorical_variable</code> with the column name you would like to observe (i.e. <font color=\"red\">\"sex_at_birth\"</font>). Also, <strong>replace the name</strong> for <code>label</code> with the name you would like to display for the column in the graph (i.e. <font color=\"red\">\"Sex\"</font>)\n",
    "\n",
    "</div>\n",
    "\n",
    "</div>"
   ]
  },
  {
   "cell_type": "code",
   "execution_count": null,
   "id": "aef834af-7529-4593-a622-5775c9c87ffd",
   "metadata": {
    "editable": true,
    "slideshow": {
     "slide_type": ""
    },
    "tags": []
   },
   "outputs": [],
   "source": [
    "# Specify the column name for the categorical variable\n",
    "categorical_variable = \"sex_at_birth\"\n",
    "label = \"Sex\"\n",
    "fig_height = 7"
   ]
  },
  {
   "cell_type": "code",
   "execution_count": null,
   "id": "a5b7e671-f4aa-462d-992a-40f8155070ba",
   "metadata": {
    "slideshow": {
     "slide_type": ""
    },
    "tags": []
   },
   "outputs": [],
   "source": [
    "# Separate by outcome\n",
    "perc_grid = sns.FacetGrid(merged_df, col=\"outcome_f\", height = fig_height)\n",
    "# Create histogram..specify percentage as stat\n",
    "perc_grid.map_dataframe(sns.histplot, x=categorical_variable, stat=\"percent\", hue=categorical_variable)\n",
    "# Set grouping label\n",
    "perc_grid.set_titles(\"{col_name}\")\n",
    "# Set title\n",
    "perc_grid.fig.suptitle(f\"Proportion of {label} By Case/Control\")\n",
    "# Set axis labels\n",
    "perc_grid.set_axis_labels(label, 'Percent')\n",
    "\n",
    "def annotate(ax):\n",
    "    for p in ax.patches:\n",
    "        if p.get_height() > 0:  # Add annotations only for bars with non-zero height\n",
    "            percentage = '{:.1f}%'.format(p.get_height())\n",
    "            x = p.get_x() + p.get_width() / 2\n",
    "            y = p.get_y() + p.get_height() - 2\n",
    "            ax.text(x, y, percentage, ha='center', va='bottom')\n",
    "\n",
    "# Applying the annotation function to each axis\n",
    "for ax in perc_grid.axes.flat:\n",
    "    annotate(ax)\n",
    "\n",
    "plt.show()"
   ]
  },
  {
   "cell_type": "markdown",
   "id": "646a0fd6-0ee9-4c94-a77a-ed4d5ef28559",
   "metadata": {
    "slideshow": {
     "slide_type": ""
    },
    "tags": []
   },
   "source": [
    "---\n",
    "<div style=\"text-align: center; margin-bottom: 25px; background-color: #F6E0F7; padding: 10px; border-radius: 10px;\">\n",
    "\n",
    "<a id='pesection_12'></a>\n",
    "\n",
    "<h1 style=\"color: #2E86C1; font-weight: bold;\">Statistical Analysis 📈🧐</h1>\n",
    "\n",
    "</div>\n",
    "\n",
    "<div style=\"border: 2px solid #2E86C1; padding: 20px; border-radius: 10px; margin: 20px 0; box-shadow: 0 4px 8px rgba(0,0,0,0.1);\">\n",
    "\n",
    "<div style=\"font-size: 13px; text-align: center; width: 80%; margin: 20px auto; line-height: 1.6; color: #333;\">\n",
    "    \n",
    "**You have the option to run all the tests listed below, or simply select the specific one you need and execute the cells below it.** \n",
    "\n",
    "</div>\n",
    "\n",
    "</div>\n"
   ]
  },
  {
   "cell_type": "markdown",
   "id": "7c1df337-4d33-4493-b55c-670b3edb5081",
   "metadata": {
    "slideshow": {
     "slide_type": ""
    },
    "tags": []
   },
   "source": [
    "<div style=\"text-align: center; margin-bottom: 20px; background-color: #F6E0F7; padding: 8px; border-radius: 8px;\">\n",
    "\n",
    "<a id='pesection_12_1'></a>\n",
    "\n",
    "<h2 style=\"color: #2E86C1; font-weight: bold;\">Unadjusted Logistic Regression</h2>\n",
    "\n",
    "</div>\n",
    "\n",
    "<div style=\"border: 2px solid #2E86C1; padding: 20px; border-radius: 10px; margin: 20px 0; box-shadow: 0 4px 8px rgba(0,0,0,0.1);\">\n",
    "<div style=\"font-size: 13px; text-align: center; width: 80%; margin: 20px auto; line-height: 1.6; color: #333;\">\n",
    "\n",
    "Welcome to the section on **Unadjusted Logistic Regression**. This statistical method, also known as \"simple\" or \"bivariate\" logistic regression, serves as a foundational approach to understand the relationship between a binary response variable and a single predictor.\n",
    "\n",
    "Here are some key components to grasp:\n",
    "\n",
    "- **Response Variable:** At its core, this method requires a binary outcome. Think of results like Yes/No, 1/0, or Success/Failure.\n",
    "\n",
    "- **Predictor Variable:** This can be either categorical, such as gender, or continuous like age. For instance, one might be investigating the effect of race on the odds of developing a certain disease.\n",
    "\n",
    "- **Odds Ratio (OR):** A crucial metric in logistic regression. For a categorical predictor, the odds ratio compares the odds of the outcome between different levels of the predictor relative to a reference category, rather than indicating the change in odds for a one-unit increase.\n",
    "\n",
    "Dive in, explore, and use this method to draw meaningful conclusions from your data.\n",
    "\n",
    "</div>\n",
    "\n",
    "</div>\n",
    "\n",
    "<div style=\"text-align: center; margin: 12px auto; width: 60%; font-size: 13px; background-color: #e6f2ff; padding: 15px; border-radius: 6px; line-height: 1.6; border: 1px solid #2E86C1;\">\n",
    "PLEASE REVIEW THE <a href=\"https://pitt-my.sharepoint.com/:w:/g/personal/alc244_pitt_edu/EWC4vBJfBL5FnMK4FS1A1z8BR12P0bqwv8Ge5K_NAORWoA?e=tjtxuM\"><b>ASSUMPTIONS OF THIS TEST</b></a>!<br>\n",
    "<br>\n",
    "\n",
    "The p-value threshold is **set to 0.05** for the tests below. When interpreting p-values, especially for large sample sizes, it's important to keep in mind the following points:\n",
    "\n",
    "- <b>Sensitivity to Large Sample Sizes:</b> In large datasets, the statistical power is so high that even negligible differences can produce statistically significant results, potentially overstating the importance of the findings.\n",
    "\n",
    "- <b>Statistical vs. Practical Significance:</b> A small p-value indicates statistical significance but doesn't assess the practical relevance of the findings; it's essential to also consider the magnitude and implications of the effect size.\n",
    "\n",
    "- <b>Multiple Comparisons Issue:</b> Conducting multiple statistical tests increases the likelihood of encountering significant results by chance; in such cases, adjusting p-values or applying stricter significance criteria can help mitigate false discoveries.\n",
    "\n",
    "</div>"
   ]
  },
  {
   "cell_type": "code",
   "execution_count": null,
   "id": "eedb91b1-ba28-4e41-9bbd-a352e6014326",
   "metadata": {
    "editable": true,
    "slideshow": {
     "slide_type": ""
    },
    "tags": []
   },
   "outputs": [],
   "source": [
    "# Run logistic regression\n",
    "unadj_reg = smf.logit(\"outcome ~ predictor\", data = merged_df).fit()\n",
    "# Show results\n",
    "unadj_reg.summary()"
   ]
  },
  {
   "cell_type": "markdown",
   "id": "9944ebba-ee35-4aa7-981b-c25684bd2f25",
   "metadata": {
    "editable": false,
    "slideshow": {
     "slide_type": ""
    },
    "tags": []
   },
   "source": [
    "<div style=\"font-size: 13px\"; class=\"alert alert-block alert-warning\">\n",
    "<b>Interpreting the Logistic Regression Output:</b>\n",
    "    <ul>\n",
    "        <li><b>Pseudo R-squared:</b> A measure to compare the fit of the model to a null model. It doesn’t have a straightforward interpretation as the proportion of variance explained, but rather it gives us an idea of the improvement of our model over a null model.</li>\n",
    "        <li><b>Log-Likelihood:</b> Representing the log of the likelihood function at its maximum. These will always be negative, and a higher (closer to 0) value indicates a better model fit.</li>\n",
    "        <li><b>LLR p-value:</b> A low p-value suggests that the model is a better fit than a null model with no predictors.</li>\n",
    "        <li><b>coef:</b>\n",
    "            <ul>\n",
    "                <li><code>Intercept</code>: The log-odds of the outcome when all predictors are zero.</li>\n",
    "                <li><code>predictor[T.Chronic Sinusitis]</code>: The change in log-odds of the outcome for a unit change in the predictor.</li>\n",
    "            </ul>\n",
    "        </li>\n",
    "        <li><b>std err:</b> The standard error of the coefficients. It is a measure of the accuracy of the coefficients.</li>\n",
    "        <li><b>z:</b> The z-score, calculated as the coefficient divided by the standard error. It is used to test the hypothesis that the coefficient is different from zero.</li>\n",
    "        <li><b>P>|z|:</b> The p-value associated with the z-score;It helps you infer the statistical significance of each coefficient.</li>\n",
    "        <li><b>[0.025 0.975]:</b> The 95% confidence interval for the coefficient. </li>\n",
    "    </ul>\n",
    "</div>"
   ]
  },
  {
   "cell_type": "markdown",
   "id": "eb783d7d-5d4d-4e08-b38c-90884203b952",
   "metadata": {
    "slideshow": {
     "slide_type": ""
    },
    "tags": []
   },
   "source": [
    "<div style=\"text-align: center; margin-bottom: 15px; background-color: #F6E0F7; padding: 6px; border-radius: 6px;\">\n",
    "\n",
    "<a id='pesection_12_1_1'></a>\n",
    "\n",
    "<h3 style=\"color: #2E86C1; font-weight: bold;\">Odds Ratio and Confidence Interval</h3>\n",
    "\n",
    "</div>\n",
    "\n",
    "<div style=\"border: 2px solid #2E86C1; padding: 20px; border-radius: 10px; margin: 20px 0; box-shadow: 0 4px 8px rgba(0,0,0,0.1);\">\n",
    "\n",
    "<div style=\"font-size: 13px; text-align: center; width: 80%; margin: 20px auto; line-height: 1.6; color: #333;\">\n",
    "\n",
    "**Interpreting the Unadjusted Logistic Regression Results:**\n",
    "\n",
    "**Chronic Sinusitis:** Those with the `predictor` Chronic Sinusitis have a 157% [130%-188%] increase in the odds of having the `outcome` Atopic Dermatitis when compared to individuals without the `predictor` Chronic Sinusitis.\n",
    "\n",
    "<div style=\"font-size: 13px; text-align: center; width: 90%; margin: 20px auto; color: #555;\">\n",
    "<b>Note:</b> Confidence intervals that span over 1 suggest the result isn't statistically significant at the standard 0.05 level.\n",
    "</div>\n",
    "</div>\n",
    "</div>"
   ]
  },
  {
   "cell_type": "code",
   "execution_count": null,
   "id": "7efa078b-0eb2-445a-9685-08af54908165",
   "metadata": {
    "slideshow": {
     "slide_type": ""
    },
    "tags": []
   },
   "outputs": [],
   "source": [
    "# Create OR column\n",
    "unadj_odds = pandas.DataFrame(np.exp(unadj_reg.params), columns= ['OR'])\n",
    "# Create CI column\n",
    "unadj_odds[['2.5%', '97.5%']] = np.exp(unadj_reg.conf_int())\n",
    "# Print OR and CI\n",
    "unadj_odds"
   ]
  },
  {
   "cell_type": "markdown",
   "id": "f27d958f-46a9-4797-ac96-9aa7abc1f727",
   "metadata": {
    "slideshow": {
     "slide_type": ""
    },
    "tags": []
   },
   "source": [
    "<div style=\"text-align: center; margin-bottom: 15px; background-color: #F6E0F7; padding: 6px; border-radius: 6px;\">\n",
    "\n",
    "<a id='pesection_12_2'></a>\n",
    "\n",
    "<h2 style=\"color: #2E86C1; font-weight: bold;\">Adjusted Logistic Regression</h2>\n",
    "\n",
    "</div>\n",
    "\n",
    "<div style=\"border: 2px solid #2E86C1; padding: 20px; border-radius: 10px; margin: 20px 0; box-shadow: 0 4px 8px rgba(0,0,0,0.1);\">\n",
    "<div style=\"font-size: 13px; text-align: center; width: 80%; margin: 20px auto; line-height: 1.6; color: #333;\">\n",
    "\n",
    "Building on the previous unadjusted analysis, the **Adjusted Logistic Regression** now incorporates multiple predictors, allowing us to control for potential confounders. This updated approach includes additional variables like <code>sex</code>, <code>age_group</code>, <code>race</code>, and <code>ethnicity</code>.\n",
    "\n",
    "**Key Points:**\n",
    "\n",
    "- **Multiple Predictor Variables:** By integrating several predictors, both categorical and continuous, this adjusted analysis enables more in-depth insights, like the combined influence of age with other demographics.\n",
    "\n",
    "- **Odds Ratio (OR):** Essential in adjusted analysis, each OR represents the effect of a predictor while holding other variables constant. OR values inform whether a predictor increases, decreases, or has no effect on the likelihood of the outcome.\n",
    "\n",
    "</div>\n",
    "</div>"
   ]
  },
  {
   "cell_type": "code",
   "execution_count": null,
   "id": "4e9029c8-4dd6-4eb7-b45e-816ecdd7a51a",
   "metadata": {
    "editable": true,
    "slideshow": {
     "slide_type": ""
    },
    "tags": []
   },
   "outputs": [],
   "source": [
    "# Run logistic regression\n",
    "adj_reg = smf.logit(\"outcome ~ predictor + ethnicity + age_group + sex_at_birth + race\", data = merged_df).fit()\n",
    "# Show results\n",
    "adj_reg.summary()"
   ]
  },
  {
   "cell_type": "markdown",
   "id": "332bf9ea-43f4-4d8e-83d6-7dfb62a07a76",
   "metadata": {
    "slideshow": {
     "slide_type": ""
    },
    "tags": []
   },
   "source": [
    "<div style=\"text-align: center; margin-bottom: 15px; background-color: #F6E0F7; padding: 6px; border-radius: 6px;\">\n",
    "<a id='pesection_12_2_1'></a>\n",
    "<h3 style=\"color: #2E86C1; font-weight: bold;\">Likelihood Ratio Test</h3>\n",
    "</div>\n",
    "\n",
    "<div style=\"border: 2px solid #2E86C1; padding: 20px; border-radius: 10px; margin: 20px 0; box-shadow: 0 4px 8px rgba(0,0,0,0.1);\">\n",
    "<div style=\"font-size: 13px; text-align: center; width: 80%; margin: 20px auto; line-height: 1.6; color: #333;\">\n",
    "\n",
    "For multi-category variables like <code>age_group</code> and <code>race</code>, it's crucial to assess the overall significance of the entire variable, not just individual categories, in determining its relevance to the regression model. A <b>likelihood ratio test</b> is used to compare the fit of your full model (including the variable of interest) against a reduced model (excluding the variable of interest) to see if there's a significant reduction in fit without that variable.\n",
    "\n",
    "</div>\n",
    "</div>"
   ]
  },
  {
   "cell_type": "code",
   "execution_count": null,
   "id": "4fd54005-abc6-4783-bbbc-8092978b6dff",
   "metadata": {
    "editable": true,
    "slideshow": {
     "slide_type": ""
    },
    "tags": []
   },
   "outputs": [],
   "source": [
    "no_age = smf.logit(\"outcome ~ predictor + ethnicity + sex_at_birth + race\", data = merged_df).fit()\n",
    "no_race = smf.logit(\"outcome ~ predictor + ethnicity + age_group + sex_at_birth\", data = merged_df).fit()\n",
    "\n",
    "# Assuming adj_reg, no_age, and no_race are your model results\n",
    "# Calculate the log-likelihood for each model\n",
    "ll_full = adj_reg.llf  # Log-likelihood of the full model\n",
    "ll_no_age = no_age.llf  # Log-likelihood of the model without age\n",
    "ll_no_race = no_race.llf  # Log-likelihood of the model without race\n",
    "\n",
    "# Calculate the test statistic\n",
    "lr_stat_no_age = -2 * (ll_no_age - ll_full)\n",
    "lr_stat_no_race = -2 * (ll_no_race - ll_full)\n",
    "\n",
    "# Calculate degrees of freedom difference\n",
    "df_diff_no_age = adj_reg.df_model - no_age.df_model\n",
    "df_diff_no_race = adj_reg.df_model - no_race.df_model\n",
    "\n",
    "# Calculate the p-value\n",
    "p_value_no_age = stats.chi2.sf(lr_stat_no_age, df_diff_no_age)\n",
    "p_value_no_race = stats.chi2.sf(lr_stat_no_race, df_diff_no_race)\n",
    "\n",
    "print(f\"LR Test Statistic (No Age): {lr_stat_no_age}, p-value: {p_value_no_age}\")\n",
    "print(f\"LR Test Statistic (No Race): {lr_stat_no_race}, p-value: {p_value_no_race}\")\n",
    "\n"
   ]
  },
  {
   "cell_type": "code",
   "execution_count": null,
   "id": "01590d6c-d97c-4500-a5f0-989dd08ab45c",
   "metadata": {},
   "outputs": [],
   "source": [
    "<div style=\"font-size: 13px\"; class=\"alert alert-block alert-warning\">\n",
    "<b>Interpreting the Likelihood Ratio Test Results:</b>\n",
    "    <ul>\n",
    "        <li><b>Current Function Value:</b> Represents the value of the log-likelihood function per observation at its optimum. Lower values indicate a better fit of the model to the data.</li>\n",
    "        <li><b>Iterations:</b> The number of iterations taken to reach the optimization of the model. A lower number of iterations suggests that the model converged more quickly to the best fit.</li>\n",
    "        <li><b>LR Test Statistic:</b> This statistic measures the difference in fit between the full model and a reduced model excluding the <code>age_group</code> and <code>race</code> variables. The large value indicates a significant change in model fit due to the exclusion of age.</li>\n",
    "    </ul>\n",
    "</div>"
   ]
  },
  {
   "cell_type": "markdown",
   "id": "c9c14033-2366-49ed-98ee-29028a90ad87",
   "metadata": {
    "slideshow": {
     "slide_type": ""
    },
    "tags": []
   },
   "source": [
    "<div style=\"text-align: center; margin-bottom: 15px; background-color: #F6E0F7; padding: 6px; border-radius: 6px;\">\n",
    "\n",
    "<a id='pesection_12_2_2'></a>\n",
    "\n",
    "<h3 style=\"color: #2E86C1; font-weight: bold;\">Odds Ratio and Confidence Interval</h3>\n",
    "\n",
    "</div>\n",
    "\n",
    "<div style=\"border: 2px solid #2E86C1; padding: 20px; border-radius: 10px; margin: 20px 0; box-shadow: 0 4px 8px rgba(0,0,0,0.1);\">\n",
    "\n",
    "<div style=\"font-size: 13px; text-align: center; width: 80%; margin: 20px auto; line-height: 1.6; color: #333;\">\n",
    "\n",
    "**Interpreting the Adjusted Logistic Regression Results:**\n",
    "\n",
    "**Chronic Sinusitis:** Those with the `predictor` Chronic Sinusitis have 153% [126%-184%] increase in the odds of having the `outcome` Atopic Dermatitis compared to those without Chronic Sinusitis while holding `ethnicity`, `age`, `race`, and `sex` constant. \n",
    "\n",
    "<div style=\"font-size: 13px; text-align: center; width: 90%; margin: 20px auto; color: #555;\">\n",
    "<b>Notes:</b> <br>\n",
    "    <strong>1.</strong> Confidence intervals traversing the value of 1 imply non-significance at the conventional 0.05 level.\n",
    "</div>\n",
    "\n",
    "</div>\n",
    "</div>"
   ]
  },
  {
   "cell_type": "code",
   "execution_count": null,
   "id": "9d6bb107-0a4e-4bb3-90f1-245976834059",
   "metadata": {
    "editable": true,
    "slideshow": {
     "slide_type": ""
    },
    "tags": []
   },
   "outputs": [],
   "source": [
    "# Create OR column\n",
    "adj_odds = pandas.DataFrame(np.exp(adj_reg.params), columns= ['OR'])\n",
    "# Create CI column\n",
    "adj_odds[['2.5%', '97.5%']] = np.exp(adj_reg.conf_int())\n",
    "# Print OR and CI\n",
    "adj_odds"
   ]
  },
  {
   "cell_type": "markdown",
   "id": "85a5242f-0fa7-4fbf-8d7b-df52a115184c",
   "metadata": {
    "slideshow": {
     "slide_type": ""
    },
    "tags": []
   },
   "source": [
    "<div style=\"text-align: center; margin-bottom: 15px; background-color: #F6E0F7; padding: 6px; border-radius: 6px;\">\n",
    "<a id='pesection_12_2_3'></a>\n",
    "<h3 style=\"color: #2E86C1; font-weight: bold;\">Summary of Logistic Regressions</h3>\n",
    "</div>\n",
    "\n",
    "<div style=\"border: 2px solid #2E86C1; padding: 20px; border-radius: 10px; margin: 20px 0; box-shadow: 0 4px 8px rgba(0,0,0,0.1);\">\n",
    "<div style=\"font-size: 13px; text-align: center; width: 80%; margin: 20px auto; line-height: 1.6; color: #333;\">\n",
    "\n",
    "This is the final table for the logistic regressions. It shows the unadjusted and adjusted odds ratio for the `predictor` in your analysis.\n",
    "\n",
    "</div>\n",
    "</div>"
   ]
  },
  {
   "cell_type": "code",
   "execution_count": null,
   "id": "7b8b7aaf-0b1f-4699-ad2a-c980d8fdc559",
   "metadata": {
    "slideshow": {
     "slide_type": ""
    },
    "tags": []
   },
   "outputs": [],
   "source": [
    "# Create table with unadjusted and adjusted OR (CI)\n",
    "final_table = pandas.DataFrame({\n",
    "    'Predictor': condition_2_name,\n",
    "    'Univariate OR (95% CI)': [f\"{unadj_odds['OR'][1]:.2f} ({unadj_odds['2.5%'][1]:.2f} - {unadj_odds['97.5%'][1]:.2f})\"],\n",
    "    'Multivariate OR (95% CI)': [f\"{adj_odds['OR'][1]:.2f} ({adj_odds['2.5%'][1]:.2f} - {adj_odds['97.5%'][1]:.2f})\"],\n",
    "    })\n",
    "\n",
    "# Print table without index \n",
    "final_table.index=[''] * len(final_table)\n",
    "final_table"
   ]
  },
  {
   "cell_type": "markdown",
   "id": "7a333e74-2a48-4d9b-9d4b-17265423ce2d",
   "metadata": {
    "slideshow": {
     "slide_type": ""
    },
    "tags": []
   },
   "source": [
    "<div style=\"text-align: center; margin-bottom: 15px; background-color: #F6E0F7; padding: 6px; border-radius: 6px;\">\n",
    "<a id='pesection_12_2_4'></a>\n",
    "<h3 style=\"color: #2E86C1; font-weight: bold;\">Forest Plot</h3>\n",
    "</div>\n",
    "\n",
    "<div style=\"border: 2px solid #2E86C1; padding: 20px; border-radius: 10px; margin: 20px 0; box-shadow: 0 4px 8px rgba(0,0,0,0.1);\">\n",
    "<div style=\"font-size: 13px; text-align: center; width: 80%; margin: 20px auto; line-height: 1.6; color: #333;\">\n",
    "This forest plot displays the adjusted ORs for all categorical variables in the analysis.\n",
    "\n",
    "</div>\n",
    "</div>"
   ]
  },
  {
   "cell_type": "code",
   "execution_count": null,
   "id": "0e623838-699b-4b2b-8302-32d2492a4628",
   "metadata": {
    "slideshow": {
     "slide_type": ""
    },
    "tags": []
   },
   "outputs": [],
   "source": [
    "forest_table = adj_odds[1:][:]\n",
    "forest_table['label'] = [v.split('.')[1].split(']')[0] for v in list(forest_table.index)]"
   ]
  },
  {
   "cell_type": "code",
   "execution_count": null,
   "id": "205095bc-9b5e-4fa4-b442-f4440a85c2df",
   "metadata": {
    "slideshow": {
     "slide_type": ""
    },
    "tags": []
   },
   "outputs": [],
   "source": [
    "# Create the forest plot\n",
    "ax = fp.forestplot(forest_table,  # the dataframe with results data\n",
    "                   estimate=\"OR\",  # column containing estimated effect size\n",
    "                   ll=\"2.5%\", hl=\"97.5%\",  # columns containing confidence interval lower and higher limits\n",
    "                   varlabel=\"label\",\n",
    "                   ylabel=\"OR (95% CI)\",\n",
    "                   xlabel=\"Odds Ratio\",\n",
    "                   xticks=[-1, 1, 5])\n",
    "\n",
    "# Add a vertical line at x=1\n",
    "ax.axvline(x=1, color='black', linestyle='--', linewidth=2)  # Customize color, linestyle, and linewidth as needed\n",
    "\n",
    "# Optionally, if you want to try to remove or hide the automatic line at x=0, you can do the following:\n",
    "ax.axvline(x=0, color='white', linewidth=2)  # Attempt to cover it with a line the color of the background\n",
    "\n",
    "# Show the plot\n",
    "plt.show()"
   ]
  },
  {
   "cell_type": "markdown",
   "id": "8ad3bf13-5424-40b1-9998-3a28566f9020",
   "metadata": {
    "slideshow": {
     "slide_type": ""
    },
    "tags": []
   },
   "source": [
    "<div style=\"text-align: center; margin-bottom: 15px; background-color: #F6E0F7; padding: 6px; border-radius: 6px;\">\n",
    "\n",
    "<a id='pesection_12_3'></a>\n",
    "\n",
    "<h2 style=\"color: #2E86C1; font-weight: bold;\">Stratified Logistic Regression</h2>\n",
    "\n",
    "</div>\n",
    "\n",
    "<div style=\"border: 2px solid #2E86C1; padding: 20px; border-radius: 10px; margin: 20px 0; box-shadow: 0 4px 8px rgba(0,0,0,0.1);\">\n",
    "<div style=\"font-size: 13px; text-align: center; width: 80%; margin: 20px auto; line-height: 1.6; color: #333;\">\n",
    "\n",
    "If you are interested in targeting a specific group in your cohort based on <code>sex_at_birth</code>, <code>age</code>, <code>race</code>, or <code>ethnicity</code>, please use the code snippet below. The <code>strat_variable</code> is the column that contains the <code>strat_group</code> you would like to look at.<br>\n",
    "<br>\n",
    "<b>Make sure to adjust your odds ratio interpretation to account for this change.</b>\n",
    "\n",
    "</div>\n",
    "</div>"
   ]
  },
  {
   "cell_type": "code",
   "execution_count": null,
   "id": "7d307063-d9a0-43ed-b68f-1fba6f59bae4",
   "metadata": {
    "editable": true,
    "slideshow": {
     "slide_type": ""
    },
    "tags": []
   },
   "outputs": [],
   "source": [
    "strat_variable = \"sex_at_birth\"\n",
    "strat_group = \"Male\""
   ]
  },
  {
   "cell_type": "code",
   "execution_count": null,
   "id": "b0a179ba-bd69-46d5-84b8-9a723bb077ac",
   "metadata": {
    "editable": true,
    "slideshow": {
     "slide_type": ""
    },
    "tags": []
   },
   "outputs": [],
   "source": [
    "# Filter the DataFrame\n",
    "strat_df = merged_df[merged_df[strat_variable] == strat_group]\n",
    "\n",
    "# Get column names\n",
    "all_vars = strat_df.columns.tolist()\n",
    "\n",
    "# Remove the unneeded variables from the list of predictors\n",
    "predictor_vars = [var for var in all_vars if var not in ['outcome', 'outcome_f', 'person_id', 'age', 'date_of_birth', strat_variable]]\n",
    "\n",
    "# Create the regression formula string\n",
    "formula_str = 'outcome ~ ' + ' + '.join(predictor_vars)"
   ]
  },
  {
   "cell_type": "code",
   "execution_count": null,
   "id": "d86d80f2-9bf6-40a7-8da2-b5d9f3097429",
   "metadata": {
    "editable": true,
    "slideshow": {
     "slide_type": ""
    },
    "tags": []
   },
   "outputs": [],
   "source": [
    "# Run logistic regression\n",
    "strat_reg = smf.logit(formula_str, data = merged_df).fit()\n",
    "# Show results\n",
    "strat_reg.summary()"
   ]
  },
  {
   "cell_type": "markdown",
   "id": "e607716e-7f69-425d-a75e-aa513bb54dd6",
   "metadata": {
    "editable": true,
    "slideshow": {
     "slide_type": ""
    },
    "tags": []
   },
   "source": [
    "<div style=\"text-align: center; margin-bottom: 15px; background-color: #F6E0F7; padding: 6px; border-radius: 6px;\">\n",
    "\n",
    "<a id='pesection_12_3_1'></a>\n",
    "\n",
    "<h3 style=\"color: #2E86C1; font-weight: bold;\">Odds Ratio and Confidence Interval</h3>\n",
    "\n",
    "</div>\n",
    "\n",
    "<div style=\"border: 2px solid #2E86C1; padding: 20px; border-radius: 10px; margin: 20px 0; box-shadow: 0 4px 8px rgba(0,0,0,0.1);\">\n",
    "\n",
    "<div style=\"font-size: 13px; text-align: center; width: 80%; margin: 20px auto; line-height: 1.6; color: #333;\">\n",
    "\n",
    "**Interpreting the Stratified Logistic Regression Results:**\n",
    "\n",
    "**Chronic Sinusitis:** Males with the `predictor` Chronic Sinusitis have 137% [98%-184%] increase in the odds of having the `outcome` Atopic Dermatitis compared to males without Chronic Sinusitis while holding `race`, `age`, and `ethnicity` constant. \n",
    "\n",
    "<div style=\"font-size: 13px; text-align: center; width: 90%; margin: 20px auto; color: #555;\">\n",
    "<b>Notes:</b> <br>\n",
    "    <strong>1.</strong> Confidence intervals traversing the value of 1 imply non-significance at the conventional 0.05 level. \n",
    "</div>\n",
    "\n",
    "</div>\n",
    "</div>"
   ]
  },
  {
   "cell_type": "code",
   "execution_count": null,
   "id": "87ba05b2-db85-4e93-b1bc-bbb8ef71f4e4",
   "metadata": {
    "editable": true,
    "slideshow": {
     "slide_type": ""
    },
    "tags": []
   },
   "outputs": [],
   "source": [
    "# Create OR column\n",
    "strat_odds = pandas.DataFrame(np.exp(strat_reg.params), columns= ['OR'])\n",
    "# Create CI column\n",
    "strat_odds[['2.5%', '97.5%']] = np.exp(strat_reg.conf_int())\n",
    "# Print OR and CI\n",
    "strat_odds"
   ]
  }
 ],
 "metadata": {
  "kernelspec": {
   "display_name": "Python 3 (ipykernel)",
   "language": "python",
   "name": "python3"
  },
  "language_info": {
   "codemirror_mode": {
    "name": "ipython",
    "version": 3
   },
   "file_extension": ".py",
   "mimetype": "text/x-python",
   "name": "python",
   "nbconvert_exporter": "python",
   "pygments_lexer": "ipython3",
   "version": "3.11.7"
  }
 },
 "nbformat": 4,
 "nbformat_minor": 5
}
