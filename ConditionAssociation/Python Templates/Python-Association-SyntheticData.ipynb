{
 "cells": [
  {
   "cell_type": "markdown",
   "id": "94e669f1-380b-4245-af0c-696189d7d6d5",
   "metadata": {
    "editable": false,
    "slideshow": {
     "slide_type": ""
    },
    "tags": []
   },
   "source": [
    "---\n",
    "<div style=\"text-align: center; margin-bottom: 25px; font-size: 35px;font-weight: bold; padding: 20px; border-radius: 10px;\">\n",
    "🐍 Example Condition Association Template\n",
    "</div>"
   ]
  },
  {
   "cell_type": "markdown",
   "id": "b8b80ac2-11c8-4a5f-b031-e724dcfda580",
   "metadata": {
    "editable": false,
    "slideshow": {
     "slide_type": ""
    },
    "tags": []
   },
   "source": [
    "<div style=\"text-align: center; font-weight: bold; font-size: 25px\">\n",
    "Table of Contents<a class='anchor' id='top'></a>\n",
    "\n",
    "<table style=\"margin: auto;\">\n",
    "    <tr>\n",
    "        <td style=\"text-align: left;\"><a href=\"#psection_1\">1. Introduction</a></td>\n",
    "    </tr>\n",
    "    <tr>\n",
    "        <td style=\"text-align: left;\"><a href=\"#psection_2\">2. Import Libraries</a></td>\n",
    "    </tr>\n",
    "    <tr>\n",
    "        <td style=\"text-align: left;\"><a href=\"#psection_3\">3. Import Data</a></td>\n",
    "    </tr>\n",
    "    <tr>\n",
    "        <td style=\"text-align: left;\"><a href=\"#psection_4\">4. Relabel Data Frames</a></td>\n",
    "    </tr>\n",
    "    <tr>\n",
    "        <td style=\"text-align: left;\"><a href=\"#psection_5\">5. Creating a Column for the Outcome</a></td>\n",
    "    </tr>\n",
    "    <tr>\n",
    "        <td style=\"text-align: left;\"><a href=\"#psection_6\">6. Creating a Column for the Predictor</a></td>\n",
    "    </tr>\n",
    "    <tr>\n",
    "        <td style=\"text-align: left;\"><a href=\"#psection_7\">7. Join the Data Frames</a></td>\n",
    "    </tr>\n",
    "    <tr>\n",
    "        <td style=\"text-align: left;\"><a href=\"#psection_8\">8. Replace NAs</a></td>\n",
    "    </tr>\n",
    "    <tr>\n",
    "        <td style=\"text-align: left;\"><a href=\"#psection_9\">9. Factor the Categorical Variables</a></td>\n",
    "    </tr>\n",
    "    <tr>\n",
    "        <td style=\"text-align: left;\"><a href=\"#psection_10\">10. Calculate Age</a></td>\n",
    "    </tr>\n",
    "    <tr>\n",
    "        <td style=\"text-align: left;\"><a href=\"#psection_11\">11. Explore Cleaned Data</a></td>\n",
    "    </tr>\n",
    "    <tr>\n",
    "        <td style=\"text-align: left; padding-left: 20px;\"><a href=\"#psection_11_1\">11.1 Numerical Summary</a></td>\n",
    "    </tr>\n",
    "    <tr>\n",
    "        <td style=\"text-align: left; padding-left: 40px;\"><a href=\"#psection_11_1_1\">11.1.1 Equality of Variance Test</a></td>\n",
    "    </tr>\n",
    "    <tr>\n",
    "        <td style=\"text-align: left; padding-left: 20px;\"><a href=\"#psection_11_2\">11.2 Graphical Summaries</a></td>\n",
    "    </tr>\n",
    "    <tr>\n",
    "        <td style=\"text-align: left; padding-left: 40px;\"><a href=\"#psection_11_2_1\">11.2.1 Density/Histogram Plot</a></td>\n",
    "    </tr>\n",
    "    <tr>\n",
    "        <td style=\"text-align: left; padding-left: 40px;\"><a href=\"#psection_11_2_2\">11.2.2 Bar Plot</a></td>\n",
    "    </tr>\n",
    "    <tr>\n",
    "        <td style=\"text-align: left;\"><a href=\"#psection_12\">12. Statistical Analysis</a></td>\n",
    "    </tr>\n",
    "    <tr>\n",
    "        <td style=\"text-align: left; padding-left: 20px;\"><a href=\"#psection_12_1\">12.1 Unadjusted Logistic Regression</a></td>\n",
    "    </tr>\n",
    "    <tr>\n",
    "        <td style=\"text-align: left; padding-left: 40px;\"><a href=\"#psection_12_1_1\">12.1.1 Odds Ratio and Confidence Interval</a></td>\n",
    "    </tr>\n",
    "    <tr>\n",
    "        <td style=\"text-align: left; padding-left: 20px;\"><a href=\"#psection_12_2\">12.2 Adjusted Logistic Regression</a></td>\n",
    "    </tr>\n",
    "    <tr>\n",
    "        <td style=\"text-align: left; padding-left: 40px;\"><a href=\"#psection_12_2_1\">12.2.1 Likelihood Ratio Test</a></td>\n",
    "    </tr>\n",
    "    <tr>\n",
    "        <td style=\"text-align: left; padding-left: 40px;\"><a href=\"#psection_12_2_2\">12.2.2 Odds Ratio and Confidence Interval</a></td>\n",
    "    </tr>\n",
    "    <tr>\n",
    "        <td style=\"text-align: left; padding-left: 40px;\"><a href=\"#psection_12_2_3\">12.2.3 Summary of Logistic Regressions</a></td>\n",
    "    </tr>\n",
    "    <tr>\n",
    "        <td style=\"text-align: left; padding-left: 40px;\"><a href=\"#psection_12_2_4\">12.2.4 Forest Plot</a></td>\n",
    "    </tr>\n",
    "    <tr>\n",
    "        <td style=\"text-align: left; padding-left: 20px;\"><a href=\"#psection_12_3\">12.3 Stratified Logistic Regression</a></td>\n",
    "    </tr>\n",
    "    <tr>\n",
    "        <td style=\"text-align: left; padding-left: 40px;\"><a href=\"#psection_12_3_1\">12.3.1 Odds Ratio and Confidence Interval</a></td>\n",
    "    </tr>\n",
    "</table>\n",
    "\n",
    "</div>"
   ]
  },
  {
   "cell_type": "markdown",
   "id": "104d645d-2d8e-4918-94f0-abfd1e3972da",
   "metadata": {
    "editable": false,
    "slideshow": {
     "slide_type": ""
    },
    "tags": []
   },
   "source": [
    "<div style=\"text-align: center; margin-bottom: 25px; background-color: #F6E0F7; padding: 10px; border-radius: 10px;\">\n",
    "\n",
    "<a id='psection_1'></a>\n",
    "\n",
    "<h1 style=\"color: #2E86C1; font-weight: bold;\">Introduction 👋</h1>\n",
    "\n",
    "</div>\n",
    "\n",
    "\n",
    "<div style=\"text-align: center; font-size: 13px; margin: 0 auto; width: 80%; border: 2px solid #2E86C1; padding: 20px; border-radius: 10px; box-shadow: 0 4px 8px rgba(0,0,0,0.1);\">\n",
    "\n",
    "**Welcome to the Condition Association Code Template tailored for the All of Us (AoU) data!** Our goal is to guide you through analyzing the relationship between two conditions using AoU data. This template offers a comprehensive pathway and code samples to simplify your analysis. It's designed for both beginners and experienced analysts. Please follow the [**AoU Condition Association Code Template Instructions**](https://drive.google.com/file/d/1gjwjX3Vq6GVTUkpQM_4PanhTBQScL8Fp/view?usp=sharing) to build your cohorts and data frames for this template. This is the only way to guarantee consistent results.\n",
    "\n",
    "**To upload these templates to a workspace in the All of Us Researcher Workbench, please [follow these instructions](https://support.researchallofus.org/hc/en-us/articles/360042684051-Are-external-coding-files-able-to-be-imported-for-analysis-)**\n",
    "    \n",
    "<font color='red' size=\"4\"><strong>Note: Each section contains important information. Please read them carefully! </strong></font>\n",
    "\n",
    "<div style=\"color: #2E86C1; text-align: center; margin-bottom: 10px; font-size: 20px; font-weight: bold; padding: 10px; border-radius: 10px;\">\n",
    "<u>Learning Objectives:</u>\n",
    "</div>\n",
    "\n",
    "<ul style=\"list-style-position: inside; text-align: left; display: inline-block;\">\n",
    "    <li><strong>Set up Python in Jupyter and load required libraries and packages.</strong></li>\n",
    "    <li><strong>Load and prepare dataframes for analysis.</strong></li>\n",
    "    <li><strong>Produce a data summary table.</strong></li>\n",
    "    <li><strong>Create and interpret visualizations, such as bar charts and density plots.</strong></li>\n",
    "    <li><strong>Conduct and interpret various tests and regressions:</strong>\n",
    "        <ul style=\"padding-left: 40px;\">\n",
    "            <li><strong>Use the Chi-square test for categorical data.</strong></li>\n",
    "            <li><strong>Apply the One-Way ANOVA for comparing means.</strong></li>\n",
    "            <li><strong>Perform unadjusted logistic regression for binary outcomes with one predictor.</strong></li>\n",
    "            <li><strong>Run adjusted logistic regression with multiple predictors.</strong></li>\n",
    "        </ul>\n",
    "    </li>\n",
    "    <li><strong>Draw conclusions from your analysis, considering the implications and limitations.</strong></li>\n",
    "</ul>\n",
    "\n",
    "</div>\n"
   ]
  },
  {
   "cell_type": "markdown",
   "id": "7e6c6765-3818-4a8f-862f-b0342f3b74e9",
   "metadata": {
    "editable": false,
    "slideshow": {
     "slide_type": ""
    },
    "tags": []
   },
   "source": [
    "---\n",
    "<div style=\"text-align: center; margin-bottom: 25px; background-color: #F6E0F7; padding: 10px; border-radius: 10px;\">\n",
    "\n",
    "<a id='psection_2'></a>\n",
    "\n",
    "<h1 style=\"color: #2E86C1; font-weight: bold;\">Import Libraries 📚</h1>\n",
    "\n",
    "</div>\n",
    "\n",
    "<div style=\"border: 2px solid #2E86C1; padding: 20px; border-radius: 10px; margin: 20px 0; box-shadow: 0 4px 8px rgba(0,0,0,0.1);\">\n",
    "\n",
    "<div style=\"font-size: 13px; text-align: center; width: 80%; margin: 20px auto; line-height: 1.6; color: #333;\">\n",
    "    \n",
    "The following code block checks for each listed package. If not already installed, you will need to install the package using `!pip install package`.\n",
    "\n",
    "<strong>Automatically Imported by All of Us:</strong> `pandas`, `os`\n",
    "\n",
    "<strong>Require Manual Import:</strong> `random`, `datetime`, `tableone`, `scipy.stats`, `seaborn`, `matplotlib.pyplot`, `warnings`, `numpy`, `statsmodels.formula.api`, `forestplot`\n",
    "\n",
    "</div>\n",
    "\n",
    "<div style=\"text-align: center; margin: 20px auto; width: 80%; font-size: 13px; background-color: #e6f2ff; padding: 15px; border-radius: 6px; line-height: 1.6; border: 1px solid #2E86C1;\">\n",
    "<b>Note:</b> Packages are auto-imported only when using the DatasetBuilder to export dataframes. Without the DatasetBuilder, no packages are imported automatically.\n",
    "</div>\n",
    "\n",
    "</div>"
   ]
  },
  {
   "cell_type": "code",
   "execution_count": 1,
   "id": "71552b05-f435-4985-9072-4135b5605de8",
   "metadata": {
    "editable": false,
    "slideshow": {
     "slide_type": ""
    },
    "tags": []
   },
   "outputs": [],
   "source": [
    "import pandas\n",
    "import random\n",
    "from random import choices\n",
    "from datetime import datetime\n",
    "from tableone import TableOne\n",
    "import seaborn as sns\n",
    "import matplotlib.pyplot as plt\n",
    "import warnings\n",
    "import numpy as np\n",
    "import scipy.stats as stats\n",
    "import statsmodels.formula.api as smf\n",
    "import forestplot as fp"
   ]
  },
  {
   "cell_type": "code",
   "execution_count": 2,
   "id": "5344928a-b8f4-490e-ba97-0d1a89316070",
   "metadata": {
    "editable": true,
    "slideshow": {
     "slide_type": ""
    },
    "tags": []
   },
   "outputs": [],
   "source": [
    "# Uncomment below to install packages, error message will appear if package not installed\n",
    "#!pip install forestplot"
   ]
  },
  {
   "cell_type": "markdown",
   "id": "15b0add0-0980-4c3a-a400-83feb3fd669c",
   "metadata": {
    "editable": false,
    "slideshow": {
     "slide_type": ""
    },
    "tags": []
   },
   "source": [
    "---\n",
    "\n",
    "<div style=\"text-align: center; margin-bottom: 25px; background-color: #F6E0F7; padding: 10px; border-radius: 10px;\">\n",
    "\n",
    "<a id='psection_3'></a>\n",
    "\n",
    "<h1 style=\"color: #2E86C1; font-weight: bold;\">Import Data 🗃️</h1>\n",
    "\n",
    "</div>\n",
    "\n",
    "<div style=\"border: 2px solid #2E86C1; padding: 20px; border-radius: 10px; margin: 20px 0; box-shadow: 0 4px 8px rgba(0,0,0,0.1);\">\n",
    "\n",
    "<div style=\"font-size: 13px; text-align: center; width: 80%; margin: 20px auto; line-height: 1.6; color: #333;\">\n",
    "    \n",
    "This section simulates the process of importing All of Us datasets. In the AoU Researcher Workbench, data is imported using the DatasetBuilder which builds the SQL code and exports it to your Jupyter Notebook. For this synthetic data, we will use RData files to import our datasets. When you are actually in the Researcher Workbench and using the R kernel with the DatasetBuilder, expect there to be two code cells generated for each dataset. For the <strong>three datasets</strong> you need in this analysis, expect a total of <strong>six code cells</strong>. \n",
    "\n",
    "<font color='red' size=\"4\"><strong>Note: The real AoU data frames will be imported to the bottom of the code template. You need to move them up to this section! </strong></font> \n",
    "\n",
    "**How to do this:** Select the first imported cell, it will highlight blue. While holding down `Shift`, scroll to the last imported cell and click on it. All six cells should highlight blue. Hit the up arrow ⬆ in the toolbar and move the cells to this section. You can keep track of this in the Table of Contents by watching the yellow box move from section to section. Once it reaches the correct section (<font color='blue' size=\"2\"><strong>3. Import Data</strong></font>), you can stop moving the cells. Don't forget to rename the datasets in Section 4!\n",
    "\n",
    "</div>\n",
    "\n",
    "</div>"
   ]
  },
  {
   "cell_type": "code",
   "execution_count": 3,
   "id": "2825a376-5a0e-4d59-825a-ecd3e2242dbc",
   "metadata": {
    "editable": false,
    "slideshow": {
     "slide_type": ""
    },
    "tags": []
   },
   "outputs": [],
   "source": [
    "# I know this is redundant..it just helps to mimic AoU data\n",
    "dataset_12345678_person_df = pandas.read_csv(\"ADCase.csv\")\n",
    "dataset_23456789_person_df = pandas.read_csv(\"ADControl.csv\")\n",
    "dataset_34567890_person_df = pandas.read_csv(\"CSCase.csv\")"
   ]
  },
  {
   "cell_type": "markdown",
   "id": "25ab105d-9022-440a-84dd-248d1333cc5c",
   "metadata": {
    "editable": false,
    "slideshow": {
     "slide_type": ""
    },
    "tags": []
   },
   "source": [
    "<div style=\"text-align: center; margin-bottom: 25px; background-color: #F6E0F7; padding: 10px; border-radius: 10px;\">\n",
    "\n",
    "<a id='psection_4'></a>\n",
    "\n",
    "<h1 style=\"color: #2E86C1; font-weight: bold;\">Relabel Data Frames 🏷️</h1>\n",
    "\n",
    "</div>\n",
    "\n",
    "<div style=\"border: 2px solid #2E86C1; padding: 20px; border-radius: 10px; margin: 20px 0; box-shadow: 0 4px 8px rgba(0,0,0,0.1);\">\n",
    "\n",
    "<div style=\"font-size: 13px; text-align: center; width: 80%; margin: 20px auto; line-height: 1.6; color: #333;\">\n",
    "In this section, you'll be renaming the AoU data frames. When datasets are imported into the notebook using the DatasetBuilder, they're named in the format: <code>dataset_12345678_domain_df</code>. The <code>domain</code> corresponds to the type of concept set linked to your cohort (i.e <code>person</code> corresponds to the <b>Demographics</b> prepackaged concept set).\n",
    "\n",
    "</div>\n",
    "\n",
    "</div>"
   ]
  },
  {
   "cell_type": "code",
   "execution_count": 4,
   "id": "3d47cdfd-4281-40f4-a763-3146169b5c04",
   "metadata": {
    "editable": false,
    "slideshow": {
     "slide_type": ""
    },
    "tags": []
   },
   "outputs": [],
   "source": [
    "# Rename data frames\n",
    "case_df = dataset_12345678_person_df\n",
    "control_df = dataset_23456789_person_df\n",
    "condition_df = dataset_34567890_person_df\n",
    "\n",
    "# The outcome condition used to build case and control cohorts\n",
    "condition_1_name = \"Atopic Dermatitis\"\n",
    "# The predictor condition used to build condition cohort\n",
    "condition_2_name = \"Chronic Sinusitis\""
   ]
  },
  {
   "cell_type": "markdown",
   "id": "ca42a914-774a-46d3-83bf-31b4fe2bbcf8",
   "metadata": {
    "editable": false,
    "slideshow": {
     "slide_type": ""
    },
    "tags": []
   },
   "source": [
    "<div style=\"border: 2px solid #2E86C1; padding: 20px; border-radius: 10px; margin: 20px 0; box-shadow: 0 4px 8px rgba(0,0,0,0.1);\">\n",
    "\n",
    "<div style=\"font-size: 13px; text-align: center; width: 55%; margin: 40px auto 20px auto; line-height: 1.6; color: #333;\">\n",
    "Inspect the <strong>first 6 rows</strong> of the <code>case_df</code> and determine its <strong>dimensions</strong>.\n",
    "\n",
    "</div>\n",
    "\n",
    "</div>\n",
    "\n",
    "<div style=\"text-align: center; margin: 10px auto; width: 70%; font-size: 13px; background-color: #e6f2ff; padding: 15px; border-radius: 6px; line-height: 1.6; border: 1px solid #2E86C1;\">\n",
    "To examine other dataframes, replace <code>case_df</code> with the desired dataframe name, such as <code>control_df</code> or <code>condition_df</code>.\n",
    "</div>\n"
   ]
  },
  {
   "cell_type": "code",
   "execution_count": 5,
   "id": "10685f85-9e2e-425c-86e3-ca02350bbb5f",
   "metadata": {
    "editable": true,
    "slideshow": {
     "slide_type": ""
    },
    "tags": []
   },
   "outputs": [
    {
     "name": "stdout",
     "output_type": "stream",
     "text": [
      "(1500, 5)\n"
     ]
    },
    {
     "data": {
      "text/html": [
       "<div>\n",
       "<style scoped>\n",
       "    .dataframe tbody tr th:only-of-type {\n",
       "        vertical-align: middle;\n",
       "    }\n",
       "\n",
       "    .dataframe tbody tr th {\n",
       "        vertical-align: top;\n",
       "    }\n",
       "\n",
       "    .dataframe thead th {\n",
       "        text-align: right;\n",
       "    }\n",
       "</style>\n",
       "<table border=\"1\" class=\"dataframe\">\n",
       "  <thead>\n",
       "    <tr style=\"text-align: right;\">\n",
       "      <th></th>\n",
       "      <th>person_id</th>\n",
       "      <th>sex_at_birth</th>\n",
       "      <th>date_of_birth</th>\n",
       "      <th>race</th>\n",
       "      <th>ethnicity</th>\n",
       "    </tr>\n",
       "  </thead>\n",
       "  <tbody>\n",
       "    <tr>\n",
       "      <th>0</th>\n",
       "      <td>1</td>\n",
       "      <td>Female</td>\n",
       "      <td>1997-04-01 12:53:56 UTC</td>\n",
       "      <td>White</td>\n",
       "      <td>Not Hispanic or Latino</td>\n",
       "    </tr>\n",
       "    <tr>\n",
       "      <th>1</th>\n",
       "      <td>2</td>\n",
       "      <td>Female</td>\n",
       "      <td>1949-04-10 03:34:59 UTC</td>\n",
       "      <td>White</td>\n",
       "      <td>Not Hispanic or Latino</td>\n",
       "    </tr>\n",
       "    <tr>\n",
       "      <th>2</th>\n",
       "      <td>3</td>\n",
       "      <td>Female</td>\n",
       "      <td>1998-11-25 18:52:47 UTC</td>\n",
       "      <td>White</td>\n",
       "      <td>Hispanic or Latino</td>\n",
       "    </tr>\n",
       "    <tr>\n",
       "      <th>3</th>\n",
       "      <td>4</td>\n",
       "      <td>Male</td>\n",
       "      <td>1968-04-12 03:42:21 UTC</td>\n",
       "      <td>White</td>\n",
       "      <td>Not Hispanic or Latino</td>\n",
       "    </tr>\n",
       "    <tr>\n",
       "      <th>4</th>\n",
       "      <td>5</td>\n",
       "      <td>Female</td>\n",
       "      <td>1955-09-13 07:59:13 UTC</td>\n",
       "      <td>White</td>\n",
       "      <td>Hispanic or Latino</td>\n",
       "    </tr>\n",
       "  </tbody>\n",
       "</table>\n",
       "</div>"
      ],
      "text/plain": [
       "   person_id sex_at_birth            date_of_birth   race  \\\n",
       "0          1       Female  1997-04-01 12:53:56 UTC  White   \n",
       "1          2       Female  1949-04-10 03:34:59 UTC  White   \n",
       "2          3       Female  1998-11-25 18:52:47 UTC  White   \n",
       "3          4         Male  1968-04-12 03:42:21 UTC  White   \n",
       "4          5       Female  1955-09-13 07:59:13 UTC  White   \n",
       "\n",
       "                ethnicity  \n",
       "0  Not Hispanic or Latino  \n",
       "1  Not Hispanic or Latino  \n",
       "2      Hispanic or Latino  \n",
       "3  Not Hispanic or Latino  \n",
       "4      Hispanic or Latino  "
      ]
     },
     "execution_count": 5,
     "metadata": {},
     "output_type": "execute_result"
    }
   ],
   "source": [
    "# Displaying the head and shape of the dataframe\n",
    "print(case_df.shape)\n",
    "case_df.head()"
   ]
  },
  {
   "cell_type": "markdown",
   "id": "05dce416-5c12-4ce8-a70d-e186df59c88e",
   "metadata": {
    "editable": false,
    "slideshow": {
     "slide_type": ""
    },
    "tags": []
   },
   "source": [
    "---\n",
    "<div style=\"text-align: center; margin-bottom: 25px; background-color: #F6E0F7; padding: 10px; border-radius: 10px;\">\n",
    "\n",
    "<a id='psection_5'></a>\n",
    "\n",
    "<h1 style=\"color: #2E86C1; font-weight: bold;\">Creating a Column for the Outcome 🖋️</h1>\n",
    "\n",
    "</div>\n",
    "\n",
    "<div style=\"border: 2px solid #2E86C1; padding: 20px; border-radius: 10px; margin: 20px 0; box-shadow: 0 4px 8px rgba(0,0,0,0.1);\">\n",
    "\n",
    "<div style=\"font-size: 13px; text-align: center; width: 80%; margin: 20px auto; line-height: 1.6; color: #333;\">\n",
    "\n",
    "In this guide, <strong>condition 1</strong> is treated as the <code>outcome</code> and used to define your <strong>case and control cohorts</strong>. Both <code>case_df</code> and <code>control_df</code> are constructed based on the presence or absence of the outcome. Since we'll be merging these dataframes later, it's crucial to <strong>introduce a new column</strong> distinguishing between cases and controls. This new column, termed <code>outcome</code>, will be assigned a value of <code>1</code> for the case group and <code>0</code> for the control group.\n",
    "\n",
    "</div>\n",
    "\n",
    "</div>\n",
    "\n",
    "<div style=\"text-align: center; margin: 10px auto; width: 70%; font-size: 13px; background-color: #e6f2ff; padding: 15px; border-radius: 6px; line-height: 1.6; border: 1px solid #2E86C1;\">\n",
    "Conditions are determined by their presence or absence in participant Electronic Health Records. If EHR data is unavailable or lacks records of a condition, it's presumed the participant does not have it. Keep this in mind when interpreting results!\n",
    "</div>\n"
   ]
  },
  {
   "cell_type": "code",
   "execution_count": 6,
   "id": "c768d80e-b9be-43a2-b89a-0c41a177a1e9",
   "metadata": {
    "editable": false,
    "slideshow": {
     "slide_type": ""
    },
    "tags": []
   },
   "outputs": [],
   "source": [
    "# Assign all cases with the value 1 in a new column called 'outcome'\n",
    "case_df['outcome'] = 1\n",
    "\n",
    "# Assign all controls with the value 0 to same column\n",
    "control_df['outcome'] = 0\n",
    "\n",
    "# No factors in Python, so create column with labels -- this is for tables/plots only\n",
    "case_df['outcome_f'] = condition_1_name\n",
    "control_df['outcome_f'] = f'No {condition_1_name}'"
   ]
  },
  {
   "cell_type": "markdown",
   "id": "23dbd150-055c-43f1-a9e8-2ca7fbf7660f",
   "metadata": {
    "editable": false,
    "slideshow": {
     "slide_type": ""
    },
    "tags": []
   },
   "source": [
    "---\n",
    "<div style=\"text-align: center; margin-bottom: 25px; background-color: #F6E0F7; padding: 10px; border-radius: 10px;\">\n",
    "\n",
    "<a id='psection_6'></a>\n",
    "\n",
    "<h1 style=\"color: #2E86C1; font-weight: bold;\">Creating a Column for the Predictor 🖋️</h1>\n",
    "\n",
    "</div>\n",
    "\n",
    "<div style=\"border: 2px solid #2E86C1; padding: 20px; border-radius: 10px; margin: 20px 0; box-shadow: 0 4px 8px rgba(0,0,0,0.1);\">\n",
    "\n",
    "<div style=\"font-size: 13px; text-align: center; width: 80%; margin: 20px auto; line-height: 1.6; color: #333;\">\n",
    "\n",
    "In this guide, <strong>condition 2</strong> is viewed as the <code>predictor</code> and used to define your <strong>condition cohort</strong>. We'll establish a new column within the <code>condition_df</code> dataframe to represent the this value. This new column, named <code>predictor</code>, will assign a value of <code>1</code> to each entry.\n",
    "\n",
    "</div>\n",
    "\n",
    "</div>\n",
    "\n",
    "<div style=\"text-align: center; margin: 10px auto; width: 70%; font-size: 13px; background-color: #e6f2ff; padding: 15px; border-radius: 6px; line-height: 1.6; border: 1px solid #2E86C1;\">\n",
    "Conditions are determined by their presence or absence in participant Electronic Health Records. If EHR data is unavailable or lacks records of a condition, it's presumed the participant does not have it. Keep this in mind when interpreting results!\n",
    "</div>\n"
   ]
  },
  {
   "cell_type": "code",
   "execution_count": 7,
   "id": "181bef17-13a1-4541-a101-58791ceea6c5",
   "metadata": {
    "editable": false,
    "slideshow": {
     "slide_type": ""
    },
    "tags": []
   },
   "outputs": [
    {
     "name": "stdout",
     "output_type": "stream",
     "text": [
      "(3504, 2)\n"
     ]
    },
    {
     "data": {
      "text/html": [
       "<div>\n",
       "<style scoped>\n",
       "    .dataframe tbody tr th:only-of-type {\n",
       "        vertical-align: middle;\n",
       "    }\n",
       "\n",
       "    .dataframe tbody tr th {\n",
       "        vertical-align: top;\n",
       "    }\n",
       "\n",
       "    .dataframe thead th {\n",
       "        text-align: right;\n",
       "    }\n",
       "</style>\n",
       "<table border=\"1\" class=\"dataframe\">\n",
       "  <thead>\n",
       "    <tr style=\"text-align: right;\">\n",
       "      <th></th>\n",
       "      <th>person_id</th>\n",
       "      <th>predictor</th>\n",
       "    </tr>\n",
       "  </thead>\n",
       "  <tbody>\n",
       "    <tr>\n",
       "      <th>0</th>\n",
       "      <td>1337</td>\n",
       "      <td>Chronic Sinusitis</td>\n",
       "    </tr>\n",
       "    <tr>\n",
       "      <th>1</th>\n",
       "      <td>598</td>\n",
       "      <td>Chronic Sinusitis</td>\n",
       "    </tr>\n",
       "    <tr>\n",
       "      <th>2</th>\n",
       "      <td>721</td>\n",
       "      <td>Chronic Sinusitis</td>\n",
       "    </tr>\n",
       "    <tr>\n",
       "      <th>3</th>\n",
       "      <td>851</td>\n",
       "      <td>Chronic Sinusitis</td>\n",
       "    </tr>\n",
       "    <tr>\n",
       "      <th>4</th>\n",
       "      <td>1393</td>\n",
       "      <td>Chronic Sinusitis</td>\n",
       "    </tr>\n",
       "  </tbody>\n",
       "</table>\n",
       "</div>"
      ],
      "text/plain": [
       "   person_id          predictor\n",
       "0       1337  Chronic Sinusitis\n",
       "1        598  Chronic Sinusitis\n",
       "2        721  Chronic Sinusitis\n",
       "3        851  Chronic Sinusitis\n",
       "4       1393  Chronic Sinusitis"
      ]
     },
     "execution_count": 7,
     "metadata": {},
     "output_type": "execute_result"
    }
   ],
   "source": [
    "# Assign 1 to all persons in a new column called 'predictor'\n",
    "condition_df['predictor'] = condition_2_name\n",
    "\n",
    "print(condition_df.shape)\n",
    "condition_df.head()"
   ]
  },
  {
   "cell_type": "markdown",
   "id": "c2721f35-65ef-4d43-b931-75118e615e02",
   "metadata": {
    "editable": false,
    "slideshow": {
     "slide_type": ""
    },
    "tags": []
   },
   "source": [
    "---\n",
    "<div style=\"text-align: center; margin-bottom: 25px; background-color: #F6E0F7; padding: 10px; border-radius: 10px;\">\n",
    "\n",
    "<a id='psection_7'></a>\n",
    "\n",
    "<h1 style=\"color: #2E86C1; font-weight: bold;\">Join the Data Frames 🔗</h1>\n",
    "\n",
    "</div>\n",
    "\n",
    "\n",
    "\n",
    "<div style=\"border: 2px solid #2E86C1; padding: 20px; border-radius: 10px; margin: 20px 0; box-shadow: 0 4px 8px rgba(0,0,0,0.1);\">\n",
    "\n",
    "<div style=\"font-size: 13px; text-align: center; width: 80%; margin: 20px auto; line-height: 1.6; color: #333;\">\n",
    "    \n",
    "<strong>1) Full Join:</strong> This process appends the rows from `case_df` to `control_df` for all columns (they should have same column names).\n",
    "\n",
    "</div>\n",
    "\n",
    "<div style=\"font-size: 13px; text-align: center; width: 80%; margin: 20px auto; line-height: 1.6; color: #333;\">\n",
    "\n",
    "<strong>2) Left Join:</strong> For each `person_id` in `merged_df`, a value of `1` is assigned to the `predictor` column if the ID exists in `condition_df`. Otherwise, the `predictor` column value is set to `NA`.\n",
    "\n",
    "</div>\n",
    "\n",
    "</div>"
   ]
  },
  {
   "cell_type": "code",
   "execution_count": 8,
   "id": "9d8f2bad-4613-4510-b561-8ba1145144e9",
   "metadata": {
    "editable": true,
    "slideshow": {
     "slide_type": ""
    },
    "tags": []
   },
   "outputs": [],
   "source": [
    "# Full join the case and control dfs\n",
    "merged_df = pandas.merge(case_df, control_df, how='outer') \n",
    "\n",
    "# Left join the condition_df\n",
    "merged_df = pandas.merge(merged_df, condition_df, how='left', on='person_id')"
   ]
  },
  {
   "cell_type": "markdown",
   "id": "c5d4eb52-678a-47c3-9bec-f3f860690c5e",
   "metadata": {
    "editable": false,
    "slideshow": {
     "slide_type": ""
    },
    "tags": []
   },
   "source": [
    "---\n",
    "<div style=\"text-align: center; margin-bottom: 25px; background-color: #F6E0F7; padding: 10px; border-radius: 10px;\">\n",
    "\n",
    "<a id='psection_8'></a>\n",
    "\n",
    "<h1 style=\"color: #2E86C1; font-weight: bold;\">Replace NAs 🔄</h1>\n",
    "\n",
    "</div>\n",
    "\n",
    "<div style=\"border: 2px solid #2E86C1; padding: 20px; border-radius: 10px; margin: 20px 0; box-shadow: 0 4px 8px rgba(0,0,0,0.1);\">\n",
    "\n",
    "<div style=\"font-size: 13px; text-align: center; width: 80%; margin: 20px auto; line-height: 1.6; color: #333;\">\n",
    "Ensure that you fill in the <code>NA</code> values with <code>0</code>!\n",
    "\n",
    "</div>\n",
    "\n",
    "</div>\n",
    "\n",
    "<div style=\"text-align: center; margin: 10px auto; width: 70%; font-size: 13px; background-color: #e6f2ff; padding: 15px; border-radius: 6px; line-height: 1.6; border: 1px solid #2E86C1;\">\n",
    "The only column that should have <code>NA</code> values is the <code>predictor</code> column. <br>\n",
    "<b>If this is not the case, there was an error with importing your dataset.</b>\n",
    "</div>"
   ]
  },
  {
   "cell_type": "code",
   "execution_count": 9,
   "id": "1f589191-0bc0-498f-b085-483060b6d431",
   "metadata": {
    "editable": false,
    "slideshow": {
     "slide_type": ""
    },
    "tags": []
   },
   "outputs": [],
   "source": [
    "# This takes the NA values created from the left join and makes them the value 'No condition_2_name'.\n",
    "merged_df = merged_df.fillna(f'No {condition_2_name}')"
   ]
  },
  {
   "cell_type": "markdown",
   "id": "ceb3e44f-22cf-43ac-8a46-4b32045df26c",
   "metadata": {
    "editable": false,
    "slideshow": {
     "slide_type": ""
    },
    "tags": []
   },
   "source": [
    "---\n",
    "<div style=\"text-align: center; margin-bottom: 25px; background-color: #F6E0F7; padding: 10px; border-radius: 10px;\">\n",
    "\n",
    "<a id='psection_9'></a>\n",
    "\n",
    "<h1 style=\"color: #2E86C1; font-weight: bold;\">Transform to Categorical Variables 🔡</h1>\n",
    "\n",
    "</div>\n",
    "\n",
    "<div style=\"border: 2px solid #2E86C1; padding: 20px; border-radius: 10px; margin: 20px 0; box-shadow: 0 4px 8px rgba(0,0,0,0.1);\">\n",
    "\n",
    "<div style=\"font-size: 13px; text-align: center; width: 80%; margin: 20px auto; line-height: 1.6; color: #333;\">\n",
    "    \n",
    "Our variables, namely `outcome_f`, `predictor`,`sex_at_birth`, `race`, and `ethnicity`, consist of character values. While logistic regression would inherently transform these into categorical values, proactively handling this conversion is advisable. By doing so, we can review and, if needed, reset the reference level. This foresight facilitates a clearer interpretation of odds ratios later in our analysis.\n",
    "    \n",
    "</div>\n",
    "\n",
    "</div>\n",
    "\n",
    "<div style=\"text-align: center; margin: 10px auto; width: 70%; font-size: 13px; background-color: #e6f2ff; padding: 15px; border-radius: 6px; line-height: 1.6; border: 1px solid #2E86C1;\">\n",
    "The logistic regression reasoning does not apply to <code>outcome_f</code> because <code>outcome</code> is used instead, just doing it for the tables and plots later.\n",
    "</div>\n",
    "\n",
    "</div>"
   ]
  },
  {
   "cell_type": "code",
   "execution_count": 10,
   "id": "1c2e9c97-210d-49ee-b126-95a035b17152",
   "metadata": {
    "editable": false,
    "slideshow": {
     "slide_type": ""
    },
    "tags": []
   },
   "outputs": [],
   "source": [
    "# Categorize the variables\n",
    "merged_df['race'] = merged_df['race'].astype('category')\n",
    "merged_df['ethnicity'] = merged_df['ethnicity'].astype('category')\n",
    "merged_df['sex_at_birth'] = merged_df['sex_at_birth'].astype('category')\n",
    "merged_df['predictor'] = merged_df['predictor'].astype('category')\n",
    "merged_df['outcome_f'] = merged_df['outcome_f'].astype('category')"
   ]
  },
  {
   "cell_type": "code",
   "execution_count": 11,
   "id": "a67fd6fd-5bb1-4117-8d45-bd2d0856ee46",
   "metadata": {
    "editable": true,
    "slideshow": {
     "slide_type": ""
    },
    "tags": []
   },
   "outputs": [
    {
     "name": "stdout",
     "output_type": "stream",
     "text": [
      "Index(['Chronic Sinusitis', 'No Chronic Sinusitis'], dtype='object')\n"
     ]
    }
   ],
   "source": [
    "# Check levels..change variable name 'predictor' to relevel other demographics\n",
    "print(merged_df['predictor'].cat.categories)"
   ]
  },
  {
   "cell_type": "code",
   "execution_count": 12,
   "id": "ec233a91-031a-4724-848b-1d9ec1ddfd56",
   "metadata": {
    "editable": true,
    "slideshow": {
     "slide_type": ""
    },
    "tags": []
   },
   "outputs": [
    {
     "name": "stdout",
     "output_type": "stream",
     "text": [
      "Index(['No Chronic Sinusitis', 'Chronic Sinusitis'], dtype='object')\n"
     ]
    }
   ],
   "source": [
    "# Reset the predictor reference level to 'No {condition_2_name}'\n",
    "merged_df['predictor'] = merged_df['predictor'].cat.reorder_categories([f\"No {condition_2_name}\", condition_2_name])\n",
    "print(merged_df['predictor'].cat.categories)"
   ]
  },
  {
   "cell_type": "markdown",
   "id": "82beda94-08eb-4e41-8335-ed1a93a80473",
   "metadata": {
    "editable": false,
    "slideshow": {
     "slide_type": ""
    },
    "tags": []
   },
   "source": [
    "---\n",
    "<div style=\"text-align: center; margin-bottom: 25px; background-color: #F6E0F7; padding: 10px; border-radius: 10px;\">\n",
    "\n",
    "<a id='psection_10'></a>\n",
    "\n",
    "<h1 style=\"color: #2E86C1; font-weight: bold;\">Calculate Age 📅</h1>\n",
    "\n",
    "</div>\n",
    "\n",
    "<div style=\"border: 2px solid #2E86C1; padding: 20px; border-radius: 10px; margin: 20px 0; box-shadow: 0 4px 8px rgba(0,0,0,0.1);\">\n",
    "\n",
    "<div style=\"font-size: 13px; text-align: center; width: 80%; margin: 20px auto; line-height: 1.6; color: #333;\">\n",
    "    \n",
    "The code below computes an integer <code>age</code> variable using today's date. It then bins <code>age</code> and creates a categorical <code>age_group</code> variable.\n",
    "\n",
    "</div>\n",
    "\n",
    "</div>\n",
    "\n",
    "<div style=\"text-align: center; margin: 10px auto; width: 70%; font-size: 13px; background-color: #e6f2ff; padding: 15px; border-radius: 6px; line-height: 1.6; border: 1px solid #2E86C1;\">\n",
    "To compute the age at the time of primary consent, refer to the <a href=\"https://support.researchallofus.org/hc/en-us/articles/13176125767188-How-to-find-participant-enrollment-data\"><b>User Support Hub</b></a>. \n",
    "The link provides the necessary SQL code to fetch the <code>person_id</code> alongside the corresponding <code>primary_consent_date</code> for all participants in the All of Us database. For accurate age calculation, replace <code>today</code> with an appropriate variable name and substitute <code>Sys.Date()</code> with the provided SQL code.\n",
    "</div>\n"
   ]
  },
  {
   "cell_type": "code",
   "execution_count": 13,
   "id": "951d3685-21e6-45a2-89b8-21eec11015a7",
   "metadata": {
    "editable": true,
    "slideshow": {
     "slide_type": ""
    },
    "tags": []
   },
   "outputs": [],
   "source": [
    "# Get today's date\n",
    "today = datetime.now()"
   ]
  },
  {
   "cell_type": "code",
   "execution_count": 14,
   "id": "7d3f519f-8f97-4ea8-95be-868c187e1003",
   "metadata": {
    "editable": false,
    "slideshow": {
     "slide_type": ""
    },
    "tags": []
   },
   "outputs": [],
   "source": [
    "# Ensure the date_of_birth is in datetime format\n",
    "merged_df['date_of_birth'] = pandas.to_datetime(merged_df['date_of_birth']).dt.date\n",
    "\n",
    "# Calculate age in years\n",
    "merged_df['age'] = (today - pandas.to_datetime(merged_df['date_of_birth'])) / np.timedelta64(1, 'D') / 365.25\n",
    "merged_df['age'] = merged_df['age'].astype(int)\n",
    "\n",
    "# Create age groups\n",
    "bins = [18, 29, 39, 49, 59, 69, 79, float('inf')]\n",
    "labels = ['18-29', '30-39', '40-49', '50-59', '60-69', '70-79', '80+']\n",
    "merged_df['age_group'] = pandas.cut(merged_df['age'], bins=bins, labels=labels)\n",
    "\n",
    "# Remove unused categories\n",
    "merged_df['age_group'] = merged_df['age_group'].cat.remove_unused_categories()"
   ]
  },
  {
   "cell_type": "markdown",
   "id": "6b958dc4-f3bf-4357-b99f-13108b3611b9",
   "metadata": {
    "editable": false,
    "slideshow": {
     "slide_type": ""
    },
    "tags": []
   },
   "source": [
    "---\n",
    "<div style=\"text-align: center; margin-bottom: 25px; background-color: #F6E0F7; padding: 10px; border-radius: 10px;\">\n",
    "\n",
    "<a id='psection_11'></a>\n",
    "\n",
    "<h1 style=\"color: #2E86C1; font-weight: bold;\">Explore Cleaned Data 🔍</h1>\n",
    "\n",
    "</div>\n",
    "\n",
    "<div style=\"border: 2px solid #2E86C1; padding: 20px; border-radius: 10px; margin: 20px 0; box-shadow: 0 4px 8px rgba(0,0,0,0.1);\">\n",
    "\n",
    "<div style=\"font-size: 13px; text-align: center; width: 80%; margin: 20px auto; line-height: 1.6; color: #333;\">\n",
    "\n",
    "Inspect the first 6 rows of <code>merged_df</code> and review its dimensions to understand the structure of the cleaned dataset.\n",
    "\n",
    "</div>\n",
    "\n",
    "</div>"
   ]
  },
  {
   "cell_type": "code",
   "execution_count": 15,
   "id": "4b49f139-01dd-4f40-86d1-182093639bfa",
   "metadata": {
    "editable": false,
    "slideshow": {
     "slide_type": ""
    },
    "tags": []
   },
   "outputs": [
    {
     "name": "stdout",
     "output_type": "stream",
     "text": [
      "(9500, 10)\n"
     ]
    },
    {
     "data": {
      "text/html": [
       "<div>\n",
       "<style scoped>\n",
       "    .dataframe tbody tr th:only-of-type {\n",
       "        vertical-align: middle;\n",
       "    }\n",
       "\n",
       "    .dataframe tbody tr th {\n",
       "        vertical-align: top;\n",
       "    }\n",
       "\n",
       "    .dataframe thead th {\n",
       "        text-align: right;\n",
       "    }\n",
       "</style>\n",
       "<table border=\"1\" class=\"dataframe\">\n",
       "  <thead>\n",
       "    <tr style=\"text-align: right;\">\n",
       "      <th></th>\n",
       "      <th>person_id</th>\n",
       "      <th>sex_at_birth</th>\n",
       "      <th>date_of_birth</th>\n",
       "      <th>race</th>\n",
       "      <th>ethnicity</th>\n",
       "      <th>outcome</th>\n",
       "      <th>outcome_f</th>\n",
       "      <th>predictor</th>\n",
       "      <th>age</th>\n",
       "      <th>age_group</th>\n",
       "    </tr>\n",
       "  </thead>\n",
       "  <tbody>\n",
       "    <tr>\n",
       "      <th>0</th>\n",
       "      <td>1</td>\n",
       "      <td>Female</td>\n",
       "      <td>1997-04-01</td>\n",
       "      <td>White</td>\n",
       "      <td>Not Hispanic or Latino</td>\n",
       "      <td>1</td>\n",
       "      <td>Atopic Dermatitis</td>\n",
       "      <td>Chronic Sinusitis</td>\n",
       "      <td>26</td>\n",
       "      <td>18-29</td>\n",
       "    </tr>\n",
       "    <tr>\n",
       "      <th>1</th>\n",
       "      <td>2</td>\n",
       "      <td>Female</td>\n",
       "      <td>1949-04-10</td>\n",
       "      <td>White</td>\n",
       "      <td>Not Hispanic or Latino</td>\n",
       "      <td>1</td>\n",
       "      <td>Atopic Dermatitis</td>\n",
       "      <td>Chronic Sinusitis</td>\n",
       "      <td>74</td>\n",
       "      <td>70-79</td>\n",
       "    </tr>\n",
       "    <tr>\n",
       "      <th>2</th>\n",
       "      <td>3</td>\n",
       "      <td>Female</td>\n",
       "      <td>1998-11-25</td>\n",
       "      <td>White</td>\n",
       "      <td>Hispanic or Latino</td>\n",
       "      <td>1</td>\n",
       "      <td>Atopic Dermatitis</td>\n",
       "      <td>Chronic Sinusitis</td>\n",
       "      <td>25</td>\n",
       "      <td>18-29</td>\n",
       "    </tr>\n",
       "    <tr>\n",
       "      <th>3</th>\n",
       "      <td>4</td>\n",
       "      <td>Male</td>\n",
       "      <td>1968-04-12</td>\n",
       "      <td>White</td>\n",
       "      <td>Not Hispanic or Latino</td>\n",
       "      <td>1</td>\n",
       "      <td>Atopic Dermatitis</td>\n",
       "      <td>No Chronic Sinusitis</td>\n",
       "      <td>55</td>\n",
       "      <td>50-59</td>\n",
       "    </tr>\n",
       "    <tr>\n",
       "      <th>4</th>\n",
       "      <td>5</td>\n",
       "      <td>Female</td>\n",
       "      <td>1955-09-13</td>\n",
       "      <td>White</td>\n",
       "      <td>Hispanic or Latino</td>\n",
       "      <td>1</td>\n",
       "      <td>Atopic Dermatitis</td>\n",
       "      <td>No Chronic Sinusitis</td>\n",
       "      <td>68</td>\n",
       "      <td>60-69</td>\n",
       "    </tr>\n",
       "  </tbody>\n",
       "</table>\n",
       "</div>"
      ],
      "text/plain": [
       "   person_id sex_at_birth date_of_birth   race               ethnicity  \\\n",
       "0          1       Female    1997-04-01  White  Not Hispanic or Latino   \n",
       "1          2       Female    1949-04-10  White  Not Hispanic or Latino   \n",
       "2          3       Female    1998-11-25  White      Hispanic or Latino   \n",
       "3          4         Male    1968-04-12  White  Not Hispanic or Latino   \n",
       "4          5       Female    1955-09-13  White      Hispanic or Latino   \n",
       "\n",
       "   outcome          outcome_f             predictor  age age_group  \n",
       "0        1  Atopic Dermatitis     Chronic Sinusitis   26     18-29  \n",
       "1        1  Atopic Dermatitis     Chronic Sinusitis   74     70-79  \n",
       "2        1  Atopic Dermatitis     Chronic Sinusitis   25     18-29  \n",
       "3        1  Atopic Dermatitis  No Chronic Sinusitis   55     50-59  \n",
       "4        1  Atopic Dermatitis  No Chronic Sinusitis   68     60-69  "
      ]
     },
     "execution_count": 15,
     "metadata": {},
     "output_type": "execute_result"
    }
   ],
   "source": [
    "print(merged_df.shape)\n",
    "merged_df.head()"
   ]
  },
  {
   "cell_type": "markdown",
   "id": "6917f391-7660-4c37-82ff-b24d88445850",
   "metadata": {
    "editable": false,
    "slideshow": {
     "slide_type": ""
    },
    "tags": []
   },
   "source": [
    "<div style=\"text-align: center; margin-bottom: 20px; background-color: #F6E0F7; padding: 8px; border-radius: 8px;\">\n",
    "\n",
    "<a id='psection_11_1'></a>\n",
    "\n",
    "<h2 style=\"color: #2E86C1; font-weight: bold;\">Numerical Summary 🧮</h2>\n",
    "\n",
    "</div>\n",
    "\n",
    "<div style=\"border: 2px solid #2E86C1; padding: 20px; border-radius: 10px; margin: 20px 0; box-shadow: 0 4px 8px rgba(0,0,0,0.1);\">\n",
    "\n",
    "<div style=\"font-size: 13px; text-align: center; width: 80%; margin: 20px auto; line-height: 1.6; color: #333;\">\n",
    "\n",
    "The code generates a table summarizing counts for categorical variables and means for quantitative variables, grouped by the binary outcome. It evaluates statistical significance using <b>chi-square tests for counts and one-way ANOVA or t-test for means</b>.\n",
    "\n",
    "\n",
    "\n",
    "</div>\n",
    "\n",
    "</div>\n",
    "\n",
    "<div style=\"text-align: center; margin: 12px auto; width: 60%; font-size: 13px; background-color: #e6f2ff; padding: 15px; border-radius: 6px; line-height: 1.6; border: 1px solid #2E86C1;\">\n",
    "PLEASE REVIEW THE <a href=\"https://pitt-my.sharepoint.com/:b:/g/personal/alc244_pitt_edu/EYnZiMKc_4FAiov_ikL6bBwB0AN55QD28xMX2YlwbGDEeQ?e=5iAbnx\"><b>ASSUMPTIONS OF THESE TESTS</b></a>! <br>\n",
    "<br>\n",
    "\n",
    "The p-value threshold is **set to 0.05** for the tests below. When interpreting p-values, especially for large sample sizes, it's important to keep in mind the following points:\n",
    "\n",
    "- <b>Sensitivity to Large Sample Sizes:</b> In large datasets, the statistical power is so high that even negligible differences can produce statistically significant results, potentially overstating the importance of the findings.\n",
    "\n",
    "- <b>Statistical vs. Practical Significance:</b> A small p-value indicates statistical significance but doesn't assess the practical relevance of the findings; it's essential to also consider the magnitude and implications of the effect size.\n",
    "\n",
    "- <b>Multiple Comparisons Issue:</b> Conducting multiple statistical tests increases the likelihood of encountering significant results by chance; in such cases, adjusting p-values or applying stricter significance criteria can help mitigate false discoveries.\n",
    "\n",
    "</div>"
   ]
  },
  {
   "cell_type": "code",
   "execution_count": 16,
   "id": "082f2e8f-884b-46b0-bde8-8788d8f4db3d",
   "metadata": {
    "editable": false,
    "slideshow": {
     "slide_type": ""
    },
    "tags": []
   },
   "outputs": [
    {
     "data": {
      "text/html": [
       "<div>\n",
       "<style scoped>\n",
       "    .dataframe tbody tr th:only-of-type {\n",
       "        vertical-align: middle;\n",
       "    }\n",
       "\n",
       "    .dataframe tbody tr th {\n",
       "        vertical-align: top;\n",
       "    }\n",
       "\n",
       "    .dataframe thead tr th {\n",
       "        text-align: left;\n",
       "    }\n",
       "</style>\n",
       "<table border=\"1\" class=\"dataframe\">\n",
       "  <thead>\n",
       "    <tr>\n",
       "      <th></th>\n",
       "      <th></th>\n",
       "      <th colspan=\"3\" halign=\"left\">Grouped by Outcome</th>\n",
       "    </tr>\n",
       "    <tr>\n",
       "      <th></th>\n",
       "      <th></th>\n",
       "      <th>Atopic Dermatitis (ref)</th>\n",
       "      <th>No Atopic Dermatitis</th>\n",
       "      <th>P-Value</th>\n",
       "    </tr>\n",
       "  </thead>\n",
       "  <tbody>\n",
       "    <tr>\n",
       "      <th>n</th>\n",
       "      <th></th>\n",
       "      <td>1500</td>\n",
       "      <td>8000</td>\n",
       "      <td></td>\n",
       "    </tr>\n",
       "    <tr>\n",
       "      <th>Age, mean (SD)</th>\n",
       "      <th></th>\n",
       "      <td>51.3 (15.9)</td>\n",
       "      <td>45.5 (15.9)</td>\n",
       "      <td>&lt;0.001</td>\n",
       "    </tr>\n",
       "    <tr>\n",
       "      <th rowspan=\"2\" valign=\"top\">Sex, n (%)</th>\n",
       "      <th>Female (ref)</th>\n",
       "      <td>910 (60.7)</td>\n",
       "      <td>4808 (60.1)</td>\n",
       "      <td>0.702</td>\n",
       "    </tr>\n",
       "    <tr>\n",
       "      <th>Male</th>\n",
       "      <td>590 (39.3)</td>\n",
       "      <td>3192 (39.9)</td>\n",
       "      <td></td>\n",
       "    </tr>\n",
       "    <tr>\n",
       "      <th rowspan=\"3\" valign=\"top\">Race, n (%)</th>\n",
       "      <th>Asian (ref)</th>\n",
       "      <td>259 (17.3)</td>\n",
       "      <td>1199 (15.0)</td>\n",
       "      <td>0.077</td>\n",
       "    </tr>\n",
       "    <tr>\n",
       "      <th>Black or African American</th>\n",
       "      <td>208 (13.9)</td>\n",
       "      <td>1162 (14.5)</td>\n",
       "      <td></td>\n",
       "    </tr>\n",
       "    <tr>\n",
       "      <th>White</th>\n",
       "      <td>1033 (68.9)</td>\n",
       "      <td>5639 (70.5)</td>\n",
       "      <td></td>\n",
       "    </tr>\n",
       "    <tr>\n",
       "      <th rowspan=\"2\" valign=\"top\">Ethnicity, n (%)</th>\n",
       "      <th>Hispanic or Latino (ref)</th>\n",
       "      <td>258 (17.2)</td>\n",
       "      <td>1399 (17.5)</td>\n",
       "      <td>0.816</td>\n",
       "    </tr>\n",
       "    <tr>\n",
       "      <th>Not Hispanic or Latino</th>\n",
       "      <td>1242 (82.8)</td>\n",
       "      <td>6601 (82.5)</td>\n",
       "      <td></td>\n",
       "    </tr>\n",
       "    <tr>\n",
       "      <th rowspan=\"6\" valign=\"top\">Age Group, n (%)</th>\n",
       "      <th>18-29 (ref)</th>\n",
       "      <td>201 (13.4)</td>\n",
       "      <td>1655 (20.7)</td>\n",
       "      <td>&lt;0.001</td>\n",
       "    </tr>\n",
       "    <tr>\n",
       "      <th>30-39</th>\n",
       "      <td>188 (12.5)</td>\n",
       "      <td>1508 (18.9)</td>\n",
       "      <td></td>\n",
       "    </tr>\n",
       "    <tr>\n",
       "      <th>40-49</th>\n",
       "      <td>203 (13.5)</td>\n",
       "      <td>1509 (18.9)</td>\n",
       "      <td></td>\n",
       "    </tr>\n",
       "    <tr>\n",
       "      <th>50-59</th>\n",
       "      <td>338 (22.5)</td>\n",
       "      <td>1456 (18.2)</td>\n",
       "      <td></td>\n",
       "    </tr>\n",
       "    <tr>\n",
       "      <th>60-69</th>\n",
       "      <td>398 (26.5)</td>\n",
       "      <td>1236 (15.4)</td>\n",
       "      <td></td>\n",
       "    </tr>\n",
       "    <tr>\n",
       "      <th>70-79</th>\n",
       "      <td>172 (11.5)</td>\n",
       "      <td>636 (8.0)</td>\n",
       "      <td></td>\n",
       "    </tr>\n",
       "    <tr>\n",
       "      <th rowspan=\"2\" valign=\"top\">Predictor, n (%)</th>\n",
       "      <th>Chronic Sinusitis</th>\n",
       "      <td>843 (56.2)</td>\n",
       "      <td>2661 (33.3)</td>\n",
       "      <td>&lt;0.001</td>\n",
       "    </tr>\n",
       "    <tr>\n",
       "      <th>No Chronic Sinusitis (ref)</th>\n",
       "      <td>657 (43.8)</td>\n",
       "      <td>5339 (66.7)</td>\n",
       "      <td></td>\n",
       "    </tr>\n",
       "  </tbody>\n",
       "</table>\n",
       "</div><br />"
      ],
      "text/plain": [
       "                                                 Grouped by Outcome                             \n",
       "                                            Atopic Dermatitis (ref) No Atopic Dermatitis P-Value\n",
       "n                                                              1500                 8000        \n",
       "Age, mean (SD)                                          51.3 (15.9)          45.5 (15.9)  <0.001\n",
       "Sex, n (%)       Female (ref)                            910 (60.7)          4808 (60.1)   0.702\n",
       "                 Male                                    590 (39.3)          3192 (39.9)        \n",
       "Race, n (%)      Asian (ref)                             259 (17.3)          1199 (15.0)   0.077\n",
       "                 Black or African American               208 (13.9)          1162 (14.5)        \n",
       "                 White                                  1033 (68.9)          5639 (70.5)        \n",
       "Ethnicity, n (%) Hispanic or Latino (ref)                258 (17.2)          1399 (17.5)   0.816\n",
       "                 Not Hispanic or Latino                 1242 (82.8)          6601 (82.5)        \n",
       "Age Group, n (%) 18-29 (ref)                             201 (13.4)          1655 (20.7)  <0.001\n",
       "                 30-39                                   188 (12.5)          1508 (18.9)        \n",
       "                 40-49                                   203 (13.5)          1509 (18.9)        \n",
       "                 50-59                                   338 (22.5)          1456 (18.2)        \n",
       "                 60-69                                   398 (26.5)          1236 (15.4)        \n",
       "                 70-79                                   172 (11.5)            636 (8.0)        \n",
       "Predictor, n (%) Chronic Sinusitis                       843 (56.2)          2661 (33.3)  <0.001\n",
       "                 No Chronic Sinusitis (ref)              657 (43.8)          5339 (66.7)        "
      ]
     },
     "execution_count": 16,
     "metadata": {},
     "output_type": "execute_result"
    }
   ],
   "source": [
    "# Some deprecation errors..ignore them\n",
    "warnings.filterwarnings(\"ignore\")\n",
    "\n",
    "# Define labels for the columns\n",
    "labels = {\n",
    "    'sex_at_birth': 'Sex',\n",
    "    'race': 'Race',\n",
    "    'ethnicity': 'Ethnicity',\n",
    "    'age': 'Age',\n",
    "    'age_group': 'Age Group',\n",
    "    'predictor': 'Predictor',\n",
    "    'outcome_f': 'Outcome'\n",
    "}\n",
    "\n",
    "# Specify columns to be included in the table\n",
    "columns = ['age', 'sex_at_birth', 'race', 'ethnicity', 'age_group', 'predictor']\n",
    "\n",
    "# Specify categorical columns\n",
    "categorical = ['sex_at_birth', 'race', 'ethnicity', 'age_group', 'predictor']\n",
    "\n",
    "# Label reference categories\n",
    "def append_ref_to_label(data, exclude_var=None):\n",
    "    for column in data.columns:\n",
    "        if pandas.api.types.is_categorical_dtype(data[column]) and column != exclude_var:\n",
    "            categories = data[column].cat.categories\n",
    "            new_categories = [f\"{cat} (ref)\" if i == 0 else cat for i, cat in enumerate(categories)]\n",
    "            data[column] = data[column].cat.rename_categories(new_categories)\n",
    "    return data\n",
    "\n",
    "labelled_df = merged_df.copy()\n",
    "\n",
    "append_ref_to_label(labelled_df, exclude_var=None)\n",
    "\n",
    "\n",
    "# Create an instance of TableOne with the data\n",
    "table = TableOne(labelled_df, columns=columns, categorical=categorical, groupby='outcome_f', \n",
    "                 rename=labels, pval=True, missing=False, overall=False)\n",
    "\n",
    "# Print the table\n",
    "table"
   ]
  },
  {
   "cell_type": "markdown",
   "id": "5367b311-0258-4339-a7cc-44a84efce801",
   "metadata": {
    "editable": false,
    "slideshow": {
     "slide_type": ""
    },
    "tags": []
   },
   "source": [
    "<div style=\"text-align: center; margin-bottom: 15px; background-color: #F6E0F7; padding: 6px; border-radius: 6px;\">\n",
    "\n",
    "<a id='psection_11_1_1'></a>\n",
    "\n",
    "<h3 style=\"color: #2E86C1; font-weight: bold;\">Equality of Variance Test</h3>\n",
    "\n",
    "</div>\n",
    "\n",
    "<div style=\"border: 2px solid #2E86C1; padding: 20px; border-radius: 10px; margin: 20px 0; box-shadow: 0 4px 8px rgba(0,0,0,0.1);\">\n",
    "\n",
    "<div style=\"font-size: 13px; text-align: center; width: 80%; margin: 20px auto; line-height: 1.6; color: #333;\">\n",
    "\n",
    "**Equality of variance** is an assumption for the one-way ANOVA/t-test above. **Levene's test** is ran below for `age`, a quantitative variable to compares the spread (or variance) of `age` between the case and control groups.\n",
    "</div>\n",
    "\n",
    "</div>"
   ]
  },
  {
   "cell_type": "code",
   "execution_count": 17,
   "id": "b3134a6f-c75c-4af5-9cdb-2b45acb9af43",
   "metadata": {
    "slideshow": {
     "slide_type": ""
    },
    "tags": []
   },
   "outputs": [
    {
     "data": {
      "text/plain": [
       "LeveneResult(statistic=0.17879112807781133, pvalue=0.672423763275722)"
      ]
     },
     "execution_count": 17,
     "metadata": {},
     "output_type": "execute_result"
    }
   ],
   "source": [
    "# Split into case and control groups\n",
    "case_group = merged_df[merged_df['outcome'] == 0]\n",
    "control_group = merged_df[merged_df['outcome'] == 1]\n",
    "# Run Levene's test\n",
    "stats.levene(case_group['age'], control_group['age'], center='mean')"
   ]
  },
  {
   "cell_type": "markdown",
   "id": "559791cc-8b81-4b25-a0a0-44b94a060185",
   "metadata": {
    "editable": false,
    "slideshow": {
     "slide_type": ""
    },
    "tags": []
   },
   "source": [
    "<div style=\"font-size: 13px\"; class=\"alert alert-block alert-warning\">\n",
    "    <b>Interpreting Levene's Test Output:</b>\n",
    "    <ul>\n",
    "        <li><b>statistic:</b> A value representing the significance of the difference in variability among groups. Lower values suggest that variances are more similar.</li>\n",
    "        <li><b>p-value:</b> A value greater than common significance levels (e.g., 0.05), suggesting insufficient evidence to reject the null hypothesis of equal variances.</li>\n",
    "    </ul>\n",
    "\n",
    "</div>"
   ]
  },
  {
   "cell_type": "markdown",
   "id": "d538444e-5bdf-40b7-a9d0-b9e5f0c28a24",
   "metadata": {
    "editable": false,
    "slideshow": {
     "slide_type": ""
    },
    "tags": []
   },
   "source": [
    "<div style=\"text-align: center; margin-bottom: 20px; background-color: #F6E0F7; padding: 8px; border-radius: 8px;\">\n",
    "\n",
    "<a id='psection_11_2'></a>\n",
    "\n",
    "<h2 style=\"color: #2E86C1; font-weight: bold;\">Graphical Summaries 📊</h2>\n",
    "\n",
    "</div>\n",
    "\n",
    "<div style=\"text-align: center; margin-bottom: 15px; background-color: #F6E0F7; padding: 6px; border-radius: 6px;\">\n",
    "\n",
    "<a id='psection_11_2_1'></a>\n",
    "\n",
    "<h3 style=\"color: #2E86C1; font-weight: bold;\">Density/Histogram Plot</h3>\n",
    "\n",
    "</div>\n",
    "\n",
    "<div style=\"border: 2px solid #2E86C1; padding: 20px; border-radius: 10px; margin: 20px 0; box-shadow: 0 4px 8px rgba(0,0,0,0.1);\">\n",
    "\n",
    "<div style=\"font-size: 13px; text-align: center; width: 80%; margin: 20px auto; line-height: 1.6; color: #333;\">\n",
    "\n",
    "This provides a <strong>density/histogram plot of age</strong> in the case and control groups. For this template, <code>age</code> is the only numeric value.\n",
    "\n",
    "</div>\n",
    "\n",
    "</div>"
   ]
  },
  {
   "cell_type": "code",
   "execution_count": 18,
   "id": "e3de0edb-f1d5-4fee-ae09-187d6284ca81",
   "metadata": {
    "editable": false,
    "slideshow": {
     "slide_type": ""
    },
    "tags": []
   },
   "outputs": [
    {
     "data": {
      "text/plain": [
       "<seaborn.axisgrid.FacetGrid at 0x241d0589bd0>"
      ]
     },
     "execution_count": 18,
     "metadata": {},
     "output_type": "execute_result"
    },
    {
     "data": {
      "image/png": "[encoded data removed]",
      "text/plain": [
       "<Figure size 1008x504 with 2 Axes>"
      ]
     },
     "metadata": {
      "needs_background": "light"
     },
     "output_type": "display_data"
    }
   ],
   "source": [
    "# Separate plot by outcome groups\n",
    "# Set height of plot\n",
    "hist_grid = sns.FacetGrid(merged_df, col=\"outcome_f\", height = 7)\n",
    "# Create histogram..specify density as stat\n",
    "hist_grid.map_dataframe(sns.histplot, x='age', stat=\"density\", kde=True, hue='outcome_f')\n",
    "# Set grouping label\n",
    "hist_grid.set_titles(\"{col_name}\")\n",
    "# Set title\n",
    "hist_grid.fig.suptitle(\"Distribution of Age By Case/Control\")\n",
    "# Set axis labels\n",
    "hist_grid.set_axis_labels('Age', 'Density')"
   ]
  },
  {
   "cell_type": "markdown",
   "id": "68d64d09-bf94-460d-a862-bdba219efd55",
   "metadata": {
    "editable": false,
    "slideshow": {
     "slide_type": ""
    },
    "tags": []
   },
   "source": [
    "<div style=\"text-align: center; margin-bottom: 15px; background-color: #F6E0F7; padding: 6px; border-radius: 6px;\">\n",
    "\n",
    "<a id='psection_11_2_2'></a>\n",
    "\n",
    "<h3 style=\"color: #2E86C1; font-weight: bold;\">Bar Plot</h3>\n",
    "\n",
    "</div>\n",
    "\n",
    "<div style=\"border: 2px solid #2E86C1; padding: 20px; border-radius: 10px; margin: 20px 0; box-shadow: 0 4px 8px rgba(0,0,0,0.1);\">\n",
    "\n",
    "<div style=\"font-size: 13px; text-align: center; width: 80%; margin: 20px auto; line-height: 1.6; color: #333;\">\n",
    "\n",
    "This provides a <strong>bar plot of categorical values</strong> in the case and control groups. <strong>Replace the value</strong> assigned to <code>categorical_variable</code> with the column name you would like to observe (i.e. <font color=\"red\">\"sex_at_birth\"</font>). Also, <strong>replace the name</strong> for <code>label</code> with the name you would like to display for the column in the graph (i.e. <font color=\"red\">\"Sex\"</font>)\n",
    "\n",
    "</div>\n",
    "\n",
    "</div>"
   ]
  },
  {
   "cell_type": "code",
   "execution_count": 33,
   "id": "aef834af-7529-4593-a622-5775c9c87ffd",
   "metadata": {
    "editable": true,
    "slideshow": {
     "slide_type": ""
    },
    "tags": []
   },
   "outputs": [],
   "source": [
    "# Specify the column name for the categorical variable\n",
    "categorical_variable = \"race\"\n",
    "label = \"Race\"\n",
    "fig_height = 7"
   ]
  },
  {
   "cell_type": "code",
   "execution_count": 34,
   "id": "a5b7e671-f4aa-462d-992a-40f8155070ba",
   "metadata": {
    "editable": false,
    "jupyter": {
     "source_hidden": true
    },
    "slideshow": {
     "slide_type": ""
    },
    "tags": []
   },
   "outputs": [
    {
     "data": {
      "image/png": "[encoded data removed]",
      "text/plain": [
       "<Figure size 1008x504 with 2 Axes>"
      ]
     },
     "metadata": {
      "needs_background": "light"
     },
     "output_type": "display_data"
    }
   ],
   "source": [
    "# Separate by outcome\n",
    "perc_grid = sns.FacetGrid(merged_df, col=\"outcome_f\", height = fig_height)\n",
    "# Create histogram..specify percentage as stat\n",
    "perc_grid.map_dataframe(sns.histplot, x=categorical_variable, stat=\"percent\", hue=categorical_variable)\n",
    "# Set grouping label\n",
    "perc_grid.set_titles(\"{col_name}\")\n",
    "# Set title\n",
    "perc_grid.fig.suptitle(f\"Proportion of {label} By Case/Control\")\n",
    "# Set axis labels\n",
    "perc_grid.set_axis_labels(label, 'Percent')\n",
    "\n",
    "def annotate(ax):\n",
    "    for p in ax.patches:\n",
    "        if p.get_height() > 0:  # Add annotations only for bars with non-zero height\n",
    "            percentage = '{:.1f}%'.format(p.get_height())\n",
    "            x = p.get_x() + p.get_width() / 2\n",
    "            y = p.get_y() + p.get_height() - 2\n",
    "            ax.text(x, y, percentage, ha='center', va='bottom')\n",
    "\n",
    "# Applying the annotation function to each axis\n",
    "for ax in perc_grid.axes.flat:\n",
    "    annotate(ax)\n",
    "\n",
    "plt.show()"
   ]
  },
  {
   "cell_type": "markdown",
   "id": "646a0fd6-0ee9-4c94-a77a-ed4d5ef28559",
   "metadata": {
    "editable": false,
    "slideshow": {
     "slide_type": ""
    },
    "tags": []
   },
   "source": [
    "---\n",
    "<div style=\"text-align: center; margin-bottom: 25px; background-color: #F6E0F7; padding: 10px; border-radius: 10px;\">\n",
    "\n",
    "<a id='psection_12'></a>\n",
    "\n",
    "<h1 style=\"color: #2E86C1; font-weight: bold;\">Statistical Analysis 📈🧐</h1>\n",
    "\n",
    "</div>\n",
    "\n",
    "<div style=\"border: 2px solid #2E86C1; padding: 20px; border-radius: 10px; margin: 20px 0; box-shadow: 0 4px 8px rgba(0,0,0,0.1);\">\n",
    "\n",
    "<div style=\"font-size: 13px; text-align: center; width: 80%; margin: 20px auto; line-height: 1.6; color: #333;\">\n",
    "    \n",
    "**You have the option to run all the tests listed below, or simply select the specific one you need and execute the cells below it.** \n",
    "\n",
    "</div>\n",
    "\n",
    "</div>\n"
   ]
  },
  {
   "cell_type": "markdown",
   "id": "7c1df337-4d33-4493-b55c-670b3edb5081",
   "metadata": {
    "editable": false,
    "slideshow": {
     "slide_type": ""
    },
    "tags": []
   },
   "source": [
    "<div style=\"text-align: center; margin-bottom: 20px; background-color: #F6E0F7; padding: 8px; border-radius: 8px;\">\n",
    "\n",
    "<a id='psection_12_1'></a>\n",
    "\n",
    "<h2 style=\"color: #2E86C1; font-weight: bold;\">Unadjusted Logistic Regression</h2>\n",
    "\n",
    "</div>\n",
    "\n",
    "<div style=\"border: 2px solid #2E86C1; padding: 20px; border-radius: 10px; margin: 20px 0; box-shadow: 0 4px 8px rgba(0,0,0,0.1);\">\n",
    "<div style=\"font-size: 13px; text-align: center; width: 80%; margin: 20px auto; line-height: 1.6; color: #333;\">\n",
    "\n",
    "Welcome to the section on **Unadjusted Logistic Regression**. This statistical method, also known as \"simple\" or \"bivariate\" logistic regression, serves as a foundational approach to understand the relationship between a binary response variable and a single predictor.\n",
    "\n",
    "Here are some key components to grasp:\n",
    "\n",
    "- **Response Variable:** At its core, this method requires a binary outcome. Think of results like Yes/No, 1/0, or Success/Failure.\n",
    "\n",
    "- **Predictor Variable:** This can be either categorical, such as gender, or continuous like age. For instance, one might be investigating the effect of race on the odds of developing a certain disease.\n",
    "\n",
    "- **Odds Ratio (OR):** A crucial metric in logistic regression. For a categorical predictor, the odds ratio compares the odds of the outcome between different levels of the predictor relative to a reference category, rather than indicating the change in odds for a one-unit increase.\n",
    "\n",
    "Dive in, explore, and use this method to draw meaningful conclusions from your data.\n",
    "\n",
    "</div>\n",
    "\n",
    "</div>\n",
    "\n",
    "<div style=\"text-align: center; margin: 12px auto; width: 60%; font-size: 13px; background-color: #e6f2ff; padding: 15px; border-radius: 6px; line-height: 1.6; border: 1px solid #2E86C1;\">\n",
    "PLEASE REVIEW THE <a href=\"https://pitt-my.sharepoint.com/:w:/g/personal/alc244_pitt_edu/EWC4vBJfBL5FnMK4FS1A1z8BR12P0bqwv8Ge5K_NAORWoA?e=tjtxuM\"><b>ASSUMPTIONS OF THIS TEST</b></a>!<br>\n",
    "<br>\n",
    "\n",
    "The p-value threshold is **set to 0.05** for the tests below. When interpreting p-values, especially for large sample sizes, it's important to keep in mind the following points:\n",
    "\n",
    "- <b>Sensitivity to Large Sample Sizes:</b> In large datasets, the statistical power is so high that even negligible differences can produce statistically significant results, potentially overstating the importance of the findings.\n",
    "\n",
    "- <b>Statistical vs. Practical Significance:</b> A small p-value indicates statistical significance but doesn't assess the practical relevance of the findings; it's essential to also consider the magnitude and implications of the effect size.\n",
    "\n",
    "- <b>Multiple Comparisons Issue:</b> Conducting multiple statistical tests increases the likelihood of encountering significant results by chance; in such cases, adjusting p-values or applying stricter significance criteria can help mitigate false discoveries.\n",
    "\n",
    "</div>"
   ]
  },
  {
   "cell_type": "code",
   "execution_count": 21,
   "id": "eedb91b1-ba28-4e41-9bbd-a352e6014326",
   "metadata": {
    "editable": true,
    "slideshow": {
     "slide_type": ""
    },
    "tags": []
   },
   "outputs": [
    {
     "name": "stdout",
     "output_type": "stream",
     "text": [
      "Optimization terminated successfully.\n",
      "         Current function value: 0.421651\n",
      "         Iterations 6\n"
     ]
    },
    {
     "data": {
      "text/html": [
       "<table class=\"simpletable\">\n",
       "<caption>Logit Regression Results</caption>\n",
       "<tr>\n",
       "  <th>Dep. Variable:</th>        <td>outcome</td>     <th>  No. Observations:  </th>  <td>  9500</td>  \n",
       "</tr>\n",
       "<tr>\n",
       "  <th>Model:</th>                 <td>Logit</td>      <th>  Df Residuals:      </th>  <td>  9498</td>  \n",
       "</tr>\n",
       "<tr>\n",
       "  <th>Method:</th>                 <td>MLE</td>       <th>  Df Model:          </th>  <td>     1</td>  \n",
       "</tr>\n",
       "<tr>\n",
       "  <th>Date:</th>            <td>Wed, 06 Mar 2024</td> <th>  Pseudo R-squ.:     </th>  <td>0.03327</td> \n",
       "</tr>\n",
       "<tr>\n",
       "  <th>Time:</th>                <td>13:31:15</td>     <th>  Log-Likelihood:    </th> <td> -4005.7</td> \n",
       "</tr>\n",
       "<tr>\n",
       "  <th>converged:</th>             <td>True</td>       <th>  LL-Null:           </th> <td> -4143.5</td> \n",
       "</tr>\n",
       "<tr>\n",
       "  <th>Covariance Type:</th>     <td>nonrobust</td>    <th>  LLR p-value:       </th> <td>6.420e-62</td>\n",
       "</tr>\n",
       "</table>\n",
       "<table class=\"simpletable\">\n",
       "<tr>\n",
       "                 <td></td>                   <th>coef</th>     <th>std err</th>      <th>z</th>      <th>P>|z|</th>  <th>[0.025</th>    <th>0.975]</th>  \n",
       "</tr>\n",
       "<tr>\n",
       "  <th>Intercept</th>                      <td>   -2.0951</td> <td>    0.041</td> <td>  -50.674</td> <td> 0.000</td> <td>   -2.176</td> <td>   -2.014</td>\n",
       "</tr>\n",
       "<tr>\n",
       "  <th>predictor[T.Chronic Sinusitis]</th> <td>    0.9456</td> <td>    0.057</td> <td>   16.533</td> <td> 0.000</td> <td>    0.834</td> <td>    1.058</td>\n",
       "</tr>\n",
       "</table>"
      ],
      "text/latex": [
       "\\begin{center}\n",
       "\\begin{tabular}{lclc}\n",
       "\\toprule\n",
       "\\textbf{Dep. Variable:}                 &     outcome      & \\textbf{  No. Observations:  } &     9500    \\\\\n",
       "\\textbf{Model:}                         &      Logit       & \\textbf{  Df Residuals:      } &     9498    \\\\\n",
       "\\textbf{Method:}                        &       MLE        & \\textbf{  Df Model:          } &        1    \\\\\n",
       "\\textbf{Date:}                          & Wed, 06 Mar 2024 & \\textbf{  Pseudo R-squ.:     } &  0.03327    \\\\\n",
       "\\textbf{Time:}                          &     13:31:15     & \\textbf{  Log-Likelihood:    } &   -4005.7   \\\\\n",
       "\\textbf{converged:}                     &       True       & \\textbf{  LL-Null:           } &   -4143.5   \\\\\n",
       "\\textbf{Covariance Type:}               &    nonrobust     & \\textbf{  LLR p-value:       } & 6.420e-62   \\\\\n",
       "\\bottomrule\n",
       "\\end{tabular}\n",
       "\\begin{tabular}{lcccccc}\n",
       "                                        & \\textbf{coef} & \\textbf{std err} & \\textbf{z} & \\textbf{P$> |$z$|$} & \\textbf{[0.025} & \\textbf{0.975]}  \\\\\n",
       "\\midrule\n",
       "\\textbf{Intercept}                      &      -2.0951  &        0.041     &   -50.674  &         0.000        &       -2.176    &       -2.014     \\\\\n",
       "\\textbf{predictor[T.Chronic Sinusitis]} &       0.9456  &        0.057     &    16.533  &         0.000        &        0.834    &        1.058     \\\\\n",
       "\\bottomrule\n",
       "\\end{tabular}\n",
       "%\\caption{Logit Regression Results}\n",
       "\\end{center}"
      ],
      "text/plain": [
       "<class 'statsmodels.iolib.summary.Summary'>\n",
       "\"\"\"\n",
       "                           Logit Regression Results                           \n",
       "==============================================================================\n",
       "Dep. Variable:                outcome   No. Observations:                 9500\n",
       "Model:                          Logit   Df Residuals:                     9498\n",
       "Method:                           MLE   Df Model:                            1\n",
       "Date:                Wed, 06 Mar 2024   Pseudo R-squ.:                 0.03327\n",
       "Time:                        13:31:15   Log-Likelihood:                -4005.7\n",
       "converged:                       True   LL-Null:                       -4143.5\n",
       "Covariance Type:            nonrobust   LLR p-value:                 6.420e-62\n",
       "==================================================================================================\n",
       "                                     coef    std err          z      P>|z|      [0.025      0.975]\n",
       "--------------------------------------------------------------------------------------------------\n",
       "Intercept                         -2.0951      0.041    -50.674      0.000      -2.176      -2.014\n",
       "predictor[T.Chronic Sinusitis]     0.9456      0.057     16.533      0.000       0.834       1.058\n",
       "==================================================================================================\n",
       "\"\"\""
      ]
     },
     "execution_count": 21,
     "metadata": {},
     "output_type": "execute_result"
    }
   ],
   "source": [
    "# Run logistic regression\n",
    "unadj_reg = smf.logit(\"outcome ~ predictor\", data = merged_df).fit()\n",
    "# Show results\n",
    "unadj_reg.summary()"
   ]
  },
  {
   "cell_type": "markdown",
   "id": "9944ebba-ee35-4aa7-981b-c25684bd2f25",
   "metadata": {
    "editable": false,
    "slideshow": {
     "slide_type": ""
    },
    "tags": []
   },
   "source": [
    "<div style=\"font-size: 13px\"; class=\"alert alert-block alert-warning\">\n",
    "<b>Interpreting the Logistic Regression Output:</b>\n",
    "    <ul>\n",
    "        <li><b>Pseudo R-squared:</b> A measure to compare the fit of the model to a null model. It doesn’t have a straightforward interpretation as the proportion of variance explained, but rather it gives us an idea of the improvement of our model over a null model.</li>\n",
    "        <li><b>Log-Likelihood:</b> Representing the log of the likelihood function at its maximum. These will always be negative, and a higher (closer to 0) value indicates a better model fit.</li>\n",
    "        <li><b>LLR p-value:</b> A low p-value suggests that the model is a better fit than a null model with no predictors.</li>\n",
    "        <li><b>coef:</b>\n",
    "            <ul>\n",
    "                <li><code>Intercept</code>: The log-odds of the outcome when all predictors are zero.</li>\n",
    "                <li><code>predictor[T.Chronic Sinusitis]</code>: The change in log-odds of the outcome for a unit change in the predictor.</li>\n",
    "            </ul>\n",
    "        </li>\n",
    "        <li><b>std err:</b> The standard error of the coefficients. It is a measure of the accuracy of the coefficients.</li>\n",
    "        <li><b>z:</b> The z-score, calculated as the coefficient divided by the standard error. It is used to test the hypothesis that the coefficient is different from zero.</li>\n",
    "        <li><b>P>|z|:</b> The p-value associated with the z-score;It helps you infer the statistical significance of each coefficient.</li>\n",
    "        <li><b>[0.025 0.975]:</b> The 95% confidence interval for the coefficient. </li>\n",
    "    </ul>\n",
    "</div>"
   ]
  },
  {
   "cell_type": "markdown",
   "id": "eb783d7d-5d4d-4e08-b38c-90884203b952",
   "metadata": {
    "editable": false,
    "slideshow": {
     "slide_type": ""
    },
    "tags": []
   },
   "source": [
    "<div style=\"text-align: center; margin-bottom: 15px; background-color: #F6E0F7; padding: 6px; border-radius: 6px;\">\n",
    "\n",
    "<a id='psection_12_1_1'></a>\n",
    "\n",
    "<h3 style=\"color: #2E86C1; font-weight: bold;\">Odds Ratio and Confidence Interval</h3>\n",
    "\n",
    "</div>\n",
    "\n",
    "<div style=\"border: 2px solid #2E86C1; padding: 20px; border-radius: 10px; margin: 20px 0; box-shadow: 0 4px 8px rgba(0,0,0,0.1);\">\n",
    "\n",
    "<div style=\"font-size: 13px; text-align: center; width: 80%; margin: 20px auto; line-height: 1.6; color: #333;\">\n",
    "\n",
    "**Interpreting the Unadjusted Logistic Regression Results:**\n",
    "\n",
    "**Chronic Sinusitis:** Those with the `predictor` Chronic Sinusitis have a 157% [130%-188%] increase in the odds of having the `outcome` Atopic Dermatitis when compared to individuals without the `predictor` Chronic Sinusitis.\n",
    "\n",
    "<div style=\"font-size: 13px; text-align: center; width: 90%; margin: 20px auto; color: #555;\">\n",
    "<b>Note:</b> Confidence intervals that span over 1 suggest the result isn't statistically significant at the standard 0.05 level.\n",
    "</div>\n",
    "</div>\n",
    "</div>"
   ]
  },
  {
   "cell_type": "code",
   "execution_count": 35,
   "id": "7efa078b-0eb2-445a-9685-08af54908165",
   "metadata": {
    "editable": false,
    "slideshow": {
     "slide_type": ""
    },
    "tags": []
   },
   "outputs": [
    {
     "data": {
      "text/html": [
       "<div>\n",
       "<style scoped>\n",
       "    .dataframe tbody tr th:only-of-type {\n",
       "        vertical-align: middle;\n",
       "    }\n",
       "\n",
       "    .dataframe tbody tr th {\n",
       "        vertical-align: top;\n",
       "    }\n",
       "\n",
       "    .dataframe thead th {\n",
       "        text-align: right;\n",
       "    }\n",
       "</style>\n",
       "<table border=\"1\" class=\"dataframe\">\n",
       "  <thead>\n",
       "    <tr style=\"text-align: right;\">\n",
       "      <th></th>\n",
       "      <th>OR</th>\n",
       "      <th>2.5%</th>\n",
       "      <th>97.5%</th>\n",
       "    </tr>\n",
       "  </thead>\n",
       "  <tbody>\n",
       "    <tr>\n",
       "      <th>Intercept</th>\n",
       "      <td>0.123057</td>\n",
       "      <td>0.113478</td>\n",
       "      <td>0.133444</td>\n",
       "    </tr>\n",
       "    <tr>\n",
       "      <th>predictor[T.Chronic Sinusitis]</th>\n",
       "      <td>2.574407</td>\n",
       "      <td>2.301398</td>\n",
       "      <td>2.879803</td>\n",
       "    </tr>\n",
       "  </tbody>\n",
       "</table>\n",
       "</div>"
      ],
      "text/plain": [
       "                                      OR      2.5%     97.5%\n",
       "Intercept                       0.123057  0.113478  0.133444\n",
       "predictor[T.Chronic Sinusitis]  2.574407  2.301398  2.879803"
      ]
     },
     "execution_count": 35,
     "metadata": {},
     "output_type": "execute_result"
    }
   ],
   "source": [
    "# Create OR column\n",
    "unadj_odds = pandas.DataFrame(np.exp(unadj_reg.params), columns= ['OR'])\n",
    "# Create CI column\n",
    "unadj_odds[['2.5%', '97.5%']] = np.exp(unadj_reg.conf_int())\n",
    "# Print OR and CI\n",
    "unadj_odds"
   ]
  },
  {
   "cell_type": "markdown",
   "id": "f27d958f-46a9-4797-ac96-9aa7abc1f727",
   "metadata": {
    "editable": false,
    "slideshow": {
     "slide_type": ""
    },
    "tags": []
   },
   "source": [
    "<div style=\"text-align: center; margin-bottom: 15px; background-color: #F6E0F7; padding: 6px; border-radius: 6px;\">\n",
    "\n",
    "<a id='psection_12_2'></a>\n",
    "\n",
    "<h2 style=\"color: #2E86C1; font-weight: bold;\">Adjusted Logistic Regression</h2>\n",
    "\n",
    "</div>\n",
    "\n",
    "<div style=\"border: 2px solid #2E86C1; padding: 20px; border-radius: 10px; margin: 20px 0; box-shadow: 0 4px 8px rgba(0,0,0,0.1);\">\n",
    "<div style=\"font-size: 13px; text-align: center; width: 80%; margin: 20px auto; line-height: 1.6; color: #333;\">\n",
    "\n",
    "Building on the previous unadjusted analysis, the **Adjusted Logistic Regression** now incorporates multiple predictors, allowing us to control for potential confounders. This updated approach includes additional variables like <code>sex</code>, <code>age_group</code>, <code>race</code>, and <code>ethnicity</code>.\n",
    "\n",
    "**Key Points:**\n",
    "\n",
    "- **Multiple Predictor Variables:** By integrating several predictors, both categorical and continuous, this adjusted analysis enables more in-depth insights, like the combined influence of age with other demographics.\n",
    "\n",
    "- **Odds Ratio (OR):** Essential in adjusted analysis, each OR represents the effect of a predictor while holding other variables constant. OR values inform whether a predictor increases, decreases, or has no effect on the likelihood of the outcome.\n",
    "\n",
    "</div>\n",
    "</div>"
   ]
  },
  {
   "cell_type": "code",
   "execution_count": 23,
   "id": "4e9029c8-4dd6-4eb7-b45e-816ecdd7a51a",
   "metadata": {
    "editable": true,
    "slideshow": {
     "slide_type": ""
    },
    "tags": []
   },
   "outputs": [
    {
     "name": "stdout",
     "output_type": "stream",
     "text": [
      "Optimization terminated successfully.\n",
      "         Current function value: 0.411701\n",
      "         Iterations 6\n"
     ]
    },
    {
     "data": {
      "text/html": [
       "<table class=\"simpletable\">\n",
       "<caption>Logit Regression Results</caption>\n",
       "<tr>\n",
       "  <th>Dep. Variable:</th>        <td>outcome</td>     <th>  No. Observations:  </th>  <td>  9500</td>  \n",
       "</tr>\n",
       "<tr>\n",
       "  <th>Model:</th>                 <td>Logit</td>      <th>  Df Residuals:      </th>  <td>  9489</td>  \n",
       "</tr>\n",
       "<tr>\n",
       "  <th>Method:</th>                 <td>MLE</td>       <th>  Df Model:          </th>  <td>    10</td>  \n",
       "</tr>\n",
       "<tr>\n",
       "  <th>Date:</th>            <td>Wed, 06 Mar 2024</td> <th>  Pseudo R-squ.:     </th>  <td>0.05608</td> \n",
       "</tr>\n",
       "<tr>\n",
       "  <th>Time:</th>                <td>13:31:15</td>     <th>  Log-Likelihood:    </th> <td> -3911.2</td> \n",
       "</tr>\n",
       "<tr>\n",
       "  <th>converged:</th>             <td>True</td>       <th>  LL-Null:           </th> <td> -4143.5</td> \n",
       "</tr>\n",
       "<tr>\n",
       "  <th>Covariance Type:</th>     <td>nonrobust</td>    <th>  LLR p-value:       </th> <td>1.473e-93</td>\n",
       "</tr>\n",
       "</table>\n",
       "<table class=\"simpletable\">\n",
       "<tr>\n",
       "                   <td></td>                      <th>coef</th>     <th>std err</th>      <th>z</th>      <th>P>|z|</th>  <th>[0.025</th>    <th>0.975]</th>  \n",
       "</tr>\n",
       "<tr>\n",
       "  <th>Intercept</th>                           <td>   -2.3858</td> <td>    0.123</td> <td>  -19.331</td> <td> 0.000</td> <td>   -2.628</td> <td>   -2.144</td>\n",
       "</tr>\n",
       "<tr>\n",
       "  <th>predictor[T.Chronic Sinusitis]</th>      <td>    0.9293</td> <td>    0.058</td> <td>   16.060</td> <td> 0.000</td> <td>    0.816</td> <td>    1.043</td>\n",
       "</tr>\n",
       "<tr>\n",
       "  <th>ethnicity[T.Not Hispanic or Latino]</th> <td>    0.0272</td> <td>    0.077</td> <td>    0.356</td> <td> 0.722</td> <td>   -0.123</td> <td>    0.177</td>\n",
       "</tr>\n",
       "<tr>\n",
       "  <th>age_group[T.30-39]</th>                  <td>    0.0491</td> <td>    0.109</td> <td>    0.452</td> <td> 0.652</td> <td>   -0.164</td> <td>    0.262</td>\n",
       "</tr>\n",
       "<tr>\n",
       "  <th>age_group[T.40-49]</th>                  <td>    0.1146</td> <td>    0.107</td> <td>    1.072</td> <td> 0.284</td> <td>   -0.095</td> <td>    0.324</td>\n",
       "</tr>\n",
       "<tr>\n",
       "  <th>age_group[T.50-59]</th>                  <td>    0.6216</td> <td>    0.097</td> <td>    6.384</td> <td> 0.000</td> <td>    0.431</td> <td>    0.812</td>\n",
       "</tr>\n",
       "<tr>\n",
       "  <th>age_group[T.60-69]</th>                  <td>    0.9755</td> <td>    0.096</td> <td>   10.187</td> <td> 0.000</td> <td>    0.788</td> <td>    1.163</td>\n",
       "</tr>\n",
       "<tr>\n",
       "  <th>age_group[T.70-79]</th>                  <td>    0.7863</td> <td>    0.116</td> <td>    6.794</td> <td> 0.000</td> <td>    0.559</td> <td>    1.013</td>\n",
       "</tr>\n",
       "<tr>\n",
       "  <th>sex_at_birth[T.Male]</th>                <td>   -0.0295</td> <td>    0.059</td> <td>   -0.499</td> <td> 0.618</td> <td>   -0.145</td> <td>    0.086</td>\n",
       "</tr>\n",
       "<tr>\n",
       "  <th>race[T.Black or African American]</th>   <td>   -0.1907</td> <td>    0.105</td> <td>   -1.823</td> <td> 0.068</td> <td>   -0.396</td> <td>    0.014</td>\n",
       "</tr>\n",
       "<tr>\n",
       "  <th>race[T.White]</th>                       <td>   -0.1708</td> <td>    0.079</td> <td>   -2.172</td> <td> 0.030</td> <td>   -0.325</td> <td>   -0.017</td>\n",
       "</tr>\n",
       "</table>"
      ],
      "text/latex": [
       "\\begin{center}\n",
       "\\begin{tabular}{lclc}\n",
       "\\toprule\n",
       "\\textbf{Dep. Variable:}                      &     outcome      & \\textbf{  No. Observations:  } &     9500    \\\\\n",
       "\\textbf{Model:}                              &      Logit       & \\textbf{  Df Residuals:      } &     9489    \\\\\n",
       "\\textbf{Method:}                             &       MLE        & \\textbf{  Df Model:          } &       10    \\\\\n",
       "\\textbf{Date:}                               & Wed, 06 Mar 2024 & \\textbf{  Pseudo R-squ.:     } &  0.05608    \\\\\n",
       "\\textbf{Time:}                               &     13:31:15     & \\textbf{  Log-Likelihood:    } &   -3911.2   \\\\\n",
       "\\textbf{converged:}                          &       True       & \\textbf{  LL-Null:           } &   -4143.5   \\\\\n",
       "\\textbf{Covariance Type:}                    &    nonrobust     & \\textbf{  LLR p-value:       } & 1.473e-93   \\\\\n",
       "\\bottomrule\n",
       "\\end{tabular}\n",
       "\\begin{tabular}{lcccccc}\n",
       "                                             & \\textbf{coef} & \\textbf{std err} & \\textbf{z} & \\textbf{P$> |$z$|$} & \\textbf{[0.025} & \\textbf{0.975]}  \\\\\n",
       "\\midrule\n",
       "\\textbf{Intercept}                           &      -2.3858  &        0.123     &   -19.331  &         0.000        &       -2.628    &       -2.144     \\\\\n",
       "\\textbf{predictor[T.Chronic Sinusitis]}      &       0.9293  &        0.058     &    16.060  &         0.000        &        0.816    &        1.043     \\\\\n",
       "\\textbf{ethnicity[T.Not Hispanic or Latino]} &       0.0272  &        0.077     &     0.356  &         0.722        &       -0.123    &        0.177     \\\\\n",
       "\\textbf{age\\_group[T.30-39]}                 &       0.0491  &        0.109     &     0.452  &         0.652        &       -0.164    &        0.262     \\\\\n",
       "\\textbf{age\\_group[T.40-49]}                 &       0.1146  &        0.107     &     1.072  &         0.284        &       -0.095    &        0.324     \\\\\n",
       "\\textbf{age\\_group[T.50-59]}                 &       0.6216  &        0.097     &     6.384  &         0.000        &        0.431    &        0.812     \\\\\n",
       "\\textbf{age\\_group[T.60-69]}                 &       0.9755  &        0.096     &    10.187  &         0.000        &        0.788    &        1.163     \\\\\n",
       "\\textbf{age\\_group[T.70-79]}                 &       0.7863  &        0.116     &     6.794  &         0.000        &        0.559    &        1.013     \\\\\n",
       "\\textbf{sex\\_at\\_birth[T.Male]}              &      -0.0295  &        0.059     &    -0.499  &         0.618        &       -0.145    &        0.086     \\\\\n",
       "\\textbf{race[T.Black or African American]}   &      -0.1907  &        0.105     &    -1.823  &         0.068        &       -0.396    &        0.014     \\\\\n",
       "\\textbf{race[T.White]}                       &      -0.1708  &        0.079     &    -2.172  &         0.030        &       -0.325    &       -0.017     \\\\\n",
       "\\bottomrule\n",
       "\\end{tabular}\n",
       "%\\caption{Logit Regression Results}\n",
       "\\end{center}"
      ],
      "text/plain": [
       "<class 'statsmodels.iolib.summary.Summary'>\n",
       "\"\"\"\n",
       "                           Logit Regression Results                           \n",
       "==============================================================================\n",
       "Dep. Variable:                outcome   No. Observations:                 9500\n",
       "Model:                          Logit   Df Residuals:                     9489\n",
       "Method:                           MLE   Df Model:                           10\n",
       "Date:                Wed, 06 Mar 2024   Pseudo R-squ.:                 0.05608\n",
       "Time:                        13:31:15   Log-Likelihood:                -3911.2\n",
       "converged:                       True   LL-Null:                       -4143.5\n",
       "Covariance Type:            nonrobust   LLR p-value:                 1.473e-93\n",
       "=======================================================================================================\n",
       "                                          coef    std err          z      P>|z|      [0.025      0.975]\n",
       "-------------------------------------------------------------------------------------------------------\n",
       "Intercept                              -2.3858      0.123    -19.331      0.000      -2.628      -2.144\n",
       "predictor[T.Chronic Sinusitis]          0.9293      0.058     16.060      0.000       0.816       1.043\n",
       "ethnicity[T.Not Hispanic or Latino]     0.0272      0.077      0.356      0.722      -0.123       0.177\n",
       "age_group[T.30-39]                      0.0491      0.109      0.452      0.652      -0.164       0.262\n",
       "age_group[T.40-49]                      0.1146      0.107      1.072      0.284      -0.095       0.324\n",
       "age_group[T.50-59]                      0.6216      0.097      6.384      0.000       0.431       0.812\n",
       "age_group[T.60-69]                      0.9755      0.096     10.187      0.000       0.788       1.163\n",
       "age_group[T.70-79]                      0.7863      0.116      6.794      0.000       0.559       1.013\n",
       "sex_at_birth[T.Male]                   -0.0295      0.059     -0.499      0.618      -0.145       0.086\n",
       "race[T.Black or African American]      -0.1907      0.105     -1.823      0.068      -0.396       0.014\n",
       "race[T.White]                          -0.1708      0.079     -2.172      0.030      -0.325      -0.017\n",
       "=======================================================================================================\n",
       "\"\"\""
      ]
     },
     "execution_count": 23,
     "metadata": {},
     "output_type": "execute_result"
    }
   ],
   "source": [
    "# Run logistic regression\n",
    "adj_reg = smf.logit(\"outcome ~ predictor + ethnicity + age_group + sex_at_birth + race\", data = merged_df).fit()\n",
    "# Show results\n",
    "adj_reg.summary()"
   ]
  },
  {
   "cell_type": "markdown",
   "id": "332bf9ea-43f4-4d8e-83d6-7dfb62a07a76",
   "metadata": {
    "editable": false,
    "slideshow": {
     "slide_type": ""
    },
    "tags": []
   },
   "source": [
    "<div style=\"text-align: center; margin-bottom: 15px; background-color: #F6E0F7; padding: 6px; border-radius: 6px;\">\n",
    "<a id='psection_12_2_1'></a>\n",
    "<h3 style=\"color: #2E86C1; font-weight: bold;\">Likelihood Ratio Test</h3>\n",
    "</div>\n",
    "\n",
    "<div style=\"border: 2px solid #2E86C1; padding: 20px; border-radius: 10px; margin: 20px 0; box-shadow: 0 4px 8px rgba(0,0,0,0.1);\">\n",
    "<div style=\"font-size: 13px; text-align: center; width: 80%; margin: 20px auto; line-height: 1.6; color: #333;\">\n",
    "\n",
    "For multi-category variables like <code>age_group</code> and <code>race</code>, it's crucial to assess the overall significance of the entire variable, not just individual categories, in determining its relevance to the regression model. A <b>likelihood ratio test</b> is used to compare the fit of your full model (including the variable of interest) against a reduced model (excluding the variable of interest) to see if there's a significant reduction in fit without that variable.\n",
    "\n",
    "</div>\n",
    "</div>"
   ]
  },
  {
   "cell_type": "code",
   "execution_count": 24,
   "id": "4fd54005-abc6-4783-bbbc-8092978b6dff",
   "metadata": {
    "editable": true,
    "jupyter": {
     "source_hidden": true
    },
    "slideshow": {
     "slide_type": ""
    },
    "tags": []
   },
   "outputs": [
    {
     "name": "stdout",
     "output_type": "stream",
     "text": [
      "Optimization terminated successfully.\n",
      "         Current function value: 0.421387\n",
      "         Iterations 6\n",
      "Optimization terminated successfully.\n",
      "         Current function value: 0.411964\n",
      "         Iterations 6\n",
      "LR Test Statistic (No Age): 184.04720814791108, p-value: 7.310192986687796e-38\n",
      "LR Test Statistic (No Race): 5.013156055729269, p-value: 0.08154681325548273\n"
     ]
    }
   ],
   "source": [
    "no_age = smf.logit(\"outcome ~ predictor + ethnicity + sex_at_birth + race\", data = merged_df).fit()\n",
    "no_race = smf.logit(\"outcome ~ predictor + ethnicity + age_group + sex_at_birth\", data = merged_df).fit()\n",
    "\n",
    "# Assuming adj_reg, no_age, and no_race are your model results\n",
    "# Calculate the log-likelihood for each model\n",
    "ll_full = adj_reg.llf  # Log-likelihood of the full model\n",
    "ll_no_age = no_age.llf  # Log-likelihood of the model without age\n",
    "ll_no_race = no_race.llf  # Log-likelihood of the model without race\n",
    "\n",
    "# Calculate the test statistic\n",
    "lr_stat_no_age = -2 * (ll_no_age - ll_full)\n",
    "lr_stat_no_race = -2 * (ll_no_race - ll_full)\n",
    "\n",
    "# Calculate degrees of freedom difference\n",
    "df_diff_no_age = adj_reg.df_model - no_age.df_model\n",
    "df_diff_no_race = adj_reg.df_model - no_race.df_model\n",
    "\n",
    "# Calculate the p-value\n",
    "p_value_no_age = stats.chi2.sf(lr_stat_no_age, df_diff_no_age)\n",
    "p_value_no_race = stats.chi2.sf(lr_stat_no_race, df_diff_no_race)\n",
    "\n",
    "print(f\"LR Test Statistic (No Age): {lr_stat_no_age}, p-value: {p_value_no_age}\")\n",
    "print(f\"LR Test Statistic (No Race): {lr_stat_no_race}, p-value: {p_value_no_race}\")\n",
    "\n"
   ]
  },
  {
   "cell_type": "markdown",
   "id": "da1e3bd4-3692-4dd5-a7a8-e74b6f607bf0",
   "metadata": {
    "editable": true,
    "slideshow": {
     "slide_type": ""
    },
    "tags": []
   },
   "source": [
    "<div style=\"font-size: 13px\"; class=\"alert alert-block alert-warning\">\n",
    "<b>Interpreting the Likelihood Ratio Test Results:</b>\n",
    "    <ul>\n",
    "        <li><b>Current Function Value:</b> Represents the value of the log-likelihood function per observation at its optimum. Lower values indicate a better fit of the model to the data.</li>\n",
    "        <li><b>Iterations:</b> The number of iterations taken to reach the optimization of the model. A lower number of iterations suggests that the model converged more quickly to the best fit.</li>\n",
    "        <li><b>LR Test Statistic:</b> This statistic measures the difference in fit between the full model and a reduced model excluding the <code>age_group</code> and <code>race</code> variables. A large value indicates a significant change in model fit due to the exclusion of <code>age_group</code> or <code>race</code>.</li>\n",
    "    </ul>\n",
    "</div>"
   ]
  },
  {
   "cell_type": "markdown",
   "id": "c9c14033-2366-49ed-98ee-29028a90ad87",
   "metadata": {
    "editable": false,
    "slideshow": {
     "slide_type": ""
    },
    "tags": []
   },
   "source": [
    "<div style=\"text-align: center; margin-bottom: 15px; background-color: #F6E0F7; padding: 6px; border-radius: 6px;\">\n",
    "\n",
    "<a id='psection_12_2_2'></a>\n",
    "\n",
    "<h3 style=\"color: #2E86C1; font-weight: bold;\">Odds Ratio and Confidence Interval</h3>\n",
    "\n",
    "</div>\n",
    "\n",
    "<div style=\"border: 2px solid #2E86C1; padding: 20px; border-radius: 10px; margin: 20px 0; box-shadow: 0 4px 8px rgba(0,0,0,0.1);\">\n",
    "\n",
    "<div style=\"font-size: 13px; text-align: center; width: 80%; margin: 20px auto; line-height: 1.6; color: #333;\">\n",
    "\n",
    "**Interpreting the Adjusted Logistic Regression Results:**\n",
    "\n",
    "**Chronic Sinusitis:** Those with the `predictor` Chronic Sinusitis have 153% [126%-184%] increase in the odds of having the `outcome` Atopic Dermatitis compared to those without Chronic Sinusitis while holding `ethnicity`, `age`, `race`, and `sex` constant. \n",
    "\n",
    "<div style=\"font-size: 13px; text-align: center; width: 90%; margin: 20px auto; color: #555;\">\n",
    "<b>Notes:</b> <br>\n",
    "    <strong>1.</strong> Confidence intervals traversing the value of 1 imply non-significance at the conventional 0.05 level.\n",
    "</div>\n",
    "\n",
    "</div>\n",
    "</div>"
   ]
  },
  {
   "cell_type": "code",
   "execution_count": 25,
   "id": "9d6bb107-0a4e-4bb3-90f1-245976834059",
   "metadata": {
    "editable": false,
    "jupyter": {
     "source_hidden": true
    },
    "slideshow": {
     "slide_type": ""
    },
    "tags": []
   },
   "outputs": [
    {
     "data": {
      "text/html": [
       "<div>\n",
       "<style scoped>\n",
       "    .dataframe tbody tr th:only-of-type {\n",
       "        vertical-align: middle;\n",
       "    }\n",
       "\n",
       "    .dataframe tbody tr th {\n",
       "        vertical-align: top;\n",
       "    }\n",
       "\n",
       "    .dataframe thead th {\n",
       "        text-align: right;\n",
       "    }\n",
       "</style>\n",
       "<table border=\"1\" class=\"dataframe\">\n",
       "  <thead>\n",
       "    <tr style=\"text-align: right;\">\n",
       "      <th></th>\n",
       "      <th>OR</th>\n",
       "      <th>2.5%</th>\n",
       "      <th>97.5%</th>\n",
       "    </tr>\n",
       "  </thead>\n",
       "  <tbody>\n",
       "    <tr>\n",
       "      <th>Intercept</th>\n",
       "      <td>0.092018</td>\n",
       "      <td>0.072247</td>\n",
       "      <td>0.117199</td>\n",
       "    </tr>\n",
       "    <tr>\n",
       "      <th>predictor[T.Chronic Sinusitis]</th>\n",
       "      <td>2.532704</td>\n",
       "      <td>2.261150</td>\n",
       "      <td>2.836870</td>\n",
       "    </tr>\n",
       "    <tr>\n",
       "      <th>ethnicity[T.Not Hispanic or Latino]</th>\n",
       "      <td>1.027606</td>\n",
       "      <td>0.884368</td>\n",
       "      <td>1.194044</td>\n",
       "    </tr>\n",
       "    <tr>\n",
       "      <th>age_group[T.30-39]</th>\n",
       "      <td>1.050355</td>\n",
       "      <td>0.848648</td>\n",
       "      <td>1.300003</td>\n",
       "    </tr>\n",
       "    <tr>\n",
       "      <th>age_group[T.40-49]</th>\n",
       "      <td>1.121464</td>\n",
       "      <td>0.909446</td>\n",
       "      <td>1.382909</td>\n",
       "    </tr>\n",
       "    <tr>\n",
       "      <th>age_group[T.50-59]</th>\n",
       "      <td>1.861838</td>\n",
       "      <td>1.538396</td>\n",
       "      <td>2.253283</td>\n",
       "    </tr>\n",
       "    <tr>\n",
       "      <th>age_group[T.60-69]</th>\n",
       "      <td>2.652389</td>\n",
       "      <td>2.198535</td>\n",
       "      <td>3.199934</td>\n",
       "    </tr>\n",
       "    <tr>\n",
       "      <th>age_group[T.70-79]</th>\n",
       "      <td>2.195361</td>\n",
       "      <td>1.749797</td>\n",
       "      <td>2.754381</td>\n",
       "    </tr>\n",
       "    <tr>\n",
       "      <th>sex_at_birth[T.Male]</th>\n",
       "      <td>0.970924</td>\n",
       "      <td>0.864639</td>\n",
       "      <td>1.090275</td>\n",
       "    </tr>\n",
       "    <tr>\n",
       "      <th>race[T.Black or African American]</th>\n",
       "      <td>0.826406</td>\n",
       "      <td>0.673229</td>\n",
       "      <td>1.014434</td>\n",
       "    </tr>\n",
       "    <tr>\n",
       "      <th>race[T.White]</th>\n",
       "      <td>0.843024</td>\n",
       "      <td>0.722624</td>\n",
       "      <td>0.983484</td>\n",
       "    </tr>\n",
       "  </tbody>\n",
       "</table>\n",
       "</div>"
      ],
      "text/plain": [
       "                                           OR      2.5%     97.5%\n",
       "Intercept                            0.092018  0.072247  0.117199\n",
       "predictor[T.Chronic Sinusitis]       2.532704  2.261150  2.836870\n",
       "ethnicity[T.Not Hispanic or Latino]  1.027606  0.884368  1.194044\n",
       "age_group[T.30-39]                   1.050355  0.848648  1.300003\n",
       "age_group[T.40-49]                   1.121464  0.909446  1.382909\n",
       "age_group[T.50-59]                   1.861838  1.538396  2.253283\n",
       "age_group[T.60-69]                   2.652389  2.198535  3.199934\n",
       "age_group[T.70-79]                   2.195361  1.749797  2.754381\n",
       "sex_at_birth[T.Male]                 0.970924  0.864639  1.090275\n",
       "race[T.Black or African American]    0.826406  0.673229  1.014434\n",
       "race[T.White]                        0.843024  0.722624  0.983484"
      ]
     },
     "execution_count": 25,
     "metadata": {},
     "output_type": "execute_result"
    }
   ],
   "source": [
    "# Create OR column\n",
    "adj_odds = pandas.DataFrame(np.exp(adj_reg.params), columns= ['OR'])\n",
    "# Create CI column\n",
    "adj_odds[['2.5%', '97.5%']] = np.exp(adj_reg.conf_int())\n",
    "# Print OR and CI\n",
    "adj_odds"
   ]
  },
  {
   "cell_type": "markdown",
   "id": "85a5242f-0fa7-4fbf-8d7b-df52a115184c",
   "metadata": {
    "editable": false,
    "slideshow": {
     "slide_type": ""
    },
    "tags": []
   },
   "source": [
    "<div style=\"text-align: center; margin-bottom: 15px; background-color: #F6E0F7; padding: 6px; border-radius: 6px;\">\n",
    "<a id='psection_12_2_3'></a>\n",
    "<h3 style=\"color: #2E86C1; font-weight: bold;\">Summary of Logistic Regressions</h3>\n",
    "</div>\n",
    "\n",
    "<div style=\"border: 2px solid #2E86C1; padding: 20px; border-radius: 10px; margin: 20px 0; box-shadow: 0 4px 8px rgba(0,0,0,0.1);\">\n",
    "<div style=\"font-size: 13px; text-align: center; width: 80%; margin: 20px auto; line-height: 1.6; color: #333;\">\n",
    "\n",
    "This is the final table for the logistic regressions. It shows the unadjusted and adjusted odds ratio for the `predictor` in your analysis.\n",
    "\n",
    "</div>\n",
    "</div>"
   ]
  },
  {
   "cell_type": "code",
   "execution_count": 26,
   "id": "7b8b7aaf-0b1f-4699-ad2a-c980d8fdc559",
   "metadata": {
    "editable": false,
    "jupyter": {
     "source_hidden": true
    },
    "slideshow": {
     "slide_type": ""
    },
    "tags": []
   },
   "outputs": [
    {
     "data": {
      "text/html": [
       "<div>\n",
       "<style scoped>\n",
       "    .dataframe tbody tr th:only-of-type {\n",
       "        vertical-align: middle;\n",
       "    }\n",
       "\n",
       "    .dataframe tbody tr th {\n",
       "        vertical-align: top;\n",
       "    }\n",
       "\n",
       "    .dataframe thead th {\n",
       "        text-align: right;\n",
       "    }\n",
       "</style>\n",
       "<table border=\"1\" class=\"dataframe\">\n",
       "  <thead>\n",
       "    <tr style=\"text-align: right;\">\n",
       "      <th></th>\n",
       "      <th>Predictor</th>\n",
       "      <th>Univariate OR (95% CI)</th>\n",
       "      <th>Multivariate OR (95% CI)</th>\n",
       "    </tr>\n",
       "  </thead>\n",
       "  <tbody>\n",
       "    <tr>\n",
       "      <th></th>\n",
       "      <td>Chronic Sinusitis</td>\n",
       "      <td>2.57 (2.30 - 2.88)</td>\n",
       "      <td>2.53 (2.26 - 2.84)</td>\n",
       "    </tr>\n",
       "  </tbody>\n",
       "</table>\n",
       "</div>"
      ],
      "text/plain": [
       "          Predictor Univariate OR (95% CI) Multivariate OR (95% CI)\n",
       "  Chronic Sinusitis     2.57 (2.30 - 2.88)       2.53 (2.26 - 2.84)"
      ]
     },
     "execution_count": 26,
     "metadata": {},
     "output_type": "execute_result"
    }
   ],
   "source": [
    "# Create table with unadjusted and adjusted OR (CI)\n",
    "final_table = pandas.DataFrame({\n",
    "    'Predictor': condition_2_name,\n",
    "    'Univariate OR (95% CI)': [f\"{unadj_odds['OR'][1]:.2f} ({unadj_odds['2.5%'][1]:.2f} - {unadj_odds['97.5%'][1]:.2f})\"],\n",
    "    'Multivariate OR (95% CI)': [f\"{adj_odds['OR'][1]:.2f} ({adj_odds['2.5%'][1]:.2f} - {adj_odds['97.5%'][1]:.2f})\"],\n",
    "    })\n",
    "\n",
    "# Print table without index \n",
    "final_table.index=[''] * len(final_table)\n",
    "final_table"
   ]
  },
  {
   "cell_type": "markdown",
   "id": "7a333e74-2a48-4d9b-9d4b-17265423ce2d",
   "metadata": {
    "editable": false,
    "slideshow": {
     "slide_type": ""
    },
    "tags": []
   },
   "source": [
    "<div style=\"text-align: center; margin-bottom: 15px; background-color: #F6E0F7; padding: 6px; border-radius: 6px;\">\n",
    "<a id='psection_12_2_4'></a>\n",
    "<h3 style=\"color: #2E86C1; font-weight: bold;\">Forest Plot</h3>\n",
    "</div>\n",
    "\n",
    "<div style=\"border: 2px solid #2E86C1; padding: 20px; border-radius: 10px; margin: 20px 0; box-shadow: 0 4px 8px rgba(0,0,0,0.1);\">\n",
    "<div style=\"font-size: 13px; text-align: center; width: 80%; margin: 20px auto; line-height: 1.6; color: #333;\">\n",
    "This forest plot displays the adjusted ORs for all categorical variables in the analysis.\n",
    "\n",
    "</div>\n",
    "</div>"
   ]
  },
  {
   "cell_type": "code",
   "execution_count": 27,
   "id": "0e623838-699b-4b2b-8302-32d2492a4628",
   "metadata": {
    "editable": false,
    "jupyter": {
     "source_hidden": true
    },
    "slideshow": {
     "slide_type": ""
    },
    "tags": []
   },
   "outputs": [],
   "source": [
    "forest_table = adj_odds[1:][:]\n",
    "forest_table['label'] = [v.split('.')[1].split(']')[0] for v in list(forest_table.index)]"
   ]
  },
  {
   "cell_type": "code",
   "execution_count": 28,
   "id": "205095bc-9b5e-4fa4-b442-f4440a85c2df",
   "metadata": {
    "editable": false,
    "jupyter": {
     "source_hidden": true
    },
    "slideshow": {
     "slide_type": ""
    },
    "tags": []
   },
   "outputs": [
    {
     "data": {
      "image/png": "[encoded data removed]",
      "text/plain": [
       "<Figure size 288x576 with 1 Axes>"
      ]
     },
     "metadata": {},
     "output_type": "display_data"
    }
   ],
   "source": [
    "# Create the forest plot\n",
    "ax = fp.forestplot(forest_table,  # the dataframe with results data\n",
    "                   estimate=\"OR\",  # column containing estimated effect size\n",
    "                   ll=\"2.5%\", hl=\"97.5%\",  # columns containing confidence interval lower and higher limits\n",
    "                   varlabel=\"label\",\n",
    "                   ylabel=\"OR (95% CI)\",\n",
    "                   xlabel=\"Odds Ratio\",\n",
    "                   xticks=[-1, 1, 5])\n",
    "\n",
    "# Add a vertical line at x=1\n",
    "ax.axvline(x=1, color='black', linestyle='--', linewidth=2)  # Customize color, linestyle, and linewidth as needed\n",
    "\n",
    "# Optionally, if you want to try to remove or hide the automatic line at x=0, you can do the following:\n",
    "ax.axvline(x=0, color='white', linewidth=2)  # Attempt to cover it with a line the color of the background\n",
    "\n",
    "# Show the plot\n",
    "plt.show()"
   ]
  },
  {
   "cell_type": "markdown",
   "id": "8ad3bf13-5424-40b1-9998-3a28566f9020",
   "metadata": {
    "editable": false,
    "slideshow": {
     "slide_type": ""
    },
    "tags": []
   },
   "source": [
    "<div style=\"text-align: center; margin-bottom: 15px; background-color: #F6E0F7; padding: 6px; border-radius: 6px;\">\n",
    "\n",
    "<a id='psection_12_3'></a>\n",
    "\n",
    "<h2 style=\"color: #2E86C1; font-weight: bold;\">Stratified Logistic Regression</h2>\n",
    "\n",
    "</div>\n",
    "\n",
    "<div style=\"border: 2px solid #2E86C1; padding: 20px; border-radius: 10px; margin: 20px 0; box-shadow: 0 4px 8px rgba(0,0,0,0.1);\">\n",
    "<div style=\"font-size: 13px; text-align: center; width: 80%; margin: 20px auto; line-height: 1.6; color: #333;\">\n",
    "\n",
    "If you are interested in targeting a specific group in your cohort based on <code>sex_at_birth</code>, <code>age</code>, <code>race</code>, or <code>ethnicity</code>, please use the code snippet below. The <code>strat_variable</code> is the column that contains the <code>strat_group</code> you would like to look at.<br>\n",
    "<br>\n",
    "<b>Make sure to adjust your odds ratio interpretation to account for this change.</b>\n",
    "\n",
    "</div>\n",
    "</div>"
   ]
  },
  {
   "cell_type": "code",
   "execution_count": 29,
   "id": "7d307063-d9a0-43ed-b68f-1fba6f59bae4",
   "metadata": {
    "editable": true,
    "slideshow": {
     "slide_type": ""
    },
    "tags": []
   },
   "outputs": [],
   "source": [
    "strat_variable = \"sex_at_birth\"\n",
    "strat_group = \"Male\""
   ]
  },
  {
   "cell_type": "code",
   "execution_count": 30,
   "id": "b0a179ba-bd69-46d5-84b8-9a723bb077ac",
   "metadata": {
    "editable": false,
    "jupyter": {
     "source_hidden": true
    },
    "slideshow": {
     "slide_type": ""
    },
    "tags": []
   },
   "outputs": [],
   "source": [
    "# Filter the DataFrame\n",
    "strat_df = merged_df[merged_df[strat_variable] == strat_group]\n",
    "\n",
    "# Get column names\n",
    "all_vars = strat_df.columns.tolist()\n",
    "\n",
    "# Remove the unneeded variables from the list of predictors\n",
    "predictor_vars = [var for var in all_vars if var not in ['outcome', 'outcome_f', 'person_id', 'age', 'date_of_birth', strat_variable]]\n",
    "\n",
    "# Create the regression formula string\n",
    "formula_str = 'outcome ~ ' + ' + '.join(predictor_vars)"
   ]
  },
  {
   "cell_type": "code",
   "execution_count": 31,
   "id": "d86d80f2-9bf6-40a7-8da2-b5d9f3097429",
   "metadata": {
    "editable": false,
    "jupyter": {
     "source_hidden": true
    },
    "slideshow": {
     "slide_type": ""
    },
    "tags": []
   },
   "outputs": [
    {
     "name": "stdout",
     "output_type": "stream",
     "text": [
      "Optimization terminated successfully.\n",
      "         Current function value: 0.411714\n",
      "         Iterations 6\n"
     ]
    },
    {
     "data": {
      "text/html": [
       "<table class=\"simpletable\">\n",
       "<caption>Logit Regression Results</caption>\n",
       "<tr>\n",
       "  <th>Dep. Variable:</th>        <td>outcome</td>     <th>  No. Observations:  </th>  <td>  9500</td>  \n",
       "</tr>\n",
       "<tr>\n",
       "  <th>Model:</th>                 <td>Logit</td>      <th>  Df Residuals:      </th>  <td>  9490</td>  \n",
       "</tr>\n",
       "<tr>\n",
       "  <th>Method:</th>                 <td>MLE</td>       <th>  Df Model:          </th>  <td>     9</td>  \n",
       "</tr>\n",
       "<tr>\n",
       "  <th>Date:</th>            <td>Wed, 06 Mar 2024</td> <th>  Pseudo R-squ.:     </th>  <td>0.05605</td> \n",
       "</tr>\n",
       "<tr>\n",
       "  <th>Time:</th>                <td>13:31:16</td>     <th>  Log-Likelihood:    </th> <td> -3911.3</td> \n",
       "</tr>\n",
       "<tr>\n",
       "  <th>converged:</th>             <td>True</td>       <th>  LL-Null:           </th> <td> -4143.5</td> \n",
       "</tr>\n",
       "<tr>\n",
       "  <th>Covariance Type:</th>     <td>nonrobust</td>    <th>  LLR p-value:       </th> <td>2.249e-94</td>\n",
       "</tr>\n",
       "</table>\n",
       "<table class=\"simpletable\">\n",
       "<tr>\n",
       "                   <td></td>                      <th>coef</th>     <th>std err</th>      <th>z</th>      <th>P>|z|</th>  <th>[0.025</th>    <th>0.975]</th>  \n",
       "</tr>\n",
       "<tr>\n",
       "  <th>Intercept</th>                           <td>   -2.3982</td> <td>    0.121</td> <td>  -19.834</td> <td> 0.000</td> <td>   -2.635</td> <td>   -2.161</td>\n",
       "</tr>\n",
       "<tr>\n",
       "  <th>race[T.Black or African American]</th>   <td>   -0.1902</td> <td>    0.105</td> <td>   -1.818</td> <td> 0.069</td> <td>   -0.395</td> <td>    0.015</td>\n",
       "</tr>\n",
       "<tr>\n",
       "  <th>race[T.White]</th>                       <td>   -0.1703</td> <td>    0.079</td> <td>   -2.166</td> <td> 0.030</td> <td>   -0.324</td> <td>   -0.016</td>\n",
       "</tr>\n",
       "<tr>\n",
       "  <th>ethnicity[T.Not Hispanic or Latino]</th> <td>    0.0274</td> <td>    0.077</td> <td>    0.357</td> <td> 0.721</td> <td>   -0.123</td> <td>    0.177</td>\n",
       "</tr>\n",
       "<tr>\n",
       "  <th>predictor[T.Chronic Sinusitis]</th>      <td>    0.9294</td> <td>    0.058</td> <td>   16.061</td> <td> 0.000</td> <td>    0.816</td> <td>    1.043</td>\n",
       "</tr>\n",
       "<tr>\n",
       "  <th>age_group[T.30-39]</th>                  <td>    0.0502</td> <td>    0.109</td> <td>    0.462</td> <td> 0.644</td> <td>   -0.163</td> <td>    0.263</td>\n",
       "</tr>\n",
       "<tr>\n",
       "  <th>age_group[T.40-49]</th>                  <td>    0.1145</td> <td>    0.107</td> <td>    1.071</td> <td> 0.284</td> <td>   -0.095</td> <td>    0.324</td>\n",
       "</tr>\n",
       "<tr>\n",
       "  <th>age_group[T.50-59]</th>                  <td>    0.6211</td> <td>    0.097</td> <td>    6.380</td> <td> 0.000</td> <td>    0.430</td> <td>    0.812</td>\n",
       "</tr>\n",
       "<tr>\n",
       "  <th>age_group[T.60-69]</th>                  <td>    0.9756</td> <td>    0.096</td> <td>   10.189</td> <td> 0.000</td> <td>    0.788</td> <td>    1.163</td>\n",
       "</tr>\n",
       "<tr>\n",
       "  <th>age_group[T.70-79]</th>                  <td>    0.7871</td> <td>    0.116</td> <td>    6.801</td> <td> 0.000</td> <td>    0.560</td> <td>    1.014</td>\n",
       "</tr>\n",
       "</table>"
      ],
      "text/latex": [
       "\\begin{center}\n",
       "\\begin{tabular}{lclc}\n",
       "\\toprule\n",
       "\\textbf{Dep. Variable:}                      &     outcome      & \\textbf{  No. Observations:  } &     9500    \\\\\n",
       "\\textbf{Model:}                              &      Logit       & \\textbf{  Df Residuals:      } &     9490    \\\\\n",
       "\\textbf{Method:}                             &       MLE        & \\textbf{  Df Model:          } &        9    \\\\\n",
       "\\textbf{Date:}                               & Wed, 06 Mar 2024 & \\textbf{  Pseudo R-squ.:     } &  0.05605    \\\\\n",
       "\\textbf{Time:}                               &     13:31:16     & \\textbf{  Log-Likelihood:    } &   -3911.3   \\\\\n",
       "\\textbf{converged:}                          &       True       & \\textbf{  LL-Null:           } &   -4143.5   \\\\\n",
       "\\textbf{Covariance Type:}                    &    nonrobust     & \\textbf{  LLR p-value:       } & 2.249e-94   \\\\\n",
       "\\bottomrule\n",
       "\\end{tabular}\n",
       "\\begin{tabular}{lcccccc}\n",
       "                                             & \\textbf{coef} & \\textbf{std err} & \\textbf{z} & \\textbf{P$> |$z$|$} & \\textbf{[0.025} & \\textbf{0.975]}  \\\\\n",
       "\\midrule\n",
       "\\textbf{Intercept}                           &      -2.3982  &        0.121     &   -19.834  &         0.000        &       -2.635    &       -2.161     \\\\\n",
       "\\textbf{race[T.Black or African American]}   &      -0.1902  &        0.105     &    -1.818  &         0.069        &       -0.395    &        0.015     \\\\\n",
       "\\textbf{race[T.White]}                       &      -0.1703  &        0.079     &    -2.166  &         0.030        &       -0.324    &       -0.016     \\\\\n",
       "\\textbf{ethnicity[T.Not Hispanic or Latino]} &       0.0274  &        0.077     &     0.357  &         0.721        &       -0.123    &        0.177     \\\\\n",
       "\\textbf{predictor[T.Chronic Sinusitis]}      &       0.9294  &        0.058     &    16.061  &         0.000        &        0.816    &        1.043     \\\\\n",
       "\\textbf{age\\_group[T.30-39]}                 &       0.0502  &        0.109     &     0.462  &         0.644        &       -0.163    &        0.263     \\\\\n",
       "\\textbf{age\\_group[T.40-49]}                 &       0.1145  &        0.107     &     1.071  &         0.284        &       -0.095    &        0.324     \\\\\n",
       "\\textbf{age\\_group[T.50-59]}                 &       0.6211  &        0.097     &     6.380  &         0.000        &        0.430    &        0.812     \\\\\n",
       "\\textbf{age\\_group[T.60-69]}                 &       0.9756  &        0.096     &    10.189  &         0.000        &        0.788    &        1.163     \\\\\n",
       "\\textbf{age\\_group[T.70-79]}                 &       0.7871  &        0.116     &     6.801  &         0.000        &        0.560    &        1.014     \\\\\n",
       "\\bottomrule\n",
       "\\end{tabular}\n",
       "%\\caption{Logit Regression Results}\n",
       "\\end{center}"
      ],
      "text/plain": [
       "<class 'statsmodels.iolib.summary.Summary'>\n",
       "\"\"\"\n",
       "                           Logit Regression Results                           \n",
       "==============================================================================\n",
       "Dep. Variable:                outcome   No. Observations:                 9500\n",
       "Model:                          Logit   Df Residuals:                     9490\n",
       "Method:                           MLE   Df Model:                            9\n",
       "Date:                Wed, 06 Mar 2024   Pseudo R-squ.:                 0.05605\n",
       "Time:                        13:31:16   Log-Likelihood:                -3911.3\n",
       "converged:                       True   LL-Null:                       -4143.5\n",
       "Covariance Type:            nonrobust   LLR p-value:                 2.249e-94\n",
       "=======================================================================================================\n",
       "                                          coef    std err          z      P>|z|      [0.025      0.975]\n",
       "-------------------------------------------------------------------------------------------------------\n",
       "Intercept                              -2.3982      0.121    -19.834      0.000      -2.635      -2.161\n",
       "race[T.Black or African American]      -0.1902      0.105     -1.818      0.069      -0.395       0.015\n",
       "race[T.White]                          -0.1703      0.079     -2.166      0.030      -0.324      -0.016\n",
       "ethnicity[T.Not Hispanic or Latino]     0.0274      0.077      0.357      0.721      -0.123       0.177\n",
       "predictor[T.Chronic Sinusitis]          0.9294      0.058     16.061      0.000       0.816       1.043\n",
       "age_group[T.30-39]                      0.0502      0.109      0.462      0.644      -0.163       0.263\n",
       "age_group[T.40-49]                      0.1145      0.107      1.071      0.284      -0.095       0.324\n",
       "age_group[T.50-59]                      0.6211      0.097      6.380      0.000       0.430       0.812\n",
       "age_group[T.60-69]                      0.9756      0.096     10.189      0.000       0.788       1.163\n",
       "age_group[T.70-79]                      0.7871      0.116      6.801      0.000       0.560       1.014\n",
       "=======================================================================================================\n",
       "\"\"\""
      ]
     },
     "execution_count": 31,
     "metadata": {},
     "output_type": "execute_result"
    }
   ],
   "source": [
    "# Run logistic regression\n",
    "strat_reg = smf.logit(formula_str, data = merged_df).fit()\n",
    "# Show results\n",
    "strat_reg.summary()"
   ]
  },
  {
   "cell_type": "markdown",
   "id": "ed45b081-2d05-4780-8c68-346e6f803a2b",
   "metadata": {
    "editable": true,
    "slideshow": {
     "slide_type": ""
    },
    "tags": []
   },
   "source": [
    "<div style=\"text-align: center; margin-bottom: 15px; background-color: #F6E0F7; padding: 6px; border-radius: 6px;\">\n",
    "\n",
    "<a id='psection_12_3_1'></a>\n",
    "\n",
    "<h3 style=\"color: #2E86C1; font-weight: bold;\">Odds Ratio and Confidence Interval</h3>\n",
    "\n",
    "</div>\n",
    "\n",
    "<div style=\"border: 2px solid #2E86C1; padding: 20px; border-radius: 10px; margin: 20px 0; box-shadow: 0 4px 8px rgba(0,0,0,0.1);\">\n",
    "\n",
    "<div style=\"font-size: 13px; text-align: center; width: 80%; margin: 20px auto; line-height: 1.6; color: #333;\">\n",
    "\n",
    "**Interpreting the Stratified Logistic Regression Results:**\n",
    "\n",
    "**Chronic Sinusitis:** Males with the `predictor` Chronic Sinusitis have 137% [98%-184%] increase in the odds of having the `outcome` Atopic Dermatitis compared to males without Chronic Sinusitis while holding `race`, `age`, and `ethnicity` constant. \n",
    "\n",
    "<div style=\"font-size: 13px; text-align: center; width: 90%; margin: 20px auto; color: #555;\">\n",
    "<b>Notes:</b> <br>\n",
    "    <strong>1.</strong> Confidence intervals traversing the value of 1 imply non-significance at the conventional 0.05 level. \n",
    "</div>\n",
    "\n",
    "</div>\n",
    "</div>"
   ]
  },
  {
   "cell_type": "code",
   "execution_count": 32,
   "id": "2dab28e2-3b66-4867-9741-8ba46c719e07",
   "metadata": {
    "editable": true,
    "slideshow": {
     "slide_type": ""
    },
    "tags": []
   },
   "outputs": [
    {
     "data": {
      "text/html": [
       "<div>\n",
       "<style scoped>\n",
       "    .dataframe tbody tr th:only-of-type {\n",
       "        vertical-align: middle;\n",
       "    }\n",
       "\n",
       "    .dataframe tbody tr th {\n",
       "        vertical-align: top;\n",
       "    }\n",
       "\n",
       "    .dataframe thead th {\n",
       "        text-align: right;\n",
       "    }\n",
       "</style>\n",
       "<table border=\"1\" class=\"dataframe\">\n",
       "  <thead>\n",
       "    <tr style=\"text-align: right;\">\n",
       "      <th></th>\n",
       "      <th>OR</th>\n",
       "      <th>2.5%</th>\n",
       "      <th>97.5%</th>\n",
       "    </tr>\n",
       "  </thead>\n",
       "  <tbody>\n",
       "    <tr>\n",
       "      <th>Intercept</th>\n",
       "      <td>0.090881</td>\n",
       "      <td>0.071705</td>\n",
       "      <td>0.115185</td>\n",
       "    </tr>\n",
       "    <tr>\n",
       "      <th>race[T.Black or African American]</th>\n",
       "      <td>0.826831</td>\n",
       "      <td>0.673589</td>\n",
       "      <td>1.014936</td>\n",
       "    </tr>\n",
       "    <tr>\n",
       "      <th>race[T.White]</th>\n",
       "      <td>0.843444</td>\n",
       "      <td>0.722996</td>\n",
       "      <td>0.983958</td>\n",
       "    </tr>\n",
       "    <tr>\n",
       "      <th>ethnicity[T.Not Hispanic or Latino]</th>\n",
       "      <td>1.027739</td>\n",
       "      <td>0.884491</td>\n",
       "      <td>1.194188</td>\n",
       "    </tr>\n",
       "    <tr>\n",
       "      <th>predictor[T.Chronic Sinusitis]</th>\n",
       "      <td>2.532884</td>\n",
       "      <td>2.261315</td>\n",
       "      <td>2.837067</td>\n",
       "    </tr>\n",
       "    <tr>\n",
       "      <th>age_group[T.30-39]</th>\n",
       "      <td>1.051510</td>\n",
       "      <td>0.849621</td>\n",
       "      <td>1.301373</td>\n",
       "    </tr>\n",
       "    <tr>\n",
       "      <th>age_group[T.40-49]</th>\n",
       "      <td>1.121346</td>\n",
       "      <td>0.909351</td>\n",
       "      <td>1.382763</td>\n",
       "    </tr>\n",
       "    <tr>\n",
       "      <th>age_group[T.50-59]</th>\n",
       "      <td>1.861023</td>\n",
       "      <td>1.537737</td>\n",
       "      <td>2.252275</td>\n",
       "    </tr>\n",
       "    <tr>\n",
       "      <th>age_group[T.60-69]</th>\n",
       "      <td>2.652813</td>\n",
       "      <td>2.198898</td>\n",
       "      <td>3.200428</td>\n",
       "    </tr>\n",
       "    <tr>\n",
       "      <th>age_group[T.70-79]</th>\n",
       "      <td>2.197089</td>\n",
       "      <td>1.751206</td>\n",
       "      <td>2.756500</td>\n",
       "    </tr>\n",
       "  </tbody>\n",
       "</table>\n",
       "</div>"
      ],
      "text/plain": [
       "                                           OR      2.5%     97.5%\n",
       "Intercept                            0.090881  0.071705  0.115185\n",
       "race[T.Black or African American]    0.826831  0.673589  1.014936\n",
       "race[T.White]                        0.843444  0.722996  0.983958\n",
       "ethnicity[T.Not Hispanic or Latino]  1.027739  0.884491  1.194188\n",
       "predictor[T.Chronic Sinusitis]       2.532884  2.261315  2.837067\n",
       "age_group[T.30-39]                   1.051510  0.849621  1.301373\n",
       "age_group[T.40-49]                   1.121346  0.909351  1.382763\n",
       "age_group[T.50-59]                   1.861023  1.537737  2.252275\n",
       "age_group[T.60-69]                   2.652813  2.198898  3.200428\n",
       "age_group[T.70-79]                   2.197089  1.751206  2.756500"
      ]
     },
     "execution_count": 32,
     "metadata": {},
     "output_type": "execute_result"
    }
   ],
   "source": [
    "# Create OR column\n",
    "strat_odds = pandas.DataFrame(np.exp(strat_reg.params), columns= ['OR'])\n",
    "# Create CI column\n",
    "strat_odds[['2.5%', '97.5%']] = np.exp(strat_reg.conf_int())\n",
    "# Print OR and CI\n",
    "strat_odds"
   ]
  }
 ],
 "metadata": {
  "kernelspec": {
   "display_name": "Python 3 (ipykernel)",
   "language": "python",
   "name": "python3"
  },
  "language_info": {
   "codemirror_mode": {
    "name": "ipython",
    "version": 3
   },
   "file_extension": ".py",
   "mimetype": "text/x-python",
   "name": "python",
   "nbconvert_exporter": "python",
   "pygments_lexer": "ipython3",
   "version": "3.11.7"
  }
 },
 "nbformat": 4,
 "nbformat_minor": 5
}
